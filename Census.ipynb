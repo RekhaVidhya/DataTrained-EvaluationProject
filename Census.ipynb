{
 "cells": [
  {
   "cell_type": "code",
   "execution_count": 1,
   "id": "f25d22f8",
   "metadata": {},
   "outputs": [],
   "source": [
    "import io\n",
    "import numpy as np\n",
    "import pandas as pd\n",
    "import seaborn as sns\n",
    "import sklearn\n",
    "import math\n",
    "import matplotlib.pyplot as plt\n",
    "df=pd.read_csv(\"https://raw.githubusercontent.com/dsrscientist/dataset1/master/census_income.csv\")"
   ]
  },
  {
   "cell_type": "code",
   "execution_count": 2,
   "id": "0331a6e6",
   "metadata": {},
   "outputs": [
    {
     "data": {
      "text/plain": [
       "Index(['Age', 'Workclass', 'Fnlwgt', 'Education', 'Education_num',\n",
       "       'Marital_status', 'Occupation', 'Relationship', 'Race', 'Sex',\n",
       "       'Capital_gain', 'Capital_loss', 'Hours_per_week', 'Native_country',\n",
       "       'Income'],\n",
       "      dtype='object')"
      ]
     },
     "execution_count": 2,
     "metadata": {},
     "output_type": "execute_result"
    }
   ],
   "source": [
    "df.columns"
   ]
  },
  {
   "cell_type": "code",
   "execution_count": 3,
   "id": "c3078682",
   "metadata": {},
   "outputs": [
    {
     "data": {
      "text/html": [
       "<div>\n",
       "<style scoped>\n",
       "    .dataframe tbody tr th:only-of-type {\n",
       "        vertical-align: middle;\n",
       "    }\n",
       "\n",
       "    .dataframe tbody tr th {\n",
       "        vertical-align: top;\n",
       "    }\n",
       "\n",
       "    .dataframe thead th {\n",
       "        text-align: right;\n",
       "    }\n",
       "</style>\n",
       "<table border=\"1\" class=\"dataframe\">\n",
       "  <thead>\n",
       "    <tr style=\"text-align: right;\">\n",
       "      <th></th>\n",
       "      <th>Age</th>\n",
       "      <th>Workclass</th>\n",
       "      <th>Fnlwgt</th>\n",
       "      <th>Education</th>\n",
       "      <th>Education_num</th>\n",
       "      <th>Marital_status</th>\n",
       "      <th>Occupation</th>\n",
       "      <th>Relationship</th>\n",
       "      <th>Race</th>\n",
       "      <th>Sex</th>\n",
       "      <th>Capital_gain</th>\n",
       "      <th>Capital_loss</th>\n",
       "      <th>Hours_per_week</th>\n",
       "      <th>Native_country</th>\n",
       "      <th>Income</th>\n",
       "    </tr>\n",
       "  </thead>\n",
       "  <tbody>\n",
       "    <tr>\n",
       "      <th>0</th>\n",
       "      <td>50</td>\n",
       "      <td>Self-emp-not-inc</td>\n",
       "      <td>83311</td>\n",
       "      <td>Bachelors</td>\n",
       "      <td>13</td>\n",
       "      <td>Married-civ-spouse</td>\n",
       "      <td>Exec-managerial</td>\n",
       "      <td>Husband</td>\n",
       "      <td>White</td>\n",
       "      <td>Male</td>\n",
       "      <td>0</td>\n",
       "      <td>0</td>\n",
       "      <td>13</td>\n",
       "      <td>United-States</td>\n",
       "      <td>&lt;=50K</td>\n",
       "    </tr>\n",
       "    <tr>\n",
       "      <th>1</th>\n",
       "      <td>38</td>\n",
       "      <td>Private</td>\n",
       "      <td>215646</td>\n",
       "      <td>HS-grad</td>\n",
       "      <td>9</td>\n",
       "      <td>Divorced</td>\n",
       "      <td>Handlers-cleaners</td>\n",
       "      <td>Not-in-family</td>\n",
       "      <td>White</td>\n",
       "      <td>Male</td>\n",
       "      <td>0</td>\n",
       "      <td>0</td>\n",
       "      <td>40</td>\n",
       "      <td>United-States</td>\n",
       "      <td>&lt;=50K</td>\n",
       "    </tr>\n",
       "    <tr>\n",
       "      <th>2</th>\n",
       "      <td>53</td>\n",
       "      <td>Private</td>\n",
       "      <td>234721</td>\n",
       "      <td>11th</td>\n",
       "      <td>7</td>\n",
       "      <td>Married-civ-spouse</td>\n",
       "      <td>Handlers-cleaners</td>\n",
       "      <td>Husband</td>\n",
       "      <td>Black</td>\n",
       "      <td>Male</td>\n",
       "      <td>0</td>\n",
       "      <td>0</td>\n",
       "      <td>40</td>\n",
       "      <td>United-States</td>\n",
       "      <td>&lt;=50K</td>\n",
       "    </tr>\n",
       "    <tr>\n",
       "      <th>3</th>\n",
       "      <td>28</td>\n",
       "      <td>Private</td>\n",
       "      <td>338409</td>\n",
       "      <td>Bachelors</td>\n",
       "      <td>13</td>\n",
       "      <td>Married-civ-spouse</td>\n",
       "      <td>Prof-specialty</td>\n",
       "      <td>Wife</td>\n",
       "      <td>Black</td>\n",
       "      <td>Female</td>\n",
       "      <td>0</td>\n",
       "      <td>0</td>\n",
       "      <td>40</td>\n",
       "      <td>Cuba</td>\n",
       "      <td>&lt;=50K</td>\n",
       "    </tr>\n",
       "    <tr>\n",
       "      <th>4</th>\n",
       "      <td>37</td>\n",
       "      <td>Private</td>\n",
       "      <td>284582</td>\n",
       "      <td>Masters</td>\n",
       "      <td>14</td>\n",
       "      <td>Married-civ-spouse</td>\n",
       "      <td>Exec-managerial</td>\n",
       "      <td>Wife</td>\n",
       "      <td>White</td>\n",
       "      <td>Female</td>\n",
       "      <td>0</td>\n",
       "      <td>0</td>\n",
       "      <td>40</td>\n",
       "      <td>United-States</td>\n",
       "      <td>&lt;=50K</td>\n",
       "    </tr>\n",
       "  </tbody>\n",
       "</table>\n",
       "</div>"
      ],
      "text/plain": [
       "   Age          Workclass  Fnlwgt   Education  Education_num  \\\n",
       "0   50   Self-emp-not-inc   83311   Bachelors             13   \n",
       "1   38            Private  215646     HS-grad              9   \n",
       "2   53            Private  234721        11th              7   \n",
       "3   28            Private  338409   Bachelors             13   \n",
       "4   37            Private  284582     Masters             14   \n",
       "\n",
       "        Marital_status          Occupation    Relationship    Race      Sex  \\\n",
       "0   Married-civ-spouse     Exec-managerial         Husband   White     Male   \n",
       "1             Divorced   Handlers-cleaners   Not-in-family   White     Male   \n",
       "2   Married-civ-spouse   Handlers-cleaners         Husband   Black     Male   \n",
       "3   Married-civ-spouse      Prof-specialty            Wife   Black   Female   \n",
       "4   Married-civ-spouse     Exec-managerial            Wife   White   Female   \n",
       "\n",
       "   Capital_gain  Capital_loss  Hours_per_week  Native_country  Income  \n",
       "0             0             0              13   United-States   <=50K  \n",
       "1             0             0              40   United-States   <=50K  \n",
       "2             0             0              40   United-States   <=50K  \n",
       "3             0             0              40            Cuba   <=50K  \n",
       "4             0             0              40   United-States   <=50K  "
      ]
     },
     "execution_count": 3,
     "metadata": {},
     "output_type": "execute_result"
    }
   ],
   "source": [
    "df.head()"
   ]
  },
  {
   "cell_type": "code",
   "execution_count": 4,
   "id": "c5176076",
   "metadata": {},
   "outputs": [
    {
     "data": {
      "text/html": [
       "<div>\n",
       "<style scoped>\n",
       "    .dataframe tbody tr th:only-of-type {\n",
       "        vertical-align: middle;\n",
       "    }\n",
       "\n",
       "    .dataframe tbody tr th {\n",
       "        vertical-align: top;\n",
       "    }\n",
       "\n",
       "    .dataframe thead th {\n",
       "        text-align: right;\n",
       "    }\n",
       "</style>\n",
       "<table border=\"1\" class=\"dataframe\">\n",
       "  <thead>\n",
       "    <tr style=\"text-align: right;\">\n",
       "      <th></th>\n",
       "      <th>Age</th>\n",
       "      <th>Workclass</th>\n",
       "      <th>Fnlwgt</th>\n",
       "      <th>Education</th>\n",
       "      <th>Education_num</th>\n",
       "      <th>Marital_status</th>\n",
       "      <th>Occupation</th>\n",
       "      <th>Relationship</th>\n",
       "      <th>Race</th>\n",
       "      <th>Sex</th>\n",
       "      <th>Capital_gain</th>\n",
       "      <th>Capital_loss</th>\n",
       "      <th>Hours_per_week</th>\n",
       "      <th>Native_country</th>\n",
       "      <th>Income</th>\n",
       "    </tr>\n",
       "  </thead>\n",
       "  <tbody>\n",
       "    <tr>\n",
       "      <th>32555</th>\n",
       "      <td>27</td>\n",
       "      <td>Private</td>\n",
       "      <td>257302</td>\n",
       "      <td>Assoc-acdm</td>\n",
       "      <td>12</td>\n",
       "      <td>Married-civ-spouse</td>\n",
       "      <td>Tech-support</td>\n",
       "      <td>Wife</td>\n",
       "      <td>White</td>\n",
       "      <td>Female</td>\n",
       "      <td>0</td>\n",
       "      <td>0</td>\n",
       "      <td>38</td>\n",
       "      <td>United-States</td>\n",
       "      <td>&lt;=50K</td>\n",
       "    </tr>\n",
       "    <tr>\n",
       "      <th>32556</th>\n",
       "      <td>40</td>\n",
       "      <td>Private</td>\n",
       "      <td>154374</td>\n",
       "      <td>HS-grad</td>\n",
       "      <td>9</td>\n",
       "      <td>Married-civ-spouse</td>\n",
       "      <td>Machine-op-inspct</td>\n",
       "      <td>Husband</td>\n",
       "      <td>White</td>\n",
       "      <td>Male</td>\n",
       "      <td>0</td>\n",
       "      <td>0</td>\n",
       "      <td>40</td>\n",
       "      <td>United-States</td>\n",
       "      <td>&gt;50K</td>\n",
       "    </tr>\n",
       "    <tr>\n",
       "      <th>32557</th>\n",
       "      <td>58</td>\n",
       "      <td>Private</td>\n",
       "      <td>151910</td>\n",
       "      <td>HS-grad</td>\n",
       "      <td>9</td>\n",
       "      <td>Widowed</td>\n",
       "      <td>Adm-clerical</td>\n",
       "      <td>Unmarried</td>\n",
       "      <td>White</td>\n",
       "      <td>Female</td>\n",
       "      <td>0</td>\n",
       "      <td>0</td>\n",
       "      <td>40</td>\n",
       "      <td>United-States</td>\n",
       "      <td>&lt;=50K</td>\n",
       "    </tr>\n",
       "    <tr>\n",
       "      <th>32558</th>\n",
       "      <td>22</td>\n",
       "      <td>Private</td>\n",
       "      <td>201490</td>\n",
       "      <td>HS-grad</td>\n",
       "      <td>9</td>\n",
       "      <td>Never-married</td>\n",
       "      <td>Adm-clerical</td>\n",
       "      <td>Own-child</td>\n",
       "      <td>White</td>\n",
       "      <td>Male</td>\n",
       "      <td>0</td>\n",
       "      <td>0</td>\n",
       "      <td>20</td>\n",
       "      <td>United-States</td>\n",
       "      <td>&lt;=50K</td>\n",
       "    </tr>\n",
       "    <tr>\n",
       "      <th>32559</th>\n",
       "      <td>52</td>\n",
       "      <td>Self-emp-inc</td>\n",
       "      <td>287927</td>\n",
       "      <td>HS-grad</td>\n",
       "      <td>9</td>\n",
       "      <td>Married-civ-spouse</td>\n",
       "      <td>Exec-managerial</td>\n",
       "      <td>Wife</td>\n",
       "      <td>White</td>\n",
       "      <td>Female</td>\n",
       "      <td>15024</td>\n",
       "      <td>0</td>\n",
       "      <td>40</td>\n",
       "      <td>United-States</td>\n",
       "      <td>&gt;50K</td>\n",
       "    </tr>\n",
       "  </tbody>\n",
       "</table>\n",
       "</div>"
      ],
      "text/plain": [
       "       Age      Workclass  Fnlwgt    Education  Education_num  \\\n",
       "32555   27        Private  257302   Assoc-acdm             12   \n",
       "32556   40        Private  154374      HS-grad              9   \n",
       "32557   58        Private  151910      HS-grad              9   \n",
       "32558   22        Private  201490      HS-grad              9   \n",
       "32559   52   Self-emp-inc  287927      HS-grad              9   \n",
       "\n",
       "            Marital_status          Occupation Relationship    Race      Sex  \\\n",
       "32555   Married-civ-spouse        Tech-support         Wife   White   Female   \n",
       "32556   Married-civ-spouse   Machine-op-inspct      Husband   White     Male   \n",
       "32557              Widowed        Adm-clerical    Unmarried   White   Female   \n",
       "32558        Never-married        Adm-clerical    Own-child   White     Male   \n",
       "32559   Married-civ-spouse     Exec-managerial         Wife   White   Female   \n",
       "\n",
       "       Capital_gain  Capital_loss  Hours_per_week  Native_country  Income  \n",
       "32555             0             0              38   United-States   <=50K  \n",
       "32556             0             0              40   United-States    >50K  \n",
       "32557             0             0              40   United-States   <=50K  \n",
       "32558             0             0              20   United-States   <=50K  \n",
       "32559         15024             0              40   United-States    >50K  "
      ]
     },
     "execution_count": 4,
     "metadata": {},
     "output_type": "execute_result"
    }
   ],
   "source": [
    "df.tail()"
   ]
  },
  {
   "cell_type": "code",
   "execution_count": 5,
   "id": "8b7b6623",
   "metadata": {},
   "outputs": [
    {
     "data": {
      "text/html": [
       "<div>\n",
       "<style scoped>\n",
       "    .dataframe tbody tr th:only-of-type {\n",
       "        vertical-align: middle;\n",
       "    }\n",
       "\n",
       "    .dataframe tbody tr th {\n",
       "        vertical-align: top;\n",
       "    }\n",
       "\n",
       "    .dataframe thead th {\n",
       "        text-align: right;\n",
       "    }\n",
       "</style>\n",
       "<table border=\"1\" class=\"dataframe\">\n",
       "  <thead>\n",
       "    <tr style=\"text-align: right;\">\n",
       "      <th></th>\n",
       "      <th>Age</th>\n",
       "      <th>Fnlwgt</th>\n",
       "      <th>Education_num</th>\n",
       "      <th>Capital_gain</th>\n",
       "      <th>Capital_loss</th>\n",
       "      <th>Hours_per_week</th>\n",
       "    </tr>\n",
       "  </thead>\n",
       "  <tbody>\n",
       "    <tr>\n",
       "      <th>count</th>\n",
       "      <td>32560.000000</td>\n",
       "      <td>3.256000e+04</td>\n",
       "      <td>32560.000000</td>\n",
       "      <td>32560.000000</td>\n",
       "      <td>32560.000000</td>\n",
       "      <td>32560.000000</td>\n",
       "    </tr>\n",
       "    <tr>\n",
       "      <th>mean</th>\n",
       "      <td>38.581634</td>\n",
       "      <td>1.897818e+05</td>\n",
       "      <td>10.080590</td>\n",
       "      <td>1077.615172</td>\n",
       "      <td>87.306511</td>\n",
       "      <td>40.437469</td>\n",
       "    </tr>\n",
       "    <tr>\n",
       "      <th>std</th>\n",
       "      <td>13.640642</td>\n",
       "      <td>1.055498e+05</td>\n",
       "      <td>2.572709</td>\n",
       "      <td>7385.402999</td>\n",
       "      <td>402.966116</td>\n",
       "      <td>12.347618</td>\n",
       "    </tr>\n",
       "    <tr>\n",
       "      <th>min</th>\n",
       "      <td>17.000000</td>\n",
       "      <td>1.228500e+04</td>\n",
       "      <td>1.000000</td>\n",
       "      <td>0.000000</td>\n",
       "      <td>0.000000</td>\n",
       "      <td>1.000000</td>\n",
       "    </tr>\n",
       "    <tr>\n",
       "      <th>25%</th>\n",
       "      <td>28.000000</td>\n",
       "      <td>1.178315e+05</td>\n",
       "      <td>9.000000</td>\n",
       "      <td>0.000000</td>\n",
       "      <td>0.000000</td>\n",
       "      <td>40.000000</td>\n",
       "    </tr>\n",
       "    <tr>\n",
       "      <th>50%</th>\n",
       "      <td>37.000000</td>\n",
       "      <td>1.783630e+05</td>\n",
       "      <td>10.000000</td>\n",
       "      <td>0.000000</td>\n",
       "      <td>0.000000</td>\n",
       "      <td>40.000000</td>\n",
       "    </tr>\n",
       "    <tr>\n",
       "      <th>75%</th>\n",
       "      <td>48.000000</td>\n",
       "      <td>2.370545e+05</td>\n",
       "      <td>12.000000</td>\n",
       "      <td>0.000000</td>\n",
       "      <td>0.000000</td>\n",
       "      <td>45.000000</td>\n",
       "    </tr>\n",
       "    <tr>\n",
       "      <th>max</th>\n",
       "      <td>90.000000</td>\n",
       "      <td>1.484705e+06</td>\n",
       "      <td>16.000000</td>\n",
       "      <td>99999.000000</td>\n",
       "      <td>4356.000000</td>\n",
       "      <td>99.000000</td>\n",
       "    </tr>\n",
       "  </tbody>\n",
       "</table>\n",
       "</div>"
      ],
      "text/plain": [
       "                Age        Fnlwgt  Education_num  Capital_gain  Capital_loss  \\\n",
       "count  32560.000000  3.256000e+04   32560.000000  32560.000000  32560.000000   \n",
       "mean      38.581634  1.897818e+05      10.080590   1077.615172     87.306511   \n",
       "std       13.640642  1.055498e+05       2.572709   7385.402999    402.966116   \n",
       "min       17.000000  1.228500e+04       1.000000      0.000000      0.000000   \n",
       "25%       28.000000  1.178315e+05       9.000000      0.000000      0.000000   \n",
       "50%       37.000000  1.783630e+05      10.000000      0.000000      0.000000   \n",
       "75%       48.000000  2.370545e+05      12.000000      0.000000      0.000000   \n",
       "max       90.000000  1.484705e+06      16.000000  99999.000000   4356.000000   \n",
       "\n",
       "       Hours_per_week  \n",
       "count    32560.000000  \n",
       "mean        40.437469  \n",
       "std         12.347618  \n",
       "min          1.000000  \n",
       "25%         40.000000  \n",
       "50%         40.000000  \n",
       "75%         45.000000  \n",
       "max         99.000000  "
      ]
     },
     "execution_count": 5,
     "metadata": {},
     "output_type": "execute_result"
    }
   ],
   "source": [
    "df.describe()"
   ]
  },
  {
   "cell_type": "code",
   "execution_count": 6,
   "id": "c4d6392e",
   "metadata": {},
   "outputs": [
    {
     "name": "stdout",
     "output_type": "stream",
     "text": [
      "<class 'pandas.core.frame.DataFrame'>\n",
      "RangeIndex: 32560 entries, 0 to 32559\n",
      "Data columns (total 15 columns):\n",
      " #   Column          Non-Null Count  Dtype \n",
      "---  ------          --------------  ----- \n",
      " 0   Age             32560 non-null  int64 \n",
      " 1   Workclass       32560 non-null  object\n",
      " 2   Fnlwgt          32560 non-null  int64 \n",
      " 3   Education       32560 non-null  object\n",
      " 4   Education_num   32560 non-null  int64 \n",
      " 5   Marital_status  32560 non-null  object\n",
      " 6   Occupation      32560 non-null  object\n",
      " 7   Relationship    32560 non-null  object\n",
      " 8   Race            32560 non-null  object\n",
      " 9   Sex             32560 non-null  object\n",
      " 10  Capital_gain    32560 non-null  int64 \n",
      " 11  Capital_loss    32560 non-null  int64 \n",
      " 12  Hours_per_week  32560 non-null  int64 \n",
      " 13  Native_country  32560 non-null  object\n",
      " 14  Income          32560 non-null  object\n",
      "dtypes: int64(6), object(9)\n",
      "memory usage: 3.7+ MB\n"
     ]
    }
   ],
   "source": [
    "df.info()"
   ]
  },
  {
   "cell_type": "markdown",
   "id": "40dc402b",
   "metadata": {},
   "source": [
    "No missing values found in the dataset"
   ]
  },
  {
   "cell_type": "code",
   "execution_count": 7,
   "id": "1570a681",
   "metadata": {},
   "outputs": [
    {
     "data": {
      "text/plain": [
       "Age                int64\n",
       "Workclass         object\n",
       "Fnlwgt             int64\n",
       "Education         object\n",
       "Education_num      int64\n",
       "Marital_status    object\n",
       "Occupation        object\n",
       "Relationship      object\n",
       "Race              object\n",
       "Sex               object\n",
       "Capital_gain       int64\n",
       "Capital_loss       int64\n",
       "Hours_per_week     int64\n",
       "Native_country    object\n",
       "Income            object\n",
       "dtype: object"
      ]
     },
     "execution_count": 7,
     "metadata": {},
     "output_type": "execute_result"
    }
   ],
   "source": [
    "df.dtypes"
   ]
  },
  {
   "cell_type": "code",
   "execution_count": 8,
   "id": "f7a769a3",
   "metadata": {},
   "outputs": [
    {
     "data": {
      "text/plain": [
       "array([' <=50K', ' >50K'], dtype=object)"
      ]
     },
     "execution_count": 8,
     "metadata": {},
     "output_type": "execute_result"
    }
   ],
   "source": [
    "df[\"Income\"].unique()"
   ]
  },
  {
   "cell_type": "code",
   "execution_count": 9,
   "id": "d603ac96",
   "metadata": {},
   "outputs": [
    {
     "data": {
      "text/plain": [
       "array([' Self-emp-not-inc', ' Private', ' State-gov', ' Federal-gov',\n",
       "       ' Local-gov', ' ?', ' Self-emp-inc', ' Without-pay',\n",
       "       ' Never-worked'], dtype=object)"
      ]
     },
     "execution_count": 9,
     "metadata": {},
     "output_type": "execute_result"
    }
   ],
   "source": [
    "df[\"Workclass\"].unique()"
   ]
  },
  {
   "cell_type": "code",
   "execution_count": 14,
   "id": "28977992",
   "metadata": {},
   "outputs": [],
   "source": [
    "df[\"Workclass\"]=df[\"Workclass\"].replace(' ?', np.nan)"
   ]
  },
  {
   "cell_type": "code",
   "execution_count": 15,
   "id": "5675d1e1",
   "metadata": {},
   "outputs": [
    {
     "data": {
      "text/plain": [
       "array([' Self-emp-not-inc', ' Private', ' State-gov', ' Federal-gov',\n",
       "       ' Local-gov', nan, ' Self-emp-inc', ' Without-pay',\n",
       "       ' Never-worked'], dtype=object)"
      ]
     },
     "execution_count": 15,
     "metadata": {},
     "output_type": "execute_result"
    }
   ],
   "source": [
    "df[\"Workclass\"].unique()"
   ]
  },
  {
   "cell_type": "markdown",
   "id": "c887dc5d",
   "metadata": {},
   "source": [
    "df.isnull().sum()"
   ]
  },
  {
   "cell_type": "code",
   "execution_count": 19,
   "id": "1ca456a1",
   "metadata": {},
   "outputs": [
    {
     "data": {
      "text/plain": [
       "(32560, 15)"
      ]
     },
     "execution_count": 19,
     "metadata": {},
     "output_type": "execute_result"
    }
   ],
   "source": [
    "df.shape"
   ]
  },
  {
   "cell_type": "markdown",
   "id": "8ab014e3",
   "metadata": {},
   "source": [
    "There are missing values in Workclass as we have replaced a incorrect value with NaN"
   ]
  },
  {
   "cell_type": "code",
   "execution_count": 21,
   "id": "4448143b",
   "metadata": {},
   "outputs": [
    {
     "data": {
      "text/plain": [
       "array([' Exec-managerial', ' Handlers-cleaners', ' Prof-specialty',\n",
       "       ' Other-service', ' Adm-clerical', ' Sales', ' Craft-repair',\n",
       "       ' Transport-moving', ' Farming-fishing', ' Machine-op-inspct',\n",
       "       ' Tech-support', ' ?', ' Protective-serv', ' Armed-Forces',\n",
       "       ' Priv-house-serv'], dtype=object)"
      ]
     },
     "execution_count": 21,
     "metadata": {},
     "output_type": "execute_result"
    }
   ],
   "source": [
    "df[\"Occupation\"].unique()"
   ]
  },
  {
   "cell_type": "code",
   "execution_count": 23,
   "id": "a734908a",
   "metadata": {},
   "outputs": [
    {
     "data": {
      "text/plain": [
       "array([' Exec-managerial', ' Handlers-cleaners', ' Prof-specialty',\n",
       "       ' Other-service', ' Adm-clerical', ' Sales', ' Craft-repair',\n",
       "       ' Transport-moving', ' Farming-fishing', ' Machine-op-inspct',\n",
       "       ' Tech-support', nan, ' Protective-serv', ' Armed-Forces',\n",
       "       ' Priv-house-serv'], dtype=object)"
      ]
     },
     "execution_count": 23,
     "metadata": {},
     "output_type": "execute_result"
    }
   ],
   "source": [
    "df[\"Occupation\"]=df[\"Occupation\"].replace(' ?', np.nan)\n",
    "df[\"Occupation\"].unique()"
   ]
  },
  {
   "cell_type": "code",
   "execution_count": 24,
   "id": "d73252e2",
   "metadata": {},
   "outputs": [
    {
     "data": {
      "text/plain": [
       "array([' Bachelors', ' HS-grad', ' 11th', ' Masters', ' 9th',\n",
       "       ' Some-college', ' Assoc-acdm', ' Assoc-voc', ' 7th-8th',\n",
       "       ' Doctorate', ' Prof-school', ' 5th-6th', ' 10th', ' 1st-4th',\n",
       "       ' Preschool', ' 12th'], dtype=object)"
      ]
     },
     "execution_count": 24,
     "metadata": {},
     "output_type": "execute_result"
    }
   ],
   "source": [
    "df[\"Education\"].unique()"
   ]
  },
  {
   "cell_type": "code",
   "execution_count": 25,
   "id": "ab65581f",
   "metadata": {},
   "outputs": [
    {
     "data": {
      "text/plain": [
       "array([' Married-civ-spouse', ' Divorced', ' Married-spouse-absent',\n",
       "       ' Never-married', ' Separated', ' Married-AF-spouse', ' Widowed'],\n",
       "      dtype=object)"
      ]
     },
     "execution_count": 25,
     "metadata": {},
     "output_type": "execute_result"
    }
   ],
   "source": [
    "df[\"Marital_status\"].unique()"
   ]
  },
  {
   "cell_type": "code",
   "execution_count": 26,
   "id": "e4b66d1f",
   "metadata": {},
   "outputs": [
    {
     "data": {
      "text/plain": [
       "array([' Husband', ' Not-in-family', ' Wife', ' Own-child', ' Unmarried',\n",
       "       ' Other-relative'], dtype=object)"
      ]
     },
     "execution_count": 26,
     "metadata": {},
     "output_type": "execute_result"
    }
   ],
   "source": [
    "df[\"Relationship\"].unique()"
   ]
  },
  {
   "cell_type": "code",
   "execution_count": 27,
   "id": "290eb8aa",
   "metadata": {},
   "outputs": [
    {
     "data": {
      "text/plain": [
       "array([' White', ' Black', ' Asian-Pac-Islander', ' Amer-Indian-Eskimo',\n",
       "       ' Other'], dtype=object)"
      ]
     },
     "execution_count": 27,
     "metadata": {},
     "output_type": "execute_result"
    }
   ],
   "source": [
    "df[\"Race\"].unique()"
   ]
  },
  {
   "cell_type": "code",
   "execution_count": 28,
   "id": "6eb04b75",
   "metadata": {},
   "outputs": [
    {
     "data": {
      "text/plain": [
       "array([' Male', ' Female'], dtype=object)"
      ]
     },
     "execution_count": 28,
     "metadata": {},
     "output_type": "execute_result"
    }
   ],
   "source": [
    "df[\"Sex\"].unique()"
   ]
  },
  {
   "cell_type": "code",
   "execution_count": 29,
   "id": "3373dc91",
   "metadata": {},
   "outputs": [
    {
     "data": {
      "text/plain": [
       "array([' United-States', ' Cuba', ' Jamaica', ' India', ' ?', ' Mexico',\n",
       "       ' South', ' Puerto-Rico', ' Honduras', ' England', ' Canada',\n",
       "       ' Germany', ' Iran', ' Philippines', ' Italy', ' Poland',\n",
       "       ' Columbia', ' Cambodia', ' Thailand', ' Ecuador', ' Laos',\n",
       "       ' Taiwan', ' Haiti', ' Portugal', ' Dominican-Republic',\n",
       "       ' El-Salvador', ' France', ' Guatemala', ' China', ' Japan',\n",
       "       ' Yugoslavia', ' Peru', ' Outlying-US(Guam-USVI-etc)', ' Scotland',\n",
       "       ' Trinadad&Tobago', ' Greece', ' Nicaragua', ' Vietnam', ' Hong',\n",
       "       ' Ireland', ' Hungary', ' Holand-Netherlands'], dtype=object)"
      ]
     },
     "execution_count": 29,
     "metadata": {},
     "output_type": "execute_result"
    }
   ],
   "source": [
    "df[\"Native_country\"].unique()"
   ]
  },
  {
   "cell_type": "code",
   "execution_count": 30,
   "id": "a8ff3afd",
   "metadata": {},
   "outputs": [],
   "source": [
    "df[\"Native_country\"]=df[\"Native_country\"].replace(' ?', np.nan)"
   ]
  },
  {
   "cell_type": "code",
   "execution_count": 31,
   "id": "d9404842",
   "metadata": {},
   "outputs": [
    {
     "data": {
      "text/plain": [
       "array([' United-States', ' Cuba', ' Jamaica', ' India', nan, ' Mexico',\n",
       "       ' South', ' Puerto-Rico', ' Honduras', ' England', ' Canada',\n",
       "       ' Germany', ' Iran', ' Philippines', ' Italy', ' Poland',\n",
       "       ' Columbia', ' Cambodia', ' Thailand', ' Ecuador', ' Laos',\n",
       "       ' Taiwan', ' Haiti', ' Portugal', ' Dominican-Republic',\n",
       "       ' El-Salvador', ' France', ' Guatemala', ' China', ' Japan',\n",
       "       ' Yugoslavia', ' Peru', ' Outlying-US(Guam-USVI-etc)', ' Scotland',\n",
       "       ' Trinadad&Tobago', ' Greece', ' Nicaragua', ' Vietnam', ' Hong',\n",
       "       ' Ireland', ' Hungary', ' Holand-Netherlands'], dtype=object)"
      ]
     },
     "execution_count": 31,
     "metadata": {},
     "output_type": "execute_result"
    }
   ],
   "source": [
    "df[\"Native_country\"].unique()"
   ]
  },
  {
   "cell_type": "code",
   "execution_count": 32,
   "id": "ed457d02",
   "metadata": {},
   "outputs": [
    {
     "data": {
      "text/plain": [
       "array([' <=50K', ' >50K'], dtype=object)"
      ]
     },
     "execution_count": 32,
     "metadata": {},
     "output_type": "execute_result"
    }
   ],
   "source": [
    "df[\"Income\"].unique()"
   ]
  },
  {
   "cell_type": "markdown",
   "id": "44d59a3a",
   "metadata": {},
   "source": [
    "so from the above we could see that Native country,Occupation and Workclass has missing values after replacing incorrect characters with Nan"
   ]
  },
  {
   "cell_type": "code",
   "execution_count": 33,
   "id": "f023414e",
   "metadata": {},
   "outputs": [
    {
     "data": {
      "text/plain": [
       "Age                  0\n",
       "Workclass         1836\n",
       "Fnlwgt               0\n",
       "Education            0\n",
       "Education_num        0\n",
       "Marital_status       0\n",
       "Occupation        1843\n",
       "Relationship         0\n",
       "Race                 0\n",
       "Sex                  0\n",
       "Capital_gain         0\n",
       "Capital_loss         0\n",
       "Hours_per_week       0\n",
       "Native_country     583\n",
       "Income               0\n",
       "dtype: int64"
      ]
     },
     "execution_count": 33,
     "metadata": {},
     "output_type": "execute_result"
    }
   ],
   "source": [
    "df.isnull().sum()"
   ]
  },
  {
   "cell_type": "code",
   "execution_count": 35,
   "id": "131636d0",
   "metadata": {},
   "outputs": [
    {
     "name": "stderr",
     "output_type": "stream",
     "text": [
      "C:\\Users\\DELL\\anaconda3\\lib\\site-packages\\seaborn\\distributions.py:2557: FutureWarning: `distplot` is a deprecated function and will be removed in a future version. Please adapt your code to use either `displot` (a figure-level function with similar flexibility) or `histplot` (an axes-level function for histograms).\n",
      "  warnings.warn(msg, FutureWarning)\n"
     ]
    },
    {
     "data": {
      "text/plain": [
       "<AxesSubplot:xlabel='Age', ylabel='Density'>"
      ]
     },
     "execution_count": 35,
     "metadata": {},
     "output_type": "execute_result"
    },
    {
     "data": {
      "image/png": "[encoded data removed]",
      "text/plain": [
       "<Figure size 432x288 with 1 Axes>"
      ]
     },
     "metadata": {
      "needs_background": "light"
     },
     "output_type": "display_data"
    }
   ],
   "source": [
    "sns.distplot(df[\"Age\"])"
   ]
  },
  {
   "cell_type": "code",
   "execution_count": 36,
   "id": "82ceb4ca",
   "metadata": {},
   "outputs": [
    {
     "name": "stderr",
     "output_type": "stream",
     "text": [
      "C:\\Users\\DELL\\anaconda3\\lib\\site-packages\\seaborn\\distributions.py:2557: FutureWarning: `distplot` is a deprecated function and will be removed in a future version. Please adapt your code to use either `displot` (a figure-level function with similar flexibility) or `histplot` (an axes-level function for histograms).\n",
      "  warnings.warn(msg, FutureWarning)\n"
     ]
    },
    {
     "data": {
      "text/plain": [
       "<AxesSubplot:xlabel='Capital_gain', ylabel='Density'>"
      ]
     },
     "execution_count": 36,
     "metadata": {},
     "output_type": "execute_result"
    },
    {
     "data": {
      "image/png": "[encoded data removed]",
      "text/plain": [
       "<Figure size 432x288 with 1 Axes>"
      ]
     },
     "metadata": {
      "needs_background": "light"
     },
     "output_type": "display_data"
    }
   ],
   "source": [
    "sns.distplot(df[\"Capital_gain\"])"
   ]
  },
  {
   "cell_type": "code",
   "execution_count": 37,
   "id": "a5088bbc",
   "metadata": {},
   "outputs": [
    {
     "name": "stderr",
     "output_type": "stream",
     "text": [
      "C:\\Users\\DELL\\anaconda3\\lib\\site-packages\\seaborn\\distributions.py:2557: FutureWarning: `distplot` is a deprecated function and will be removed in a future version. Please adapt your code to use either `displot` (a figure-level function with similar flexibility) or `histplot` (an axes-level function for histograms).\n",
      "  warnings.warn(msg, FutureWarning)\n"
     ]
    },
    {
     "data": {
      "text/plain": [
       "<AxesSubplot:xlabel='Capital_loss', ylabel='Density'>"
      ]
     },
     "execution_count": 37,
     "metadata": {},
     "output_type": "execute_result"
    },
    {
     "data": {
      "image/png": "[encoded data removed]",
      "text/plain": [
       "<Figure size 432x288 with 1 Axes>"
      ]
     },
     "metadata": {
      "needs_background": "light"
     },
     "output_type": "display_data"
    }
   ],
   "source": [
    "sns.distplot(df[\"Capital_loss\"])"
   ]
  },
  {
   "cell_type": "code",
   "execution_count": 38,
   "id": "2e3aaa1a",
   "metadata": {},
   "outputs": [
    {
     "name": "stderr",
     "output_type": "stream",
     "text": [
      "C:\\Users\\DELL\\anaconda3\\lib\\site-packages\\seaborn\\distributions.py:2557: FutureWarning: `distplot` is a deprecated function and will be removed in a future version. Please adapt your code to use either `displot` (a figure-level function with similar flexibility) or `histplot` (an axes-level function for histograms).\n",
      "  warnings.warn(msg, FutureWarning)\n"
     ]
    },
    {
     "data": {
      "text/plain": [
       "<AxesSubplot:xlabel='Fnlwgt', ylabel='Density'>"
      ]
     },
     "execution_count": 38,
     "metadata": {},
     "output_type": "execute_result"
    },
    {
     "data": {
      "image/png": "[encoded data removed]",
      "text/plain": [
       "<Figure size 432x288 with 1 Axes>"
      ]
     },
     "metadata": {
      "needs_background": "light"
     },
     "output_type": "display_data"
    }
   ],
   "source": [
    "sns.distplot(df[\"Fnlwgt\"])"
   ]
  },
  {
   "cell_type": "code",
   "execution_count": 39,
   "id": "4db433af",
   "metadata": {},
   "outputs": [
    {
     "name": "stderr",
     "output_type": "stream",
     "text": [
      "C:\\Users\\DELL\\anaconda3\\lib\\site-packages\\seaborn\\distributions.py:2557: FutureWarning: `distplot` is a deprecated function and will be removed in a future version. Please adapt your code to use either `displot` (a figure-level function with similar flexibility) or `histplot` (an axes-level function for histograms).\n",
      "  warnings.warn(msg, FutureWarning)\n"
     ]
    },
    {
     "data": {
      "text/plain": [
       "<AxesSubplot:xlabel='Hours_per_week', ylabel='Density'>"
      ]
     },
     "execution_count": 39,
     "metadata": {},
     "output_type": "execute_result"
    },
    {
     "data": {
      "image/png": "[encoded data removed]",
      "text/plain": [
       "<Figure size 432x288 with 1 Axes>"
      ]
     },
     "metadata": {
      "needs_background": "light"
     },
     "output_type": "display_data"
    }
   ],
   "source": [
    "sns.distplot(df[\"Hours_per_week\"])"
   ]
  },
  {
   "cell_type": "code",
   "execution_count": 40,
   "id": "890af40f",
   "metadata": {},
   "outputs": [
    {
     "name": "stderr",
     "output_type": "stream",
     "text": [
      "C:\\Users\\DELL\\anaconda3\\lib\\site-packages\\seaborn\\_decorators.py:36: FutureWarning: Pass the following variable as a keyword arg: x. From version 0.12, the only valid positional argument will be `data`, and passing other arguments without an explicit keyword will result in an error or misinterpretation.\n",
      "  warnings.warn(\n"
     ]
    },
    {
     "data": {
      "text/plain": [
       "<AxesSubplot:xlabel='Hours_per_week'>"
      ]
     },
     "execution_count": 40,
     "metadata": {},
     "output_type": "execute_result"
    },
    {
     "data": {
      "image/png": "[encoded data removed]",
      "text/plain": [
       "<Figure size 432x288 with 1 Axes>"
      ]
     },
     "metadata": {
      "needs_background": "light"
     },
     "output_type": "display_data"
    }
   ],
   "source": [
    "sns.boxplot(df[\"Hours_per_week\"])"
   ]
  },
  {
   "cell_type": "code",
   "execution_count": 41,
   "id": "a5316712",
   "metadata": {},
   "outputs": [
    {
     "name": "stderr",
     "output_type": "stream",
     "text": [
      "C:\\Users\\DELL\\anaconda3\\lib\\site-packages\\seaborn\\_decorators.py:36: FutureWarning: Pass the following variable as a keyword arg: x. From version 0.12, the only valid positional argument will be `data`, and passing other arguments without an explicit keyword will result in an error or misinterpretation.\n",
      "  warnings.warn(\n"
     ]
    },
    {
     "data": {
      "text/plain": [
       "<AxesSubplot:xlabel='Capital_gain'>"
      ]
     },
     "execution_count": 41,
     "metadata": {},
     "output_type": "execute_result"
    },
    {
     "data": {
      "image/png": "[encoded data removed]",
      "text/plain": [
       "<Figure size 432x288 with 1 Axes>"
      ]
     },
     "metadata": {
      "needs_background": "light"
     },
     "output_type": "display_data"
    }
   ],
   "source": [
    "sns.boxplot(df[\"Capital_gain\"])"
   ]
  },
  {
   "cell_type": "code",
   "execution_count": 42,
   "id": "af94611f",
   "metadata": {},
   "outputs": [
    {
     "name": "stderr",
     "output_type": "stream",
     "text": [
      "C:\\Users\\DELL\\anaconda3\\lib\\site-packages\\seaborn\\_decorators.py:36: FutureWarning: Pass the following variable as a keyword arg: x. From version 0.12, the only valid positional argument will be `data`, and passing other arguments without an explicit keyword will result in an error or misinterpretation.\n",
      "  warnings.warn(\n"
     ]
    },
    {
     "data": {
      "text/plain": [
       "<AxesSubplot:xlabel='Capital_loss'>"
      ]
     },
     "execution_count": 42,
     "metadata": {},
     "output_type": "execute_result"
    },
    {
     "data": {
      "image/png": "[encoded data removed]",
      "text/plain": [
       "<Figure size 432x288 with 1 Axes>"
      ]
     },
     "metadata": {
      "needs_background": "light"
     },
     "output_type": "display_data"
    }
   ],
   "source": [
    "sns.boxplot(df[\"Capital_loss\"])"
   ]
  },
  {
   "cell_type": "code",
   "execution_count": 43,
   "id": "13315ef1",
   "metadata": {},
   "outputs": [
    {
     "name": "stderr",
     "output_type": "stream",
     "text": [
      "C:\\Users\\DELL\\anaconda3\\lib\\site-packages\\seaborn\\_decorators.py:36: FutureWarning: Pass the following variable as a keyword arg: x. From version 0.12, the only valid positional argument will be `data`, and passing other arguments without an explicit keyword will result in an error or misinterpretation.\n",
      "  warnings.warn(\n"
     ]
    },
    {
     "data": {
      "text/plain": [
       "<AxesSubplot:xlabel='Fnlwgt'>"
      ]
     },
     "execution_count": 43,
     "metadata": {},
     "output_type": "execute_result"
    },
    {
     "data": {
      "image/png": "[encoded data removed]",
      "text/plain": [
       "<Figure size 432x288 with 1 Axes>"
      ]
     },
     "metadata": {
      "needs_background": "light"
     },
     "output_type": "display_data"
    }
   ],
   "source": [
    "sns.boxplot(df[\"Fnlwgt\"])"
   ]
  },
  {
   "cell_type": "code",
   "execution_count": 44,
   "id": "787395b6",
   "metadata": {},
   "outputs": [
    {
     "name": "stderr",
     "output_type": "stream",
     "text": [
      "C:\\Users\\DELL\\anaconda3\\lib\\site-packages\\seaborn\\_decorators.py:36: FutureWarning: Pass the following variable as a keyword arg: x. From version 0.12, the only valid positional argument will be `data`, and passing other arguments without an explicit keyword will result in an error or misinterpretation.\n",
      "  warnings.warn(\n"
     ]
    },
    {
     "data": {
      "text/plain": [
       "<AxesSubplot:xlabel='Age'>"
      ]
     },
     "execution_count": 44,
     "metadata": {},
     "output_type": "execute_result"
    },
    {
     "data": {
      "image/png": "[encoded data removed]",
      "text/plain": [
       "<Figure size 432x288 with 1 Axes>"
      ]
     },
     "metadata": {
      "needs_background": "light"
     },
     "output_type": "display_data"
    }
   ],
   "source": [
    "sns.boxplot(df[\"Age\"])"
   ]
  },
  {
   "cell_type": "markdown",
   "id": "169bb818",
   "metadata": {},
   "source": [
    "EDA observations\n",
    "1. Missing values needs to be treated\n",
    "2. Outliers needs to be treated\n",
    "3. Encoding Needed\n",
    "4. Skew ness treatment needed\n",
    "5. Binary classification algorithm needed as the Target variable is a classifier with 2 values"
   ]
  },
  {
   "cell_type": "markdown",
   "id": "abc3de18",
   "metadata": {},
   "source": [
    "# Missing values imputation"
   ]
  },
  {
   "cell_type": "code",
   "execution_count": 45,
   "id": "1423d6bd",
   "metadata": {},
   "outputs": [],
   "source": [
    "df[\"Workclass\"]=df[\"Workclass\"].fillna(df[\"Workclass\"].mode()[0])\n"
   ]
  },
  {
   "cell_type": "code",
   "execution_count": 46,
   "id": "97623ae6",
   "metadata": {},
   "outputs": [],
   "source": [
    "df[\"Occupation\"]=df[\"Occupation\"].fillna(df[\"Occupation\"].mode()[0])\n"
   ]
  },
  {
   "cell_type": "code",
   "execution_count": 47,
   "id": "551c9581",
   "metadata": {},
   "outputs": [],
   "source": [
    "df[\"Native_country\"]=df[\"Native_country\"].fillna(df[\"Native_country\"].mode()[0])\n"
   ]
  },
  {
   "cell_type": "code",
   "execution_count": 48,
   "id": "45b74159",
   "metadata": {},
   "outputs": [
    {
     "data": {
      "text/plain": [
       "Age               0\n",
       "Workclass         0\n",
       "Fnlwgt            0\n",
       "Education         0\n",
       "Education_num     0\n",
       "Marital_status    0\n",
       "Occupation        0\n",
       "Relationship      0\n",
       "Race              0\n",
       "Sex               0\n",
       "Capital_gain      0\n",
       "Capital_loss      0\n",
       "Hours_per_week    0\n",
       "Native_country    0\n",
       "Income            0\n",
       "dtype: int64"
      ]
     },
     "execution_count": 48,
     "metadata": {},
     "output_type": "execute_result"
    }
   ],
   "source": [
    "df.isnull().sum()"
   ]
  },
  {
   "cell_type": "markdown",
   "id": "98749200",
   "metadata": {},
   "source": [
    "# Encoding "
   ]
  },
  {
   "cell_type": "code",
   "execution_count": 49,
   "id": "17002643",
   "metadata": {},
   "outputs": [
    {
     "name": "stderr",
     "output_type": "stream",
     "text": [
      "C:\\Users\\DELL\\anaconda3\\lib\\site-packages\\sklearn\\utils\\validation.py:63: DataConversionWarning: A column-vector y was passed when a 1d array was expected. Please change the shape of y to (n_samples, ), for example using ravel().\n",
      "  return f(*args, **kwargs)\n"
     ]
    },
    {
     "data": {
      "text/html": [
       "<div>\n",
       "<style scoped>\n",
       "    .dataframe tbody tr th:only-of-type {\n",
       "        vertical-align: middle;\n",
       "    }\n",
       "\n",
       "    .dataframe tbody tr th {\n",
       "        vertical-align: top;\n",
       "    }\n",
       "\n",
       "    .dataframe thead th {\n",
       "        text-align: right;\n",
       "    }\n",
       "</style>\n",
       "<table border=\"1\" class=\"dataframe\">\n",
       "  <thead>\n",
       "    <tr style=\"text-align: right;\">\n",
       "      <th></th>\n",
       "      <th>Age</th>\n",
       "      <th>Workclass</th>\n",
       "      <th>Fnlwgt</th>\n",
       "      <th>Education</th>\n",
       "      <th>Education_num</th>\n",
       "      <th>Marital_status</th>\n",
       "      <th>Occupation</th>\n",
       "      <th>Relationship</th>\n",
       "      <th>Race</th>\n",
       "      <th>Sex</th>\n",
       "      <th>Capital_gain</th>\n",
       "      <th>Capital_loss</th>\n",
       "      <th>Hours_per_week</th>\n",
       "      <th>Native_country</th>\n",
       "      <th>Income</th>\n",
       "    </tr>\n",
       "  </thead>\n",
       "  <tbody>\n",
       "    <tr>\n",
       "      <th>0</th>\n",
       "      <td>50</td>\n",
       "      <td>5</td>\n",
       "      <td>83311</td>\n",
       "      <td>9</td>\n",
       "      <td>13</td>\n",
       "      <td>2</td>\n",
       "      <td>3</td>\n",
       "      <td>0</td>\n",
       "      <td>4</td>\n",
       "      <td>1</td>\n",
       "      <td>0</td>\n",
       "      <td>0</td>\n",
       "      <td>13</td>\n",
       "      <td>38</td>\n",
       "      <td>0</td>\n",
       "    </tr>\n",
       "    <tr>\n",
       "      <th>1</th>\n",
       "      <td>38</td>\n",
       "      <td>3</td>\n",
       "      <td>215646</td>\n",
       "      <td>11</td>\n",
       "      <td>9</td>\n",
       "      <td>0</td>\n",
       "      <td>5</td>\n",
       "      <td>1</td>\n",
       "      <td>4</td>\n",
       "      <td>1</td>\n",
       "      <td>0</td>\n",
       "      <td>0</td>\n",
       "      <td>40</td>\n",
       "      <td>38</td>\n",
       "      <td>0</td>\n",
       "    </tr>\n",
       "    <tr>\n",
       "      <th>2</th>\n",
       "      <td>53</td>\n",
       "      <td>3</td>\n",
       "      <td>234721</td>\n",
       "      <td>1</td>\n",
       "      <td>7</td>\n",
       "      <td>2</td>\n",
       "      <td>5</td>\n",
       "      <td>0</td>\n",
       "      <td>2</td>\n",
       "      <td>1</td>\n",
       "      <td>0</td>\n",
       "      <td>0</td>\n",
       "      <td>40</td>\n",
       "      <td>38</td>\n",
       "      <td>0</td>\n",
       "    </tr>\n",
       "    <tr>\n",
       "      <th>3</th>\n",
       "      <td>28</td>\n",
       "      <td>3</td>\n",
       "      <td>338409</td>\n",
       "      <td>9</td>\n",
       "      <td>13</td>\n",
       "      <td>2</td>\n",
       "      <td>9</td>\n",
       "      <td>5</td>\n",
       "      <td>2</td>\n",
       "      <td>0</td>\n",
       "      <td>0</td>\n",
       "      <td>0</td>\n",
       "      <td>40</td>\n",
       "      <td>4</td>\n",
       "      <td>0</td>\n",
       "    </tr>\n",
       "    <tr>\n",
       "      <th>4</th>\n",
       "      <td>37</td>\n",
       "      <td>3</td>\n",
       "      <td>284582</td>\n",
       "      <td>12</td>\n",
       "      <td>14</td>\n",
       "      <td>2</td>\n",
       "      <td>3</td>\n",
       "      <td>5</td>\n",
       "      <td>4</td>\n",
       "      <td>0</td>\n",
       "      <td>0</td>\n",
       "      <td>0</td>\n",
       "      <td>40</td>\n",
       "      <td>38</td>\n",
       "      <td>0</td>\n",
       "    </tr>\n",
       "    <tr>\n",
       "      <th>...</th>\n",
       "      <td>...</td>\n",
       "      <td>...</td>\n",
       "      <td>...</td>\n",
       "      <td>...</td>\n",
       "      <td>...</td>\n",
       "      <td>...</td>\n",
       "      <td>...</td>\n",
       "      <td>...</td>\n",
       "      <td>...</td>\n",
       "      <td>...</td>\n",
       "      <td>...</td>\n",
       "      <td>...</td>\n",
       "      <td>...</td>\n",
       "      <td>...</td>\n",
       "      <td>...</td>\n",
       "    </tr>\n",
       "    <tr>\n",
       "      <th>32555</th>\n",
       "      <td>27</td>\n",
       "      <td>3</td>\n",
       "      <td>257302</td>\n",
       "      <td>7</td>\n",
       "      <td>12</td>\n",
       "      <td>2</td>\n",
       "      <td>12</td>\n",
       "      <td>5</td>\n",
       "      <td>4</td>\n",
       "      <td>0</td>\n",
       "      <td>0</td>\n",
       "      <td>0</td>\n",
       "      <td>38</td>\n",
       "      <td>38</td>\n",
       "      <td>0</td>\n",
       "    </tr>\n",
       "    <tr>\n",
       "      <th>32556</th>\n",
       "      <td>40</td>\n",
       "      <td>3</td>\n",
       "      <td>154374</td>\n",
       "      <td>11</td>\n",
       "      <td>9</td>\n",
       "      <td>2</td>\n",
       "      <td>6</td>\n",
       "      <td>0</td>\n",
       "      <td>4</td>\n",
       "      <td>1</td>\n",
       "      <td>0</td>\n",
       "      <td>0</td>\n",
       "      <td>40</td>\n",
       "      <td>38</td>\n",
       "      <td>1</td>\n",
       "    </tr>\n",
       "    <tr>\n",
       "      <th>32557</th>\n",
       "      <td>58</td>\n",
       "      <td>3</td>\n",
       "      <td>151910</td>\n",
       "      <td>11</td>\n",
       "      <td>9</td>\n",
       "      <td>6</td>\n",
       "      <td>0</td>\n",
       "      <td>4</td>\n",
       "      <td>4</td>\n",
       "      <td>0</td>\n",
       "      <td>0</td>\n",
       "      <td>0</td>\n",
       "      <td>40</td>\n",
       "      <td>38</td>\n",
       "      <td>0</td>\n",
       "    </tr>\n",
       "    <tr>\n",
       "      <th>32558</th>\n",
       "      <td>22</td>\n",
       "      <td>3</td>\n",
       "      <td>201490</td>\n",
       "      <td>11</td>\n",
       "      <td>9</td>\n",
       "      <td>4</td>\n",
       "      <td>0</td>\n",
       "      <td>3</td>\n",
       "      <td>4</td>\n",
       "      <td>1</td>\n",
       "      <td>0</td>\n",
       "      <td>0</td>\n",
       "      <td>20</td>\n",
       "      <td>38</td>\n",
       "      <td>0</td>\n",
       "    </tr>\n",
       "    <tr>\n",
       "      <th>32559</th>\n",
       "      <td>52</td>\n",
       "      <td>4</td>\n",
       "      <td>287927</td>\n",
       "      <td>11</td>\n",
       "      <td>9</td>\n",
       "      <td>2</td>\n",
       "      <td>3</td>\n",
       "      <td>5</td>\n",
       "      <td>4</td>\n",
       "      <td>0</td>\n",
       "      <td>15024</td>\n",
       "      <td>0</td>\n",
       "      <td>40</td>\n",
       "      <td>38</td>\n",
       "      <td>1</td>\n",
       "    </tr>\n",
       "  </tbody>\n",
       "</table>\n",
       "<p>32560 rows × 15 columns</p>\n",
       "</div>"
      ],
      "text/plain": [
       "       Age  Workclass  Fnlwgt  Education  Education_num  Marital_status  \\\n",
       "0       50          5   83311          9             13               2   \n",
       "1       38          3  215646         11              9               0   \n",
       "2       53          3  234721          1              7               2   \n",
       "3       28          3  338409          9             13               2   \n",
       "4       37          3  284582         12             14               2   \n",
       "...    ...        ...     ...        ...            ...             ...   \n",
       "32555   27          3  257302          7             12               2   \n",
       "32556   40          3  154374         11              9               2   \n",
       "32557   58          3  151910         11              9               6   \n",
       "32558   22          3  201490         11              9               4   \n",
       "32559   52          4  287927         11              9               2   \n",
       "\n",
       "       Occupation  Relationship  Race  Sex  Capital_gain  Capital_loss  \\\n",
       "0               3             0     4    1             0             0   \n",
       "1               5             1     4    1             0             0   \n",
       "2               5             0     2    1             0             0   \n",
       "3               9             5     2    0             0             0   \n",
       "4               3             5     4    0             0             0   \n",
       "...           ...           ...   ...  ...           ...           ...   \n",
       "32555          12             5     4    0             0             0   \n",
       "32556           6             0     4    1             0             0   \n",
       "32557           0             4     4    0             0             0   \n",
       "32558           0             3     4    1             0             0   \n",
       "32559           3             5     4    0         15024             0   \n",
       "\n",
       "       Hours_per_week  Native_country  Income  \n",
       "0                  13              38       0  \n",
       "1                  40              38       0  \n",
       "2                  40              38       0  \n",
       "3                  40               4       0  \n",
       "4                  40              38       0  \n",
       "...               ...             ...     ...  \n",
       "32555              38              38       0  \n",
       "32556              40              38       1  \n",
       "32557              40              38       0  \n",
       "32558              20              38       0  \n",
       "32559              40              38       1  \n",
       "\n",
       "[32560 rows x 15 columns]"
      ]
     },
     "execution_count": 49,
     "metadata": {},
     "output_type": "execute_result"
    }
   ],
   "source": [
    "from sklearn.preprocessing import LabelEncoder\n",
    "enc=LabelEncoder()\n",
    "for i in df.columns:\n",
    "    if df[i].dtypes==\"object\":\n",
    "        df[i]=enc.fit_transform(df[i].values.reshape(-1,1))\n",
    "df"
   ]
  },
  {
   "cell_type": "code",
   "execution_count": 53,
   "id": "b839ecfc",
   "metadata": {},
   "outputs": [
    {
     "data": {
      "text/plain": [
       "<AxesSubplot:>"
      ]
     },
     "execution_count": 53,
     "metadata": {},
     "output_type": "execute_result"
    },
    {
     "data": {
      "image/png": "[encoded data removed]",
      "text/plain": [
       "<Figure size 1080x720 with 2 Axes>"
      ]
     },
     "metadata": {
      "needs_background": "light"
     },
     "output_type": "display_data"
    }
   ],
   "source": [
    "plt.figure(figsize=(15,10))\n",
    "sns.heatmap(df.corr(),annot=True)"
   ]
  },
  {
   "cell_type": "code",
   "execution_count": 76,
   "id": "65edffe6",
   "metadata": {},
   "outputs": [],
   "source": [
    "df2=df.drop([\"Education\"],axis=1)"
   ]
  },
  {
   "cell_type": "code",
   "execution_count": 67,
   "id": "6bd7177d",
   "metadata": {},
   "outputs": [
    {
     "data": {
      "text/html": [
       "<div>\n",
       "<style scoped>\n",
       "    .dataframe tbody tr th:only-of-type {\n",
       "        vertical-align: middle;\n",
       "    }\n",
       "\n",
       "    .dataframe tbody tr th {\n",
       "        vertical-align: top;\n",
       "    }\n",
       "\n",
       "    .dataframe thead th {\n",
       "        text-align: right;\n",
       "    }\n",
       "</style>\n",
       "<table border=\"1\" class=\"dataframe\">\n",
       "  <thead>\n",
       "    <tr style=\"text-align: right;\">\n",
       "      <th></th>\n",
       "      <th>Age</th>\n",
       "      <th>Workclass</th>\n",
       "      <th>Fnlwgt</th>\n",
       "      <th>Education_num</th>\n",
       "      <th>Marital_status</th>\n",
       "      <th>Occupation</th>\n",
       "      <th>Relationship</th>\n",
       "      <th>Race</th>\n",
       "      <th>Sex</th>\n",
       "      <th>Capital_gain</th>\n",
       "      <th>Capital_loss</th>\n",
       "      <th>Hours_per_week</th>\n",
       "      <th>Native_country</th>\n",
       "      <th>Income</th>\n",
       "    </tr>\n",
       "  </thead>\n",
       "  <tbody>\n",
       "    <tr>\n",
       "      <th>Age</th>\n",
       "      <td>1.000000</td>\n",
       "      <td>0.040506</td>\n",
       "      <td>-0.076646</td>\n",
       "      <td>0.036527</td>\n",
       "      <td>-0.266292</td>\n",
       "      <td>0.001740</td>\n",
       "      <td>-0.263698</td>\n",
       "      <td>0.028718</td>\n",
       "      <td>0.088832</td>\n",
       "      <td>0.077674</td>\n",
       "      <td>0.057775</td>\n",
       "      <td>0.068756</td>\n",
       "      <td>-0.000271</td>\n",
       "      <td>0.234039</td>\n",
       "    </tr>\n",
       "    <tr>\n",
       "      <th>Workclass</th>\n",
       "      <td>0.040506</td>\n",
       "      <td>1.000000</td>\n",
       "      <td>-0.024255</td>\n",
       "      <td>0.003445</td>\n",
       "      <td>-0.020545</td>\n",
       "      <td>0.007236</td>\n",
       "      <td>-0.057931</td>\n",
       "      <td>0.048323</td>\n",
       "      <td>0.071535</td>\n",
       "      <td>0.031496</td>\n",
       "      <td>0.002662</td>\n",
       "      <td>0.042206</td>\n",
       "      <td>-0.001646</td>\n",
       "      <td>0.002739</td>\n",
       "    </tr>\n",
       "    <tr>\n",
       "      <th>Fnlwgt</th>\n",
       "      <td>-0.076646</td>\n",
       "      <td>-0.024255</td>\n",
       "      <td>1.000000</td>\n",
       "      <td>-0.043159</td>\n",
       "      <td>0.028184</td>\n",
       "      <td>0.000138</td>\n",
       "      <td>0.008922</td>\n",
       "      <td>-0.021278</td>\n",
       "      <td>0.026882</td>\n",
       "      <td>0.000437</td>\n",
       "      <td>-0.010259</td>\n",
       "      <td>-0.018770</td>\n",
       "      <td>-0.063279</td>\n",
       "      <td>-0.009481</td>\n",
       "    </tr>\n",
       "    <tr>\n",
       "      <th>Education_num</th>\n",
       "      <td>0.036527</td>\n",
       "      <td>0.003445</td>\n",
       "      <td>-0.043159</td>\n",
       "      <td>1.000000</td>\n",
       "      <td>-0.069338</td>\n",
       "      <td>0.071012</td>\n",
       "      <td>-0.094145</td>\n",
       "      <td>0.031825</td>\n",
       "      <td>0.012256</td>\n",
       "      <td>0.122627</td>\n",
       "      <td>0.079932</td>\n",
       "      <td>0.148127</td>\n",
       "      <td>0.088887</td>\n",
       "      <td>0.335182</td>\n",
       "    </tr>\n",
       "    <tr>\n",
       "      <th>Marital_status</th>\n",
       "      <td>-0.266292</td>\n",
       "      <td>-0.020545</td>\n",
       "      <td>0.028184</td>\n",
       "      <td>-0.069338</td>\n",
       "      <td>1.000000</td>\n",
       "      <td>0.035008</td>\n",
       "      <td>0.185461</td>\n",
       "      <td>-0.068025</td>\n",
       "      <td>-0.129337</td>\n",
       "      <td>-0.043398</td>\n",
       "      <td>-0.034182</td>\n",
       "      <td>-0.190521</td>\n",
       "      <td>-0.021285</td>\n",
       "      <td>-0.199295</td>\n",
       "    </tr>\n",
       "    <tr>\n",
       "      <th>Occupation</th>\n",
       "      <td>0.001740</td>\n",
       "      <td>0.007236</td>\n",
       "      <td>0.000138</td>\n",
       "      <td>0.071012</td>\n",
       "      <td>0.035008</td>\n",
       "      <td>1.000000</td>\n",
       "      <td>-0.037465</td>\n",
       "      <td>-0.004821</td>\n",
       "      <td>0.047497</td>\n",
       "      <td>0.018028</td>\n",
       "      <td>0.009670</td>\n",
       "      <td>-0.012881</td>\n",
       "      <td>-0.002205</td>\n",
       "      <td>0.034599</td>\n",
       "    </tr>\n",
       "    <tr>\n",
       "      <th>Relationship</th>\n",
       "      <td>-0.263698</td>\n",
       "      <td>-0.057931</td>\n",
       "      <td>0.008922</td>\n",
       "      <td>-0.094145</td>\n",
       "      <td>0.185461</td>\n",
       "      <td>-0.037465</td>\n",
       "      <td>1.000000</td>\n",
       "      <td>-0.116052</td>\n",
       "      <td>-0.582453</td>\n",
       "      <td>-0.057918</td>\n",
       "      <td>-0.061064</td>\n",
       "      <td>-0.248975</td>\n",
       "      <td>-0.010710</td>\n",
       "      <td>-0.250924</td>\n",
       "    </tr>\n",
       "    <tr>\n",
       "      <th>Race</th>\n",
       "      <td>0.028718</td>\n",
       "      <td>0.048323</td>\n",
       "      <td>-0.021278</td>\n",
       "      <td>0.031825</td>\n",
       "      <td>-0.068025</td>\n",
       "      <td>-0.004821</td>\n",
       "      <td>-0.116052</td>\n",
       "      <td>1.000000</td>\n",
       "      <td>0.087197</td>\n",
       "      <td>0.011143</td>\n",
       "      <td>0.018902</td>\n",
       "      <td>0.041910</td>\n",
       "      <td>0.116526</td>\n",
       "      <td>0.071853</td>\n",
       "    </tr>\n",
       "    <tr>\n",
       "      <th>Sex</th>\n",
       "      <td>0.088832</td>\n",
       "      <td>0.071535</td>\n",
       "      <td>0.026882</td>\n",
       "      <td>0.012256</td>\n",
       "      <td>-0.129337</td>\n",
       "      <td>0.047497</td>\n",
       "      <td>-0.582453</td>\n",
       "      <td>0.087197</td>\n",
       "      <td>1.000000</td>\n",
       "      <td>0.048477</td>\n",
       "      <td>0.045572</td>\n",
       "      <td>0.229312</td>\n",
       "      <td>0.002055</td>\n",
       "      <td>0.215995</td>\n",
       "    </tr>\n",
       "    <tr>\n",
       "      <th>Capital_gain</th>\n",
       "      <td>0.077674</td>\n",
       "      <td>0.031496</td>\n",
       "      <td>0.000437</td>\n",
       "      <td>0.122627</td>\n",
       "      <td>-0.043398</td>\n",
       "      <td>0.018028</td>\n",
       "      <td>-0.057918</td>\n",
       "      <td>0.011143</td>\n",
       "      <td>0.048477</td>\n",
       "      <td>1.000000</td>\n",
       "      <td>-0.031614</td>\n",
       "      <td>0.078409</td>\n",
       "      <td>0.008818</td>\n",
       "      <td>0.223333</td>\n",
       "    </tr>\n",
       "    <tr>\n",
       "      <th>Capital_loss</th>\n",
       "      <td>0.057775</td>\n",
       "      <td>0.002662</td>\n",
       "      <td>-0.010259</td>\n",
       "      <td>0.079932</td>\n",
       "      <td>-0.034182</td>\n",
       "      <td>0.009670</td>\n",
       "      <td>-0.061064</td>\n",
       "      <td>0.018902</td>\n",
       "      <td>0.045572</td>\n",
       "      <td>-0.031614</td>\n",
       "      <td>1.000000</td>\n",
       "      <td>0.054256</td>\n",
       "      <td>0.009402</td>\n",
       "      <td>0.150523</td>\n",
       "    </tr>\n",
       "    <tr>\n",
       "      <th>Hours_per_week</th>\n",
       "      <td>0.068756</td>\n",
       "      <td>0.042206</td>\n",
       "      <td>-0.018770</td>\n",
       "      <td>0.148127</td>\n",
       "      <td>-0.190521</td>\n",
       "      <td>-0.012881</td>\n",
       "      <td>-0.248975</td>\n",
       "      <td>0.041910</td>\n",
       "      <td>0.229312</td>\n",
       "      <td>0.078409</td>\n",
       "      <td>0.054256</td>\n",
       "      <td>1.000000</td>\n",
       "      <td>0.006592</td>\n",
       "      <td>0.229690</td>\n",
       "    </tr>\n",
       "    <tr>\n",
       "      <th>Native_country</th>\n",
       "      <td>-0.000271</td>\n",
       "      <td>-0.001646</td>\n",
       "      <td>-0.063279</td>\n",
       "      <td>0.088887</td>\n",
       "      <td>-0.021285</td>\n",
       "      <td>-0.002205</td>\n",
       "      <td>-0.010710</td>\n",
       "      <td>0.116526</td>\n",
       "      <td>0.002055</td>\n",
       "      <td>0.008818</td>\n",
       "      <td>0.009402</td>\n",
       "      <td>0.006592</td>\n",
       "      <td>1.000000</td>\n",
       "      <td>0.023063</td>\n",
       "    </tr>\n",
       "    <tr>\n",
       "      <th>Income</th>\n",
       "      <td>0.234039</td>\n",
       "      <td>0.002739</td>\n",
       "      <td>-0.009481</td>\n",
       "      <td>0.335182</td>\n",
       "      <td>-0.199295</td>\n",
       "      <td>0.034599</td>\n",
       "      <td>-0.250924</td>\n",
       "      <td>0.071853</td>\n",
       "      <td>0.215995</td>\n",
       "      <td>0.223333</td>\n",
       "      <td>0.150523</td>\n",
       "      <td>0.229690</td>\n",
       "      <td>0.023063</td>\n",
       "      <td>1.000000</td>\n",
       "    </tr>\n",
       "  </tbody>\n",
       "</table>\n",
       "</div>"
      ],
      "text/plain": [
       "                     Age  Workclass    Fnlwgt  Education_num  Marital_status  \\\n",
       "Age             1.000000   0.040506 -0.076646       0.036527       -0.266292   \n",
       "Workclass       0.040506   1.000000 -0.024255       0.003445       -0.020545   \n",
       "Fnlwgt         -0.076646  -0.024255  1.000000      -0.043159        0.028184   \n",
       "Education_num   0.036527   0.003445 -0.043159       1.000000       -0.069338   \n",
       "Marital_status -0.266292  -0.020545  0.028184      -0.069338        1.000000   \n",
       "Occupation      0.001740   0.007236  0.000138       0.071012        0.035008   \n",
       "Relationship   -0.263698  -0.057931  0.008922      -0.094145        0.185461   \n",
       "Race            0.028718   0.048323 -0.021278       0.031825       -0.068025   \n",
       "Sex             0.088832   0.071535  0.026882       0.012256       -0.129337   \n",
       "Capital_gain    0.077674   0.031496  0.000437       0.122627       -0.043398   \n",
       "Capital_loss    0.057775   0.002662 -0.010259       0.079932       -0.034182   \n",
       "Hours_per_week  0.068756   0.042206 -0.018770       0.148127       -0.190521   \n",
       "Native_country -0.000271  -0.001646 -0.063279       0.088887       -0.021285   \n",
       "Income          0.234039   0.002739 -0.009481       0.335182       -0.199295   \n",
       "\n",
       "                Occupation  Relationship      Race       Sex  Capital_gain  \\\n",
       "Age               0.001740     -0.263698  0.028718  0.088832      0.077674   \n",
       "Workclass         0.007236     -0.057931  0.048323  0.071535      0.031496   \n",
       "Fnlwgt            0.000138      0.008922 -0.021278  0.026882      0.000437   \n",
       "Education_num     0.071012     -0.094145  0.031825  0.012256      0.122627   \n",
       "Marital_status    0.035008      0.185461 -0.068025 -0.129337     -0.043398   \n",
       "Occupation        1.000000     -0.037465 -0.004821  0.047497      0.018028   \n",
       "Relationship     -0.037465      1.000000 -0.116052 -0.582453     -0.057918   \n",
       "Race             -0.004821     -0.116052  1.000000  0.087197      0.011143   \n",
       "Sex               0.047497     -0.582453  0.087197  1.000000      0.048477   \n",
       "Capital_gain      0.018028     -0.057918  0.011143  0.048477      1.000000   \n",
       "Capital_loss      0.009670     -0.061064  0.018902  0.045572     -0.031614   \n",
       "Hours_per_week   -0.012881     -0.248975  0.041910  0.229312      0.078409   \n",
       "Native_country   -0.002205     -0.010710  0.116526  0.002055      0.008818   \n",
       "Income            0.034599     -0.250924  0.071853  0.215995      0.223333   \n",
       "\n",
       "                Capital_loss  Hours_per_week  Native_country    Income  \n",
       "Age                 0.057775        0.068756       -0.000271  0.234039  \n",
       "Workclass           0.002662        0.042206       -0.001646  0.002739  \n",
       "Fnlwgt             -0.010259       -0.018770       -0.063279 -0.009481  \n",
       "Education_num       0.079932        0.148127        0.088887  0.335182  \n",
       "Marital_status     -0.034182       -0.190521       -0.021285 -0.199295  \n",
       "Occupation          0.009670       -0.012881       -0.002205  0.034599  \n",
       "Relationship       -0.061064       -0.248975       -0.010710 -0.250924  \n",
       "Race                0.018902        0.041910        0.116526  0.071853  \n",
       "Sex                 0.045572        0.229312        0.002055  0.215995  \n",
       "Capital_gain       -0.031614        0.078409        0.008818  0.223333  \n",
       "Capital_loss        1.000000        0.054256        0.009402  0.150523  \n",
       "Hours_per_week      0.054256        1.000000        0.006592  0.229690  \n",
       "Native_country      0.009402        0.006592        1.000000  0.023063  \n",
       "Income              0.150523        0.229690        0.023063  1.000000  "
      ]
     },
     "execution_count": 67,
     "metadata": {},
     "output_type": "execute_result"
    }
   ],
   "source": [
    "df1.corr()"
   ]
  },
  {
   "cell_type": "code",
   "execution_count": 68,
   "id": "972b916b",
   "metadata": {},
   "outputs": [
    {
     "data": {
      "text/plain": [
       "Age                0.558738\n",
       "Workclass          0.076178\n",
       "Fnlwgt             1.446972\n",
       "Education_num     -0.311630\n",
       "Marital_status    -0.013448\n",
       "Occupation         0.000536\n",
       "Relationship       0.786784\n",
       "Race              -2.435332\n",
       "Sex               -0.719244\n",
       "Capital_gain      11.953690\n",
       "Capital_loss       4.594549\n",
       "Hours_per_week     0.227636\n",
       "Native_country    -4.243083\n",
       "Income             1.212383\n",
       "dtype: float64"
      ]
     },
     "execution_count": 68,
     "metadata": {},
     "output_type": "execute_result"
    }
   ],
   "source": [
    "df1.skew()"
   ]
  },
  {
   "cell_type": "markdown",
   "id": "cb7f90da",
   "metadata": {},
   "source": [
    "# Outlier Treatment"
   ]
  },
  {
   "cell_type": "code",
   "execution_count": 69,
   "id": "77784121",
   "metadata": {},
   "outputs": [
    {
     "data": {
      "text/plain": [
       "(32560, 14)"
      ]
     },
     "execution_count": 69,
     "metadata": {},
     "output_type": "execute_result"
    }
   ],
   "source": [
    "from scipy.stats import zscore\n",
    "z=np.abs(zscore(df1))\n",
    "z.shape"
   ]
  },
  {
   "cell_type": "code",
   "execution_count": 70,
   "id": "f148795a",
   "metadata": {},
   "outputs": [
    {
     "data": {
      "text/html": [
       "<div>\n",
       "<style scoped>\n",
       "    .dataframe tbody tr th:only-of-type {\n",
       "        vertical-align: middle;\n",
       "    }\n",
       "\n",
       "    .dataframe tbody tr th {\n",
       "        vertical-align: top;\n",
       "    }\n",
       "\n",
       "    .dataframe thead th {\n",
       "        text-align: right;\n",
       "    }\n",
       "</style>\n",
       "<table border=\"1\" class=\"dataframe\">\n",
       "  <thead>\n",
       "    <tr style=\"text-align: right;\">\n",
       "      <th></th>\n",
       "      <th>0</th>\n",
       "      <th>1</th>\n",
       "      <th>2</th>\n",
       "      <th>3</th>\n",
       "      <th>4</th>\n",
       "      <th>5</th>\n",
       "      <th>6</th>\n",
       "      <th>7</th>\n",
       "      <th>8</th>\n",
       "      <th>9</th>\n",
       "      <th>10</th>\n",
       "      <th>11</th>\n",
       "      <th>12</th>\n",
       "      <th>13</th>\n",
       "    </tr>\n",
       "  </thead>\n",
       "  <tbody>\n",
       "    <tr>\n",
       "      <th>0</th>\n",
       "      <td>0.837097</td>\n",
       "      <td>1.721336</td>\n",
       "      <td>1.008742</td>\n",
       "      <td>1.134779</td>\n",
       "      <td>0.406183</td>\n",
       "      <td>0.790156</td>\n",
       "      <td>0.900177</td>\n",
       "      <td>0.393675</td>\n",
       "      <td>0.703087</td>\n",
       "      <td>0.145914</td>\n",
       "      <td>0.216663</td>\n",
       "      <td>2.222120</td>\n",
       "      <td>0.261374</td>\n",
       "      <td>0.563210</td>\n",
       "    </tr>\n",
       "    <tr>\n",
       "      <th>1</th>\n",
       "      <td>0.042640</td>\n",
       "      <td>0.085223</td>\n",
       "      <td>0.245046</td>\n",
       "      <td>0.420027</td>\n",
       "      <td>1.734026</td>\n",
       "      <td>0.286703</td>\n",
       "      <td>0.277810</td>\n",
       "      <td>0.393675</td>\n",
       "      <td>0.703087</td>\n",
       "      <td>0.145914</td>\n",
       "      <td>0.216663</td>\n",
       "      <td>0.035430</td>\n",
       "      <td>0.261374</td>\n",
       "      <td>0.563210</td>\n",
       "    </tr>\n",
       "    <tr>\n",
       "      <th>2</th>\n",
       "      <td>1.057031</td>\n",
       "      <td>0.085223</td>\n",
       "      <td>0.425770</td>\n",
       "      <td>1.197429</td>\n",
       "      <td>0.406183</td>\n",
       "      <td>0.286703</td>\n",
       "      <td>0.900177</td>\n",
       "      <td>1.962583</td>\n",
       "      <td>0.703087</td>\n",
       "      <td>0.145914</td>\n",
       "      <td>0.216663</td>\n",
       "      <td>0.035430</td>\n",
       "      <td>0.261374</td>\n",
       "      <td>0.563210</td>\n",
       "    </tr>\n",
       "    <tr>\n",
       "      <th>3</th>\n",
       "      <td>0.775755</td>\n",
       "      <td>0.085223</td>\n",
       "      <td>1.408146</td>\n",
       "      <td>1.134779</td>\n",
       "      <td>0.406183</td>\n",
       "      <td>0.720204</td>\n",
       "      <td>2.211658</td>\n",
       "      <td>1.962583</td>\n",
       "      <td>1.422298</td>\n",
       "      <td>0.145914</td>\n",
       "      <td>0.216663</td>\n",
       "      <td>0.035430</td>\n",
       "      <td>5.352855</td>\n",
       "      <td>0.563210</td>\n",
       "    </tr>\n",
       "    <tr>\n",
       "      <th>4</th>\n",
       "      <td>0.115952</td>\n",
       "      <td>0.085223</td>\n",
       "      <td>0.898170</td>\n",
       "      <td>1.523480</td>\n",
       "      <td>0.406183</td>\n",
       "      <td>0.790156</td>\n",
       "      <td>2.211658</td>\n",
       "      <td>0.393675</td>\n",
       "      <td>1.422298</td>\n",
       "      <td>0.145914</td>\n",
       "      <td>0.216663</td>\n",
       "      <td>0.035430</td>\n",
       "      <td>0.261374</td>\n",
       "      <td>0.563210</td>\n",
       "    </tr>\n",
       "    <tr>\n",
       "      <th>5</th>\n",
       "      <td>0.763786</td>\n",
       "      <td>0.085223</td>\n",
       "      <td>0.280392</td>\n",
       "      <td>1.974832</td>\n",
       "      <td>0.257739</td>\n",
       "      <td>0.216751</td>\n",
       "      <td>0.277810</td>\n",
       "      <td>1.962583</td>\n",
       "      <td>1.422298</td>\n",
       "      <td>0.145914</td>\n",
       "      <td>0.216663</td>\n",
       "      <td>1.979155</td>\n",
       "      <td>2.380616</td>\n",
       "      <td>0.563210</td>\n",
       "    </tr>\n",
       "    <tr>\n",
       "      <th>6</th>\n",
       "      <td>0.983720</td>\n",
       "      <td>1.721336</td>\n",
       "      <td>0.188162</td>\n",
       "      <td>0.420027</td>\n",
       "      <td>0.406183</td>\n",
       "      <td>0.790156</td>\n",
       "      <td>0.900177</td>\n",
       "      <td>0.393675</td>\n",
       "      <td>0.703087</td>\n",
       "      <td>0.145914</td>\n",
       "      <td>0.216663</td>\n",
       "      <td>0.369513</td>\n",
       "      <td>0.261374</td>\n",
       "      <td>1.775537</td>\n",
       "    </tr>\n",
       "    <tr>\n",
       "      <th>7</th>\n",
       "      <td>0.555821</td>\n",
       "      <td>0.085223</td>\n",
       "      <td>1.364314</td>\n",
       "      <td>1.523480</td>\n",
       "      <td>0.921660</td>\n",
       "      <td>0.720204</td>\n",
       "      <td>0.277810</td>\n",
       "      <td>0.393675</td>\n",
       "      <td>1.422298</td>\n",
       "      <td>1.761120</td>\n",
       "      <td>0.216663</td>\n",
       "      <td>0.774455</td>\n",
       "      <td>0.261374</td>\n",
       "      <td>1.775537</td>\n",
       "    </tr>\n",
       "    <tr>\n",
       "      <th>8</th>\n",
       "      <td>0.250605</td>\n",
       "      <td>0.085223</td>\n",
       "      <td>0.287384</td>\n",
       "      <td>1.134779</td>\n",
       "      <td>0.406183</td>\n",
       "      <td>0.790156</td>\n",
       "      <td>0.900177</td>\n",
       "      <td>0.393675</td>\n",
       "      <td>0.703087</td>\n",
       "      <td>0.555210</td>\n",
       "      <td>0.216663</td>\n",
       "      <td>0.035430</td>\n",
       "      <td>0.261374</td>\n",
       "      <td>1.775537</td>\n",
       "    </tr>\n",
       "    <tr>\n",
       "      <th>9</th>\n",
       "      <td>0.115952</td>\n",
       "      <td>0.085223</td>\n",
       "      <td>0.859155</td>\n",
       "      <td>0.031325</td>\n",
       "      <td>0.406183</td>\n",
       "      <td>0.790156</td>\n",
       "      <td>0.900177</td>\n",
       "      <td>1.962583</td>\n",
       "      <td>0.703087</td>\n",
       "      <td>0.145914</td>\n",
       "      <td>0.216663</td>\n",
       "      <td>3.204111</td>\n",
       "      <td>0.261374</td>\n",
       "      <td>1.775537</td>\n",
       "    </tr>\n",
       "    <tr>\n",
       "      <th>10</th>\n",
       "      <td>0.629132</td>\n",
       "      <td>2.624616</td>\n",
       "      <td>0.459362</td>\n",
       "      <td>1.134779</td>\n",
       "      <td>0.406183</td>\n",
       "      <td>0.720204</td>\n",
       "      <td>0.900177</td>\n",
       "      <td>3.140712</td>\n",
       "      <td>0.703087</td>\n",
       "      <td>0.145914</td>\n",
       "      <td>0.216663</td>\n",
       "      <td>0.035430</td>\n",
       "      <td>3.041114</td>\n",
       "      <td>1.775537</td>\n",
       "    </tr>\n",
       "    <tr>\n",
       "      <th>11</th>\n",
       "      <td>1.142312</td>\n",
       "      <td>0.085223</td>\n",
       "      <td>0.639612</td>\n",
       "      <td>1.134779</td>\n",
       "      <td>0.921660</td>\n",
       "      <td>1.545336</td>\n",
       "      <td>0.966924</td>\n",
       "      <td>0.393675</td>\n",
       "      <td>1.422298</td>\n",
       "      <td>0.145914</td>\n",
       "      <td>0.216663</td>\n",
       "      <td>0.845315</td>\n",
       "      <td>0.261374</td>\n",
       "      <td>0.563210</td>\n",
       "    </tr>\n",
       "    <tr>\n",
       "      <th>12</th>\n",
       "      <td>0.482509</td>\n",
       "      <td>0.085223</td>\n",
       "      <td>0.144362</td>\n",
       "      <td>0.746077</td>\n",
       "      <td>0.921660</td>\n",
       "      <td>1.223658</td>\n",
       "      <td>0.277810</td>\n",
       "      <td>1.962583</td>\n",
       "      <td>0.703087</td>\n",
       "      <td>0.145914</td>\n",
       "      <td>0.216663</td>\n",
       "      <td>0.774455</td>\n",
       "      <td>0.261374</td>\n",
       "      <td>0.563210</td>\n",
       "    </tr>\n",
       "    <tr>\n",
       "      <th>13</th>\n",
       "      <td>0.103982</td>\n",
       "      <td>0.085223</td>\n",
       "      <td>0.644349</td>\n",
       "      <td>0.357376</td>\n",
       "      <td>0.406183</td>\n",
       "      <td>1.041883</td>\n",
       "      <td>0.900177</td>\n",
       "      <td>3.140712</td>\n",
       "      <td>0.703087</td>\n",
       "      <td>0.145914</td>\n",
       "      <td>0.216663</td>\n",
       "      <td>0.035430</td>\n",
       "      <td>0.261374</td>\n",
       "      <td>1.775537</td>\n",
       "    </tr>\n",
       "    <tr>\n",
       "      <th>14</th>\n",
       "      <td>0.335886</td>\n",
       "      <td>0.085223</td>\n",
       "      <td>0.527770</td>\n",
       "      <td>2.363533</td>\n",
       "      <td>0.406183</td>\n",
       "      <td>1.727111</td>\n",
       "      <td>0.900177</td>\n",
       "      <td>4.318841</td>\n",
       "      <td>0.703087</td>\n",
       "      <td>0.145914</td>\n",
       "      <td>0.216663</td>\n",
       "      <td>0.369513</td>\n",
       "      <td>1.885243</td>\n",
       "      <td>0.563210</td>\n",
       "    </tr>\n",
       "    <tr>\n",
       "      <th>15</th>\n",
       "      <td>0.995689</td>\n",
       "      <td>1.721336</td>\n",
       "      <td>0.123411</td>\n",
       "      <td>0.420027</td>\n",
       "      <td>0.921660</td>\n",
       "      <td>0.538429</td>\n",
       "      <td>0.966924</td>\n",
       "      <td>0.393675</td>\n",
       "      <td>0.703087</td>\n",
       "      <td>0.145914</td>\n",
       "      <td>0.216663</td>\n",
       "      <td>0.440373</td>\n",
       "      <td>0.261374</td>\n",
       "      <td>0.563210</td>\n",
       "    </tr>\n",
       "    <tr>\n",
       "      <th>16</th>\n",
       "      <td>0.482509</td>\n",
       "      <td>0.085223</td>\n",
       "      <td>0.028023</td>\n",
       "      <td>0.420027</td>\n",
       "      <td>0.921660</td>\n",
       "      <td>0.034976</td>\n",
       "      <td>1.589291</td>\n",
       "      <td>0.393675</td>\n",
       "      <td>0.703087</td>\n",
       "      <td>0.145914</td>\n",
       "      <td>0.216663</td>\n",
       "      <td>0.035430</td>\n",
       "      <td>0.261374</td>\n",
       "      <td>0.563210</td>\n",
       "    </tr>\n",
       "    <tr>\n",
       "      <th>17</th>\n",
       "      <td>0.042640</td>\n",
       "      <td>0.085223</td>\n",
       "      <td>1.524374</td>\n",
       "      <td>1.197429</td>\n",
       "      <td>0.406183</td>\n",
       "      <td>1.223658</td>\n",
       "      <td>0.900177</td>\n",
       "      <td>0.393675</td>\n",
       "      <td>0.703087</td>\n",
       "      <td>0.145914</td>\n",
       "      <td>0.216663</td>\n",
       "      <td>0.774455</td>\n",
       "      <td>0.261374</td>\n",
       "      <td>0.563210</td>\n",
       "    </tr>\n",
       "    <tr>\n",
       "      <th>18</th>\n",
       "      <td>0.323917</td>\n",
       "      <td>1.721336</td>\n",
       "      <td>0.970109</td>\n",
       "      <td>1.523480</td>\n",
       "      <td>1.734026</td>\n",
       "      <td>0.790156</td>\n",
       "      <td>1.589291</td>\n",
       "      <td>0.393675</td>\n",
       "      <td>1.422298</td>\n",
       "      <td>0.145914</td>\n",
       "      <td>0.216663</td>\n",
       "      <td>0.369513</td>\n",
       "      <td>0.261374</td>\n",
       "      <td>1.775537</td>\n",
       "    </tr>\n",
       "    <tr>\n",
       "      <th>19</th>\n",
       "      <td>0.103982</td>\n",
       "      <td>0.085223</td>\n",
       "      <td>0.035455</td>\n",
       "      <td>2.300883</td>\n",
       "      <td>0.406183</td>\n",
       "      <td>0.720204</td>\n",
       "      <td>0.900177</td>\n",
       "      <td>0.393675</td>\n",
       "      <td>0.703087</td>\n",
       "      <td>0.145914</td>\n",
       "      <td>0.216663</td>\n",
       "      <td>1.584340</td>\n",
       "      <td>0.261374</td>\n",
       "      <td>1.775537</td>\n",
       "    </tr>\n",
       "    <tr>\n",
       "      <th>20</th>\n",
       "      <td>1.130343</td>\n",
       "      <td>0.085223</td>\n",
       "      <td>1.064578</td>\n",
       "      <td>0.420027</td>\n",
       "      <td>1.585582</td>\n",
       "      <td>0.216751</td>\n",
       "      <td>1.589291</td>\n",
       "      <td>1.962583</td>\n",
       "      <td>1.422298</td>\n",
       "      <td>0.145914</td>\n",
       "      <td>0.216663</td>\n",
       "      <td>1.655200</td>\n",
       "      <td>0.261374</td>\n",
       "      <td>0.563210</td>\n",
       "    </tr>\n",
       "    <tr>\n",
       "      <th>21</th>\n",
       "      <td>0.262575</td>\n",
       "      <td>2.795062</td>\n",
       "      <td>1.070003</td>\n",
       "      <td>1.974832</td>\n",
       "      <td>0.406183</td>\n",
       "      <td>0.538429</td>\n",
       "      <td>0.900177</td>\n",
       "      <td>1.962583</td>\n",
       "      <td>0.703087</td>\n",
       "      <td>0.145914</td>\n",
       "      <td>0.216663</td>\n",
       "      <td>0.035430</td>\n",
       "      <td>0.261374</td>\n",
       "      <td>0.563210</td>\n",
       "    </tr>\n",
       "    <tr>\n",
       "      <th>22</th>\n",
       "      <td>0.323917</td>\n",
       "      <td>0.085223</td>\n",
       "      <td>0.689210</td>\n",
       "      <td>1.197429</td>\n",
       "      <td>0.406183</td>\n",
       "      <td>1.727111</td>\n",
       "      <td>0.900177</td>\n",
       "      <td>0.393675</td>\n",
       "      <td>0.703087</td>\n",
       "      <td>0.145914</td>\n",
       "      <td>4.850838</td>\n",
       "      <td>0.035430</td>\n",
       "      <td>0.261374</td>\n",
       "      <td>0.563210</td>\n",
       "    </tr>\n",
       "    <tr>\n",
       "      <th>23</th>\n",
       "      <td>1.496900</td>\n",
       "      <td>0.085223</td>\n",
       "      <td>0.765213</td>\n",
       "      <td>0.420027</td>\n",
       "      <td>1.734026</td>\n",
       "      <td>1.475385</td>\n",
       "      <td>1.589291</td>\n",
       "      <td>0.393675</td>\n",
       "      <td>1.422298</td>\n",
       "      <td>0.145914</td>\n",
       "      <td>0.216663</td>\n",
       "      <td>0.035430</td>\n",
       "      <td>0.261374</td>\n",
       "      <td>0.563210</td>\n",
       "    </tr>\n",
       "    <tr>\n",
       "      <th>24</th>\n",
       "      <td>1.276966</td>\n",
       "      <td>1.891783</td>\n",
       "      <td>0.256463</td>\n",
       "      <td>1.134779</td>\n",
       "      <td>0.406183</td>\n",
       "      <td>1.475385</td>\n",
       "      <td>0.900177</td>\n",
       "      <td>0.393675</td>\n",
       "      <td>0.703087</td>\n",
       "      <td>0.145914</td>\n",
       "      <td>0.216663</td>\n",
       "      <td>0.035430</td>\n",
       "      <td>0.261374</td>\n",
       "      <td>1.775537</td>\n",
       "    </tr>\n",
       "    <tr>\n",
       "      <th>25</th>\n",
       "      <td>1.435558</td>\n",
       "      <td>0.085223</td>\n",
       "      <td>0.203583</td>\n",
       "      <td>0.420027</td>\n",
       "      <td>0.921660</td>\n",
       "      <td>1.041883</td>\n",
       "      <td>0.966924</td>\n",
       "      <td>0.393675</td>\n",
       "      <td>0.703087</td>\n",
       "      <td>0.145914</td>\n",
       "      <td>0.216663</td>\n",
       "      <td>0.035430</td>\n",
       "      <td>0.261374</td>\n",
       "      <td>0.563210</td>\n",
       "    </tr>\n",
       "    <tr>\n",
       "      <th>26</th>\n",
       "      <td>1.130343</td>\n",
       "      <td>0.085223</td>\n",
       "      <td>0.090677</td>\n",
       "      <td>0.031325</td>\n",
       "      <td>0.406183</td>\n",
       "      <td>0.720204</td>\n",
       "      <td>0.900177</td>\n",
       "      <td>3.140712</td>\n",
       "      <td>0.703087</td>\n",
       "      <td>0.145914</td>\n",
       "      <td>0.216663</td>\n",
       "      <td>1.584340</td>\n",
       "      <td>0.399123</td>\n",
       "      <td>1.775537</td>\n",
       "    </tr>\n",
       "    <tr>\n",
       "      <th>27</th>\n",
       "      <td>0.030671</td>\n",
       "      <td>0.085223</td>\n",
       "      <td>1.681490</td>\n",
       "      <td>0.420027</td>\n",
       "      <td>1.734026</td>\n",
       "      <td>0.790156</td>\n",
       "      <td>0.277810</td>\n",
       "      <td>0.393675</td>\n",
       "      <td>0.703087</td>\n",
       "      <td>0.145914</td>\n",
       "      <td>0.216663</td>\n",
       "      <td>3.204111</td>\n",
       "      <td>0.261374</td>\n",
       "      <td>0.563210</td>\n",
       "    </tr>\n",
       "    <tr>\n",
       "      <th>28</th>\n",
       "      <td>0.763786</td>\n",
       "      <td>0.085223</td>\n",
       "      <td>0.033958</td>\n",
       "      <td>0.420027</td>\n",
       "      <td>0.406183</td>\n",
       "      <td>1.041883</td>\n",
       "      <td>0.900177</td>\n",
       "      <td>0.393675</td>\n",
       "      <td>0.703087</td>\n",
       "      <td>0.145914</td>\n",
       "      <td>0.216663</td>\n",
       "      <td>0.035430</td>\n",
       "      <td>0.261374</td>\n",
       "      <td>0.563210</td>\n",
       "    </tr>\n",
       "    <tr>\n",
       "      <th>29</th>\n",
       "      <td>1.142312</td>\n",
       "      <td>1.891783</td>\n",
       "      <td>0.008784</td>\n",
       "      <td>0.746077</td>\n",
       "      <td>0.921660</td>\n",
       "      <td>0.971931</td>\n",
       "      <td>0.277810</td>\n",
       "      <td>0.393675</td>\n",
       "      <td>0.703087</td>\n",
       "      <td>0.145914</td>\n",
       "      <td>0.216663</td>\n",
       "      <td>0.936432</td>\n",
       "      <td>0.261374</td>\n",
       "      <td>0.563210</td>\n",
       "    </tr>\n",
       "    <tr>\n",
       "      <th>30</th>\n",
       "      <td>1.362247</td>\n",
       "      <td>0.085223</td>\n",
       "      <td>0.722260</td>\n",
       "      <td>0.031325</td>\n",
       "      <td>0.921660</td>\n",
       "      <td>1.223658</td>\n",
       "      <td>0.966924</td>\n",
       "      <td>1.962583</td>\n",
       "      <td>0.703087</td>\n",
       "      <td>0.145914</td>\n",
       "      <td>0.216663</td>\n",
       "      <td>0.288524</td>\n",
       "      <td>0.261374</td>\n",
       "      <td>0.563210</td>\n",
       "    </tr>\n",
       "    <tr>\n",
       "      <th>31</th>\n",
       "      <td>0.470540</td>\n",
       "      <td>0.085223</td>\n",
       "      <td>1.867946</td>\n",
       "      <td>1.134779</td>\n",
       "      <td>1.734026</td>\n",
       "      <td>0.790156</td>\n",
       "      <td>0.966924</td>\n",
       "      <td>0.393675</td>\n",
       "      <td>0.703087</td>\n",
       "      <td>0.145914</td>\n",
       "      <td>3.277481</td>\n",
       "      <td>0.035430</td>\n",
       "      <td>0.261374</td>\n",
       "      <td>0.563210</td>\n",
       "    </tr>\n",
       "    <tr>\n",
       "      <th>32</th>\n",
       "      <td>0.629132</td>\n",
       "      <td>2.795062</td>\n",
       "      <td>1.230063</td>\n",
       "      <td>0.031325</td>\n",
       "      <td>0.406183</td>\n",
       "      <td>1.545336</td>\n",
       "      <td>0.966924</td>\n",
       "      <td>0.393675</td>\n",
       "      <td>0.703087</td>\n",
       "      <td>0.145914</td>\n",
       "      <td>0.216663</td>\n",
       "      <td>0.035430</td>\n",
       "      <td>0.261374</td>\n",
       "      <td>0.563210</td>\n",
       "    </tr>\n",
       "    <tr>\n",
       "      <th>33</th>\n",
       "      <td>1.215624</td>\n",
       "      <td>2.624616</td>\n",
       "      <td>1.153314</td>\n",
       "      <td>0.031325</td>\n",
       "      <td>0.406183</td>\n",
       "      <td>0.216751</td>\n",
       "      <td>0.900177</td>\n",
       "      <td>1.962583</td>\n",
       "      <td>0.703087</td>\n",
       "      <td>0.145914</td>\n",
       "      <td>0.216663</td>\n",
       "      <td>2.060143</td>\n",
       "      <td>0.261374</td>\n",
       "      <td>0.563210</td>\n",
       "    </tr>\n",
       "    <tr>\n",
       "      <th>34</th>\n",
       "      <td>0.690474</td>\n",
       "      <td>0.085223</td>\n",
       "      <td>0.498580</td>\n",
       "      <td>1.197429</td>\n",
       "      <td>0.921660</td>\n",
       "      <td>0.034976</td>\n",
       "      <td>1.589291</td>\n",
       "      <td>0.393675</td>\n",
       "      <td>0.703087</td>\n",
       "      <td>0.145914</td>\n",
       "      <td>0.216663</td>\n",
       "      <td>0.035430</td>\n",
       "      <td>0.729372</td>\n",
       "      <td>0.563210</td>\n",
       "    </tr>\n",
       "    <tr>\n",
       "      <th>35</th>\n",
       "      <td>1.288935</td>\n",
       "      <td>0.085223</td>\n",
       "      <td>0.070282</td>\n",
       "      <td>0.031325</td>\n",
       "      <td>0.921660</td>\n",
       "      <td>0.034976</td>\n",
       "      <td>0.966924</td>\n",
       "      <td>0.393675</td>\n",
       "      <td>0.703087</td>\n",
       "      <td>0.145914</td>\n",
       "      <td>0.216663</td>\n",
       "      <td>0.035430</td>\n",
       "      <td>0.261374</td>\n",
       "      <td>0.563210</td>\n",
       "    </tr>\n",
       "    <tr>\n",
       "      <th>36</th>\n",
       "      <td>1.435558</td>\n",
       "      <td>0.085223</td>\n",
       "      <td>3.356849</td>\n",
       "      <td>0.420027</td>\n",
       "      <td>1.070104</td>\n",
       "      <td>1.545336</td>\n",
       "      <td>2.211658</td>\n",
       "      <td>0.393675</td>\n",
       "      <td>1.422298</td>\n",
       "      <td>0.145914</td>\n",
       "      <td>0.216663</td>\n",
       "      <td>1.250258</td>\n",
       "      <td>0.261374</td>\n",
       "      <td>0.563210</td>\n",
       "    </tr>\n",
       "    <tr>\n",
       "      <th>37</th>\n",
       "      <td>0.555821</td>\n",
       "      <td>0.085223</td>\n",
       "      <td>1.000755</td>\n",
       "      <td>0.031325</td>\n",
       "      <td>0.406183</td>\n",
       "      <td>1.223658</td>\n",
       "      <td>0.900177</td>\n",
       "      <td>0.393675</td>\n",
       "      <td>0.703087</td>\n",
       "      <td>0.145914</td>\n",
       "      <td>0.216663</td>\n",
       "      <td>0.197407</td>\n",
       "      <td>0.261374</td>\n",
       "      <td>1.775537</td>\n",
       "    </tr>\n",
       "    <tr>\n",
       "      <th>38</th>\n",
       "      <td>0.690474</td>\n",
       "      <td>1.721336</td>\n",
       "      <td>0.717163</td>\n",
       "      <td>0.746077</td>\n",
       "      <td>0.406183</td>\n",
       "      <td>0.720204</td>\n",
       "      <td>0.900177</td>\n",
       "      <td>0.393675</td>\n",
       "      <td>0.703087</td>\n",
       "      <td>0.145914</td>\n",
       "      <td>0.216663</td>\n",
       "      <td>0.035430</td>\n",
       "      <td>0.261374</td>\n",
       "      <td>0.563210</td>\n",
       "    </tr>\n",
       "    <tr>\n",
       "      <th>39</th>\n",
       "      <td>0.555821</td>\n",
       "      <td>0.085223</td>\n",
       "      <td>3.013726</td>\n",
       "      <td>1.974832</td>\n",
       "      <td>0.406183</td>\n",
       "      <td>0.034976</td>\n",
       "      <td>0.900177</td>\n",
       "      <td>0.393675</td>\n",
       "      <td>0.703087</td>\n",
       "      <td>0.145914</td>\n",
       "      <td>0.216663</td>\n",
       "      <td>0.207536</td>\n",
       "      <td>0.261374</td>\n",
       "      <td>0.563210</td>\n",
       "    </tr>\n",
       "    <tr>\n",
       "      <th>40</th>\n",
       "      <td>1.057031</td>\n",
       "      <td>1.721336</td>\n",
       "      <td>0.959522</td>\n",
       "      <td>1.134779</td>\n",
       "      <td>0.406183</td>\n",
       "      <td>0.720204</td>\n",
       "      <td>0.900177</td>\n",
       "      <td>0.393675</td>\n",
       "      <td>0.703087</td>\n",
       "      <td>0.145914</td>\n",
       "      <td>0.216663</td>\n",
       "      <td>0.035430</td>\n",
       "      <td>0.261374</td>\n",
       "      <td>0.563210</td>\n",
       "    </tr>\n",
       "    <tr>\n",
       "      <th>41</th>\n",
       "      <td>1.069001</td>\n",
       "      <td>0.085223</td>\n",
       "      <td>0.159120</td>\n",
       "      <td>1.134779</td>\n",
       "      <td>0.406183</td>\n",
       "      <td>1.475385</td>\n",
       "      <td>0.900177</td>\n",
       "      <td>0.393675</td>\n",
       "      <td>0.703087</td>\n",
       "      <td>0.145914</td>\n",
       "      <td>0.216663</td>\n",
       "      <td>0.774455</td>\n",
       "      <td>0.261374</td>\n",
       "      <td>0.563210</td>\n",
       "    </tr>\n",
       "    <tr>\n",
       "      <th>42</th>\n",
       "      <td>0.763786</td>\n",
       "      <td>0.085223</td>\n",
       "      <td>0.901426</td>\n",
       "      <td>0.420027</td>\n",
       "      <td>1.585582</td>\n",
       "      <td>1.545336</td>\n",
       "      <td>1.589291</td>\n",
       "      <td>0.393675</td>\n",
       "      <td>1.422298</td>\n",
       "      <td>0.145914</td>\n",
       "      <td>0.216663</td>\n",
       "      <td>0.035430</td>\n",
       "      <td>0.261374</td>\n",
       "      <td>0.563210</td>\n",
       "    </tr>\n",
       "    <tr>\n",
       "      <th>43</th>\n",
       "      <td>0.995689</td>\n",
       "      <td>0.085223</td>\n",
       "      <td>0.949313</td>\n",
       "      <td>0.420027</td>\n",
       "      <td>0.921660</td>\n",
       "      <td>0.286703</td>\n",
       "      <td>0.277810</td>\n",
       "      <td>0.393675</td>\n",
       "      <td>0.703087</td>\n",
       "      <td>0.145914</td>\n",
       "      <td>0.216663</td>\n",
       "      <td>0.440373</td>\n",
       "      <td>0.261374</td>\n",
       "      <td>0.563210</td>\n",
       "    </tr>\n",
       "    <tr>\n",
       "      <th>44</th>\n",
       "      <td>1.350277</td>\n",
       "      <td>2.795062</td>\n",
       "      <td>1.403276</td>\n",
       "      <td>1.134779</td>\n",
       "      <td>0.406183</td>\n",
       "      <td>0.720204</td>\n",
       "      <td>0.900177</td>\n",
       "      <td>1.962583</td>\n",
       "      <td>0.703087</td>\n",
       "      <td>0.145914</td>\n",
       "      <td>0.216663</td>\n",
       "      <td>0.035430</td>\n",
       "      <td>0.261374</td>\n",
       "      <td>1.775537</td>\n",
       "    </tr>\n",
       "    <tr>\n",
       "      <th>45</th>\n",
       "      <td>1.057031</td>\n",
       "      <td>0.085223</td>\n",
       "      <td>0.430333</td>\n",
       "      <td>0.420027</td>\n",
       "      <td>0.406183</td>\n",
       "      <td>0.034976</td>\n",
       "      <td>0.900177</td>\n",
       "      <td>0.393675</td>\n",
       "      <td>0.703087</td>\n",
       "      <td>0.145914</td>\n",
       "      <td>0.216663</td>\n",
       "      <td>0.197407</td>\n",
       "      <td>0.261374</td>\n",
       "      <td>0.563210</td>\n",
       "    </tr>\n",
       "    <tr>\n",
       "      <th>46</th>\n",
       "      <td>0.397228</td>\n",
       "      <td>0.085223</td>\n",
       "      <td>0.581989</td>\n",
       "      <td>1.523480</td>\n",
       "      <td>1.734026</td>\n",
       "      <td>0.790156</td>\n",
       "      <td>1.589291</td>\n",
       "      <td>0.393675</td>\n",
       "      <td>1.422298</td>\n",
       "      <td>0.145914</td>\n",
       "      <td>0.216663</td>\n",
       "      <td>0.035430</td>\n",
       "      <td>0.261374</td>\n",
       "      <td>0.563210</td>\n",
       "    </tr>\n",
       "    <tr>\n",
       "      <th>47</th>\n",
       "      <td>0.177294</td>\n",
       "      <td>2.624616</td>\n",
       "      <td>0.835437</td>\n",
       "      <td>0.357376</td>\n",
       "      <td>0.406183</td>\n",
       "      <td>1.041883</td>\n",
       "      <td>0.900177</td>\n",
       "      <td>0.393675</td>\n",
       "      <td>0.703087</td>\n",
       "      <td>0.145914</td>\n",
       "      <td>0.216663</td>\n",
       "      <td>0.035430</td>\n",
       "      <td>0.261374</td>\n",
       "      <td>0.563210</td>\n",
       "    </tr>\n",
       "    <tr>\n",
       "      <th>48</th>\n",
       "      <td>0.702444</td>\n",
       "      <td>0.085223</td>\n",
       "      <td>0.773905</td>\n",
       "      <td>0.357376</td>\n",
       "      <td>0.921660</td>\n",
       "      <td>0.720204</td>\n",
       "      <td>0.277810</td>\n",
       "      <td>0.393675</td>\n",
       "      <td>0.703087</td>\n",
       "      <td>0.145914</td>\n",
       "      <td>0.216663</td>\n",
       "      <td>0.207536</td>\n",
       "      <td>0.261374</td>\n",
       "      <td>0.563210</td>\n",
       "    </tr>\n",
       "    <tr>\n",
       "      <th>49</th>\n",
       "      <td>0.995689</td>\n",
       "      <td>0.085223</td>\n",
       "      <td>1.492275</td>\n",
       "      <td>0.031325</td>\n",
       "      <td>0.406183</td>\n",
       "      <td>0.790156</td>\n",
       "      <td>2.211658</td>\n",
       "      <td>0.784454</td>\n",
       "      <td>1.422298</td>\n",
       "      <td>0.145914</td>\n",
       "      <td>0.216663</td>\n",
       "      <td>0.035430</td>\n",
       "      <td>0.261374</td>\n",
       "      <td>0.563210</td>\n",
       "    </tr>\n",
       "  </tbody>\n",
       "</table>\n",
       "</div>"
      ],
      "text/plain": [
       "          0         1         2         3         4         5         6   \\\n",
       "0   0.837097  1.721336  1.008742  1.134779  0.406183  0.790156  0.900177   \n",
       "1   0.042640  0.085223  0.245046  0.420027  1.734026  0.286703  0.277810   \n",
       "2   1.057031  0.085223  0.425770  1.197429  0.406183  0.286703  0.900177   \n",
       "3   0.775755  0.085223  1.408146  1.134779  0.406183  0.720204  2.211658   \n",
       "4   0.115952  0.085223  0.898170  1.523480  0.406183  0.790156  2.211658   \n",
       "5   0.763786  0.085223  0.280392  1.974832  0.257739  0.216751  0.277810   \n",
       "6   0.983720  1.721336  0.188162  0.420027  0.406183  0.790156  0.900177   \n",
       "7   0.555821  0.085223  1.364314  1.523480  0.921660  0.720204  0.277810   \n",
       "8   0.250605  0.085223  0.287384  1.134779  0.406183  0.790156  0.900177   \n",
       "9   0.115952  0.085223  0.859155  0.031325  0.406183  0.790156  0.900177   \n",
       "10  0.629132  2.624616  0.459362  1.134779  0.406183  0.720204  0.900177   \n",
       "11  1.142312  0.085223  0.639612  1.134779  0.921660  1.545336  0.966924   \n",
       "12  0.482509  0.085223  0.144362  0.746077  0.921660  1.223658  0.277810   \n",
       "13  0.103982  0.085223  0.644349  0.357376  0.406183  1.041883  0.900177   \n",
       "14  0.335886  0.085223  0.527770  2.363533  0.406183  1.727111  0.900177   \n",
       "15  0.995689  1.721336  0.123411  0.420027  0.921660  0.538429  0.966924   \n",
       "16  0.482509  0.085223  0.028023  0.420027  0.921660  0.034976  1.589291   \n",
       "17  0.042640  0.085223  1.524374  1.197429  0.406183  1.223658  0.900177   \n",
       "18  0.323917  1.721336  0.970109  1.523480  1.734026  0.790156  1.589291   \n",
       "19  0.103982  0.085223  0.035455  2.300883  0.406183  0.720204  0.900177   \n",
       "20  1.130343  0.085223  1.064578  0.420027  1.585582  0.216751  1.589291   \n",
       "21  0.262575  2.795062  1.070003  1.974832  0.406183  0.538429  0.900177   \n",
       "22  0.323917  0.085223  0.689210  1.197429  0.406183  1.727111  0.900177   \n",
       "23  1.496900  0.085223  0.765213  0.420027  1.734026  1.475385  1.589291   \n",
       "24  1.276966  1.891783  0.256463  1.134779  0.406183  1.475385  0.900177   \n",
       "25  1.435558  0.085223  0.203583  0.420027  0.921660  1.041883  0.966924   \n",
       "26  1.130343  0.085223  0.090677  0.031325  0.406183  0.720204  0.900177   \n",
       "27  0.030671  0.085223  1.681490  0.420027  1.734026  0.790156  0.277810   \n",
       "28  0.763786  0.085223  0.033958  0.420027  0.406183  1.041883  0.900177   \n",
       "29  1.142312  1.891783  0.008784  0.746077  0.921660  0.971931  0.277810   \n",
       "30  1.362247  0.085223  0.722260  0.031325  0.921660  1.223658  0.966924   \n",
       "31  0.470540  0.085223  1.867946  1.134779  1.734026  0.790156  0.966924   \n",
       "32  0.629132  2.795062  1.230063  0.031325  0.406183  1.545336  0.966924   \n",
       "33  1.215624  2.624616  1.153314  0.031325  0.406183  0.216751  0.900177   \n",
       "34  0.690474  0.085223  0.498580  1.197429  0.921660  0.034976  1.589291   \n",
       "35  1.288935  0.085223  0.070282  0.031325  0.921660  0.034976  0.966924   \n",
       "36  1.435558  0.085223  3.356849  0.420027  1.070104  1.545336  2.211658   \n",
       "37  0.555821  0.085223  1.000755  0.031325  0.406183  1.223658  0.900177   \n",
       "38  0.690474  1.721336  0.717163  0.746077  0.406183  0.720204  0.900177   \n",
       "39  0.555821  0.085223  3.013726  1.974832  0.406183  0.034976  0.900177   \n",
       "40  1.057031  1.721336  0.959522  1.134779  0.406183  0.720204  0.900177   \n",
       "41  1.069001  0.085223  0.159120  1.134779  0.406183  1.475385  0.900177   \n",
       "42  0.763786  0.085223  0.901426  0.420027  1.585582  1.545336  1.589291   \n",
       "43  0.995689  0.085223  0.949313  0.420027  0.921660  0.286703  0.277810   \n",
       "44  1.350277  2.795062  1.403276  1.134779  0.406183  0.720204  0.900177   \n",
       "45  1.057031  0.085223  0.430333  0.420027  0.406183  0.034976  0.900177   \n",
       "46  0.397228  0.085223  0.581989  1.523480  1.734026  0.790156  1.589291   \n",
       "47  0.177294  2.624616  0.835437  0.357376  0.406183  1.041883  0.900177   \n",
       "48  0.702444  0.085223  0.773905  0.357376  0.921660  0.720204  0.277810   \n",
       "49  0.995689  0.085223  1.492275  0.031325  0.406183  0.790156  2.211658   \n",
       "\n",
       "          7         8         9         10        11        12        13  \n",
       "0   0.393675  0.703087  0.145914  0.216663  2.222120  0.261374  0.563210  \n",
       "1   0.393675  0.703087  0.145914  0.216663  0.035430  0.261374  0.563210  \n",
       "2   1.962583  0.703087  0.145914  0.216663  0.035430  0.261374  0.563210  \n",
       "3   1.962583  1.422298  0.145914  0.216663  0.035430  5.352855  0.563210  \n",
       "4   0.393675  1.422298  0.145914  0.216663  0.035430  0.261374  0.563210  \n",
       "5   1.962583  1.422298  0.145914  0.216663  1.979155  2.380616  0.563210  \n",
       "6   0.393675  0.703087  0.145914  0.216663  0.369513  0.261374  1.775537  \n",
       "7   0.393675  1.422298  1.761120  0.216663  0.774455  0.261374  1.775537  \n",
       "8   0.393675  0.703087  0.555210  0.216663  0.035430  0.261374  1.775537  \n",
       "9   1.962583  0.703087  0.145914  0.216663  3.204111  0.261374  1.775537  \n",
       "10  3.140712  0.703087  0.145914  0.216663  0.035430  3.041114  1.775537  \n",
       "11  0.393675  1.422298  0.145914  0.216663  0.845315  0.261374  0.563210  \n",
       "12  1.962583  0.703087  0.145914  0.216663  0.774455  0.261374  0.563210  \n",
       "13  3.140712  0.703087  0.145914  0.216663  0.035430  0.261374  1.775537  \n",
       "14  4.318841  0.703087  0.145914  0.216663  0.369513  1.885243  0.563210  \n",
       "15  0.393675  0.703087  0.145914  0.216663  0.440373  0.261374  0.563210  \n",
       "16  0.393675  0.703087  0.145914  0.216663  0.035430  0.261374  0.563210  \n",
       "17  0.393675  0.703087  0.145914  0.216663  0.774455  0.261374  0.563210  \n",
       "18  0.393675  1.422298  0.145914  0.216663  0.369513  0.261374  1.775537  \n",
       "19  0.393675  0.703087  0.145914  0.216663  1.584340  0.261374  1.775537  \n",
       "20  1.962583  1.422298  0.145914  0.216663  1.655200  0.261374  0.563210  \n",
       "21  1.962583  0.703087  0.145914  0.216663  0.035430  0.261374  0.563210  \n",
       "22  0.393675  0.703087  0.145914  4.850838  0.035430  0.261374  0.563210  \n",
       "23  0.393675  1.422298  0.145914  0.216663  0.035430  0.261374  0.563210  \n",
       "24  0.393675  0.703087  0.145914  0.216663  0.035430  0.261374  1.775537  \n",
       "25  0.393675  0.703087  0.145914  0.216663  0.035430  0.261374  0.563210  \n",
       "26  3.140712  0.703087  0.145914  0.216663  1.584340  0.399123  1.775537  \n",
       "27  0.393675  0.703087  0.145914  0.216663  3.204111  0.261374  0.563210  \n",
       "28  0.393675  0.703087  0.145914  0.216663  0.035430  0.261374  0.563210  \n",
       "29  0.393675  0.703087  0.145914  0.216663  0.936432  0.261374  0.563210  \n",
       "30  1.962583  0.703087  0.145914  0.216663  0.288524  0.261374  0.563210  \n",
       "31  0.393675  0.703087  0.145914  3.277481  0.035430  0.261374  0.563210  \n",
       "32  0.393675  0.703087  0.145914  0.216663  0.035430  0.261374  0.563210  \n",
       "33  1.962583  0.703087  0.145914  0.216663  2.060143  0.261374  0.563210  \n",
       "34  0.393675  0.703087  0.145914  0.216663  0.035430  0.729372  0.563210  \n",
       "35  0.393675  0.703087  0.145914  0.216663  0.035430  0.261374  0.563210  \n",
       "36  0.393675  1.422298  0.145914  0.216663  1.250258  0.261374  0.563210  \n",
       "37  0.393675  0.703087  0.145914  0.216663  0.197407  0.261374  1.775537  \n",
       "38  0.393675  0.703087  0.145914  0.216663  0.035430  0.261374  0.563210  \n",
       "39  0.393675  0.703087  0.145914  0.216663  0.207536  0.261374  0.563210  \n",
       "40  0.393675  0.703087  0.145914  0.216663  0.035430  0.261374  0.563210  \n",
       "41  0.393675  0.703087  0.145914  0.216663  0.774455  0.261374  0.563210  \n",
       "42  0.393675  1.422298  0.145914  0.216663  0.035430  0.261374  0.563210  \n",
       "43  0.393675  0.703087  0.145914  0.216663  0.440373  0.261374  0.563210  \n",
       "44  1.962583  0.703087  0.145914  0.216663  0.035430  0.261374  1.775537  \n",
       "45  0.393675  0.703087  0.145914  0.216663  0.197407  0.261374  0.563210  \n",
       "46  0.393675  1.422298  0.145914  0.216663  0.035430  0.261374  0.563210  \n",
       "47  0.393675  0.703087  0.145914  0.216663  0.035430  0.261374  0.563210  \n",
       "48  0.393675  0.703087  0.145914  0.216663  0.207536  0.261374  0.563210  \n",
       "49  0.784454  1.422298  0.145914  0.216663  0.035430  0.261374  0.563210  "
      ]
     },
     "execution_count": 70,
     "metadata": {},
     "output_type": "execute_result"
    }
   ],
   "source": [
    "z1=pd.DataFrame(z)\n",
    "z1\n",
    "z1.head(50)"
   ]
  },
  {
   "cell_type": "code",
   "execution_count": 71,
   "id": "bff5e2db",
   "metadata": {},
   "outputs": [
    {
     "data": {
      "text/html": [
       "<div>\n",
       "<style scoped>\n",
       "    .dataframe tbody tr th:only-of-type {\n",
       "        vertical-align: middle;\n",
       "    }\n",
       "\n",
       "    .dataframe tbody tr th {\n",
       "        vertical-align: top;\n",
       "    }\n",
       "\n",
       "    .dataframe thead th {\n",
       "        text-align: right;\n",
       "    }\n",
       "</style>\n",
       "<table border=\"1\" class=\"dataframe\">\n",
       "  <thead>\n",
       "    <tr style=\"text-align: right;\">\n",
       "      <th></th>\n",
       "      <th>Age</th>\n",
       "      <th>Workclass</th>\n",
       "      <th>Fnlwgt</th>\n",
       "      <th>Education_num</th>\n",
       "      <th>Marital_status</th>\n",
       "      <th>Occupation</th>\n",
       "      <th>Relationship</th>\n",
       "      <th>Race</th>\n",
       "      <th>Sex</th>\n",
       "      <th>Capital_gain</th>\n",
       "      <th>Capital_loss</th>\n",
       "      <th>Hours_per_week</th>\n",
       "      <th>Native_country</th>\n",
       "      <th>Income</th>\n",
       "    </tr>\n",
       "  </thead>\n",
       "  <tbody>\n",
       "    <tr>\n",
       "      <th>0</th>\n",
       "      <td>50</td>\n",
       "      <td>5</td>\n",
       "      <td>83311</td>\n",
       "      <td>13</td>\n",
       "      <td>2</td>\n",
       "      <td>3</td>\n",
       "      <td>0</td>\n",
       "      <td>4</td>\n",
       "      <td>1</td>\n",
       "      <td>0</td>\n",
       "      <td>0</td>\n",
       "      <td>13</td>\n",
       "      <td>38</td>\n",
       "      <td>0</td>\n",
       "    </tr>\n",
       "    <tr>\n",
       "      <th>1</th>\n",
       "      <td>38</td>\n",
       "      <td>3</td>\n",
       "      <td>215646</td>\n",
       "      <td>9</td>\n",
       "      <td>0</td>\n",
       "      <td>5</td>\n",
       "      <td>1</td>\n",
       "      <td>4</td>\n",
       "      <td>1</td>\n",
       "      <td>0</td>\n",
       "      <td>0</td>\n",
       "      <td>40</td>\n",
       "      <td>38</td>\n",
       "      <td>0</td>\n",
       "    </tr>\n",
       "    <tr>\n",
       "      <th>2</th>\n",
       "      <td>53</td>\n",
       "      <td>3</td>\n",
       "      <td>234721</td>\n",
       "      <td>7</td>\n",
       "      <td>2</td>\n",
       "      <td>5</td>\n",
       "      <td>0</td>\n",
       "      <td>2</td>\n",
       "      <td>1</td>\n",
       "      <td>0</td>\n",
       "      <td>0</td>\n",
       "      <td>40</td>\n",
       "      <td>38</td>\n",
       "      <td>0</td>\n",
       "    </tr>\n",
       "    <tr>\n",
       "      <th>4</th>\n",
       "      <td>37</td>\n",
       "      <td>3</td>\n",
       "      <td>284582</td>\n",
       "      <td>14</td>\n",
       "      <td>2</td>\n",
       "      <td>3</td>\n",
       "      <td>5</td>\n",
       "      <td>4</td>\n",
       "      <td>0</td>\n",
       "      <td>0</td>\n",
       "      <td>0</td>\n",
       "      <td>40</td>\n",
       "      <td>38</td>\n",
       "      <td>0</td>\n",
       "    </tr>\n",
       "    <tr>\n",
       "      <th>5</th>\n",
       "      <td>49</td>\n",
       "      <td>3</td>\n",
       "      <td>160187</td>\n",
       "      <td>5</td>\n",
       "      <td>3</td>\n",
       "      <td>7</td>\n",
       "      <td>1</td>\n",
       "      <td>2</td>\n",
       "      <td>0</td>\n",
       "      <td>0</td>\n",
       "      <td>0</td>\n",
       "      <td>16</td>\n",
       "      <td>22</td>\n",
       "      <td>0</td>\n",
       "    </tr>\n",
       "    <tr>\n",
       "      <th>...</th>\n",
       "      <td>...</td>\n",
       "      <td>...</td>\n",
       "      <td>...</td>\n",
       "      <td>...</td>\n",
       "      <td>...</td>\n",
       "      <td>...</td>\n",
       "      <td>...</td>\n",
       "      <td>...</td>\n",
       "      <td>...</td>\n",
       "      <td>...</td>\n",
       "      <td>...</td>\n",
       "      <td>...</td>\n",
       "      <td>...</td>\n",
       "      <td>...</td>\n",
       "    </tr>\n",
       "    <tr>\n",
       "      <th>32555</th>\n",
       "      <td>27</td>\n",
       "      <td>3</td>\n",
       "      <td>257302</td>\n",
       "      <td>12</td>\n",
       "      <td>2</td>\n",
       "      <td>12</td>\n",
       "      <td>5</td>\n",
       "      <td>4</td>\n",
       "      <td>0</td>\n",
       "      <td>0</td>\n",
       "      <td>0</td>\n",
       "      <td>38</td>\n",
       "      <td>38</td>\n",
       "      <td>0</td>\n",
       "    </tr>\n",
       "    <tr>\n",
       "      <th>32556</th>\n",
       "      <td>40</td>\n",
       "      <td>3</td>\n",
       "      <td>154374</td>\n",
       "      <td>9</td>\n",
       "      <td>2</td>\n",
       "      <td>6</td>\n",
       "      <td>0</td>\n",
       "      <td>4</td>\n",
       "      <td>1</td>\n",
       "      <td>0</td>\n",
       "      <td>0</td>\n",
       "      <td>40</td>\n",
       "      <td>38</td>\n",
       "      <td>1</td>\n",
       "    </tr>\n",
       "    <tr>\n",
       "      <th>32557</th>\n",
       "      <td>58</td>\n",
       "      <td>3</td>\n",
       "      <td>151910</td>\n",
       "      <td>9</td>\n",
       "      <td>6</td>\n",
       "      <td>0</td>\n",
       "      <td>4</td>\n",
       "      <td>4</td>\n",
       "      <td>0</td>\n",
       "      <td>0</td>\n",
       "      <td>0</td>\n",
       "      <td>40</td>\n",
       "      <td>38</td>\n",
       "      <td>0</td>\n",
       "    </tr>\n",
       "    <tr>\n",
       "      <th>32558</th>\n",
       "      <td>22</td>\n",
       "      <td>3</td>\n",
       "      <td>201490</td>\n",
       "      <td>9</td>\n",
       "      <td>4</td>\n",
       "      <td>0</td>\n",
       "      <td>3</td>\n",
       "      <td>4</td>\n",
       "      <td>1</td>\n",
       "      <td>0</td>\n",
       "      <td>0</td>\n",
       "      <td>20</td>\n",
       "      <td>38</td>\n",
       "      <td>0</td>\n",
       "    </tr>\n",
       "    <tr>\n",
       "      <th>32559</th>\n",
       "      <td>52</td>\n",
       "      <td>4</td>\n",
       "      <td>287927</td>\n",
       "      <td>9</td>\n",
       "      <td>2</td>\n",
       "      <td>3</td>\n",
       "      <td>5</td>\n",
       "      <td>4</td>\n",
       "      <td>0</td>\n",
       "      <td>15024</td>\n",
       "      <td>0</td>\n",
       "      <td>40</td>\n",
       "      <td>38</td>\n",
       "      <td>1</td>\n",
       "    </tr>\n",
       "  </tbody>\n",
       "</table>\n",
       "<p>27770 rows × 14 columns</p>\n",
       "</div>"
      ],
      "text/plain": [
       "       Age  Workclass  Fnlwgt  Education_num  Marital_status  Occupation  \\\n",
       "0       50          5   83311             13               2           3   \n",
       "1       38          3  215646              9               0           5   \n",
       "2       53          3  234721              7               2           5   \n",
       "4       37          3  284582             14               2           3   \n",
       "5       49          3  160187              5               3           7   \n",
       "...    ...        ...     ...            ...             ...         ...   \n",
       "32555   27          3  257302             12               2          12   \n",
       "32556   40          3  154374              9               2           6   \n",
       "32557   58          3  151910              9               6           0   \n",
       "32558   22          3  201490              9               4           0   \n",
       "32559   52          4  287927              9               2           3   \n",
       "\n",
       "       Relationship  Race  Sex  Capital_gain  Capital_loss  Hours_per_week  \\\n",
       "0                 0     4    1             0             0              13   \n",
       "1                 1     4    1             0             0              40   \n",
       "2                 0     2    1             0             0              40   \n",
       "4                 5     4    0             0             0              40   \n",
       "5                 1     2    0             0             0              16   \n",
       "...             ...   ...  ...           ...           ...             ...   \n",
       "32555             5     4    0             0             0              38   \n",
       "32556             0     4    1             0             0              40   \n",
       "32557             4     4    0             0             0              40   \n",
       "32558             3     4    1             0             0              20   \n",
       "32559             5     4    0         15024             0              40   \n",
       "\n",
       "       Native_country  Income  \n",
       "0                  38       0  \n",
       "1                  38       0  \n",
       "2                  38       0  \n",
       "4                  38       0  \n",
       "5                  22       0  \n",
       "...               ...     ...  \n",
       "32555              38       0  \n",
       "32556              38       1  \n",
       "32557              38       0  \n",
       "32558              38       0  \n",
       "32559              38       1  \n",
       "\n",
       "[27770 rows x 14 columns]"
      ]
     },
     "execution_count": 71,
     "metadata": {},
     "output_type": "execute_result"
    }
   ],
   "source": [
    "df1=df1[(z<3).all(axis=1)]\n",
    "df1"
   ]
  },
  {
   "cell_type": "code",
   "execution_count": 60,
   "id": "5a037f88",
   "metadata": {},
   "outputs": [
    {
     "data": {
      "text/plain": [
       "14.71130221130221"
      ]
     },
     "execution_count": 60,
     "metadata": {},
     "output_type": "execute_result"
    }
   ],
   "source": [
    "Dataloss=((32560-27770)/32560)*100\n",
    "Dataloss"
   ]
  },
  {
   "cell_type": "markdown",
   "id": "cd686a11",
   "metadata": {},
   "source": [
    "Dataloss more than 8% so we will not treat outliers"
   ]
  },
  {
   "cell_type": "markdown",
   "id": "4e500193",
   "metadata": {},
   "source": [
    "# splitting DataFrame"
   ]
  },
  {
   "cell_type": "code",
   "execution_count": 77,
   "id": "f6676612",
   "metadata": {},
   "outputs": [
    {
     "data": {
      "text/html": [
       "<div>\n",
       "<style scoped>\n",
       "    .dataframe tbody tr th:only-of-type {\n",
       "        vertical-align: middle;\n",
       "    }\n",
       "\n",
       "    .dataframe tbody tr th {\n",
       "        vertical-align: top;\n",
       "    }\n",
       "\n",
       "    .dataframe thead th {\n",
       "        text-align: right;\n",
       "    }\n",
       "</style>\n",
       "<table border=\"1\" class=\"dataframe\">\n",
       "  <thead>\n",
       "    <tr style=\"text-align: right;\">\n",
       "      <th></th>\n",
       "      <th>Age</th>\n",
       "      <th>Workclass</th>\n",
       "      <th>Fnlwgt</th>\n",
       "      <th>Education_num</th>\n",
       "      <th>Marital_status</th>\n",
       "      <th>Occupation</th>\n",
       "      <th>Relationship</th>\n",
       "      <th>Race</th>\n",
       "      <th>Sex</th>\n",
       "      <th>Capital_gain</th>\n",
       "      <th>Capital_loss</th>\n",
       "      <th>Hours_per_week</th>\n",
       "      <th>Native_country</th>\n",
       "    </tr>\n",
       "  </thead>\n",
       "  <tbody>\n",
       "    <tr>\n",
       "      <th>0</th>\n",
       "      <td>50</td>\n",
       "      <td>5</td>\n",
       "      <td>83311</td>\n",
       "      <td>13</td>\n",
       "      <td>2</td>\n",
       "      <td>3</td>\n",
       "      <td>0</td>\n",
       "      <td>4</td>\n",
       "      <td>1</td>\n",
       "      <td>0</td>\n",
       "      <td>0</td>\n",
       "      <td>13</td>\n",
       "      <td>38</td>\n",
       "    </tr>\n",
       "    <tr>\n",
       "      <th>1</th>\n",
       "      <td>38</td>\n",
       "      <td>3</td>\n",
       "      <td>215646</td>\n",
       "      <td>9</td>\n",
       "      <td>0</td>\n",
       "      <td>5</td>\n",
       "      <td>1</td>\n",
       "      <td>4</td>\n",
       "      <td>1</td>\n",
       "      <td>0</td>\n",
       "      <td>0</td>\n",
       "      <td>40</td>\n",
       "      <td>38</td>\n",
       "    </tr>\n",
       "    <tr>\n",
       "      <th>2</th>\n",
       "      <td>53</td>\n",
       "      <td>3</td>\n",
       "      <td>234721</td>\n",
       "      <td>7</td>\n",
       "      <td>2</td>\n",
       "      <td>5</td>\n",
       "      <td>0</td>\n",
       "      <td>2</td>\n",
       "      <td>1</td>\n",
       "      <td>0</td>\n",
       "      <td>0</td>\n",
       "      <td>40</td>\n",
       "      <td>38</td>\n",
       "    </tr>\n",
       "    <tr>\n",
       "      <th>3</th>\n",
       "      <td>28</td>\n",
       "      <td>3</td>\n",
       "      <td>338409</td>\n",
       "      <td>13</td>\n",
       "      <td>2</td>\n",
       "      <td>9</td>\n",
       "      <td>5</td>\n",
       "      <td>2</td>\n",
       "      <td>0</td>\n",
       "      <td>0</td>\n",
       "      <td>0</td>\n",
       "      <td>40</td>\n",
       "      <td>4</td>\n",
       "    </tr>\n",
       "    <tr>\n",
       "      <th>4</th>\n",
       "      <td>37</td>\n",
       "      <td>3</td>\n",
       "      <td>284582</td>\n",
       "      <td>14</td>\n",
       "      <td>2</td>\n",
       "      <td>3</td>\n",
       "      <td>5</td>\n",
       "      <td>4</td>\n",
       "      <td>0</td>\n",
       "      <td>0</td>\n",
       "      <td>0</td>\n",
       "      <td>40</td>\n",
       "      <td>38</td>\n",
       "    </tr>\n",
       "    <tr>\n",
       "      <th>...</th>\n",
       "      <td>...</td>\n",
       "      <td>...</td>\n",
       "      <td>...</td>\n",
       "      <td>...</td>\n",
       "      <td>...</td>\n",
       "      <td>...</td>\n",
       "      <td>...</td>\n",
       "      <td>...</td>\n",
       "      <td>...</td>\n",
       "      <td>...</td>\n",
       "      <td>...</td>\n",
       "      <td>...</td>\n",
       "      <td>...</td>\n",
       "    </tr>\n",
       "    <tr>\n",
       "      <th>32555</th>\n",
       "      <td>27</td>\n",
       "      <td>3</td>\n",
       "      <td>257302</td>\n",
       "      <td>12</td>\n",
       "      <td>2</td>\n",
       "      <td>12</td>\n",
       "      <td>5</td>\n",
       "      <td>4</td>\n",
       "      <td>0</td>\n",
       "      <td>0</td>\n",
       "      <td>0</td>\n",
       "      <td>38</td>\n",
       "      <td>38</td>\n",
       "    </tr>\n",
       "    <tr>\n",
       "      <th>32556</th>\n",
       "      <td>40</td>\n",
       "      <td>3</td>\n",
       "      <td>154374</td>\n",
       "      <td>9</td>\n",
       "      <td>2</td>\n",
       "      <td>6</td>\n",
       "      <td>0</td>\n",
       "      <td>4</td>\n",
       "      <td>1</td>\n",
       "      <td>0</td>\n",
       "      <td>0</td>\n",
       "      <td>40</td>\n",
       "      <td>38</td>\n",
       "    </tr>\n",
       "    <tr>\n",
       "      <th>32557</th>\n",
       "      <td>58</td>\n",
       "      <td>3</td>\n",
       "      <td>151910</td>\n",
       "      <td>9</td>\n",
       "      <td>6</td>\n",
       "      <td>0</td>\n",
       "      <td>4</td>\n",
       "      <td>4</td>\n",
       "      <td>0</td>\n",
       "      <td>0</td>\n",
       "      <td>0</td>\n",
       "      <td>40</td>\n",
       "      <td>38</td>\n",
       "    </tr>\n",
       "    <tr>\n",
       "      <th>32558</th>\n",
       "      <td>22</td>\n",
       "      <td>3</td>\n",
       "      <td>201490</td>\n",
       "      <td>9</td>\n",
       "      <td>4</td>\n",
       "      <td>0</td>\n",
       "      <td>3</td>\n",
       "      <td>4</td>\n",
       "      <td>1</td>\n",
       "      <td>0</td>\n",
       "      <td>0</td>\n",
       "      <td>20</td>\n",
       "      <td>38</td>\n",
       "    </tr>\n",
       "    <tr>\n",
       "      <th>32559</th>\n",
       "      <td>52</td>\n",
       "      <td>4</td>\n",
       "      <td>287927</td>\n",
       "      <td>9</td>\n",
       "      <td>2</td>\n",
       "      <td>3</td>\n",
       "      <td>5</td>\n",
       "      <td>4</td>\n",
       "      <td>0</td>\n",
       "      <td>15024</td>\n",
       "      <td>0</td>\n",
       "      <td>40</td>\n",
       "      <td>38</td>\n",
       "    </tr>\n",
       "  </tbody>\n",
       "</table>\n",
       "<p>32560 rows × 13 columns</p>\n",
       "</div>"
      ],
      "text/plain": [
       "       Age  Workclass  Fnlwgt  Education_num  Marital_status  Occupation  \\\n",
       "0       50          5   83311             13               2           3   \n",
       "1       38          3  215646              9               0           5   \n",
       "2       53          3  234721              7               2           5   \n",
       "3       28          3  338409             13               2           9   \n",
       "4       37          3  284582             14               2           3   \n",
       "...    ...        ...     ...            ...             ...         ...   \n",
       "32555   27          3  257302             12               2          12   \n",
       "32556   40          3  154374              9               2           6   \n",
       "32557   58          3  151910              9               6           0   \n",
       "32558   22          3  201490              9               4           0   \n",
       "32559   52          4  287927              9               2           3   \n",
       "\n",
       "       Relationship  Race  Sex  Capital_gain  Capital_loss  Hours_per_week  \\\n",
       "0                 0     4    1             0             0              13   \n",
       "1                 1     4    1             0             0              40   \n",
       "2                 0     2    1             0             0              40   \n",
       "3                 5     2    0             0             0              40   \n",
       "4                 5     4    0             0             0              40   \n",
       "...             ...   ...  ...           ...           ...             ...   \n",
       "32555             5     4    0             0             0              38   \n",
       "32556             0     4    1             0             0              40   \n",
       "32557             4     4    0             0             0              40   \n",
       "32558             3     4    1             0             0              20   \n",
       "32559             5     4    0         15024             0              40   \n",
       "\n",
       "       Native_country  \n",
       "0                  38  \n",
       "1                  38  \n",
       "2                  38  \n",
       "3                   4  \n",
       "4                  38  \n",
       "...               ...  \n",
       "32555              38  \n",
       "32556              38  \n",
       "32557              38  \n",
       "32558              38  \n",
       "32559              38  \n",
       "\n",
       "[32560 rows x 13 columns]"
      ]
     },
     "execution_count": 77,
     "metadata": {},
     "output_type": "execute_result"
    }
   ],
   "source": [
    "x=df2.iloc[:,0:13]\n",
    "y=df2.iloc[:,-1]\n",
    "x"
   ]
  },
  {
   "cell_type": "markdown",
   "id": "9b9f9e7a",
   "metadata": {},
   "source": [
    "# Treating Skewness"
   ]
  },
  {
   "cell_type": "code",
   "execution_count": 78,
   "id": "01f183fe",
   "metadata": {},
   "outputs": [],
   "source": [
    "from sklearn.preprocessing import power_transform\n",
    "x=power_transform(x,method='yeo-johnson')"
   ]
  },
  {
   "cell_type": "markdown",
   "id": "f94012cf",
   "metadata": {},
   "source": [
    "# Scaling Data"
   ]
  },
  {
   "cell_type": "code",
   "execution_count": 79,
   "id": "9faaa277",
   "metadata": {},
   "outputs": [],
   "source": [
    "from sklearn.preprocessing import StandardScaler\n",
    "S=StandardScaler()\n",
    "x=S.fit_transform(x)"
   ]
  },
  {
   "cell_type": "markdown",
   "id": "ce2db8fb",
   "metadata": {},
   "source": [
    "# Logistic Regression as only 2 Output values"
   ]
  },
  {
   "cell_type": "code",
   "execution_count": 80,
   "id": "c0329f63",
   "metadata": {},
   "outputs": [],
   "source": [
    "from sklearn.model_selection import train_test_split\n",
    "from sklearn.linear_model import LogisticRegression\n",
    "lr=LogisticRegression()\n",
    "from sklearn.metrics import accuracy_score"
   ]
  },
  {
   "cell_type": "code",
   "execution_count": 82,
   "id": "97d2ceca",
   "metadata": {},
   "outputs": [
    {
     "name": "stdout",
     "output_type": "stream",
     "text": [
      "At random state: 35\n",
      "Traning score is :- 82.55528255528255\n",
      "Test score is :- 82.5859950859951\n",
      "At random state: 39\n",
      "Traning score is :- 82.54760442260442\n",
      "Test score is :- 82.46314496314497\n",
      "At random state: 59\n",
      "Traning score is :- 82.55144348894349\n",
      "Test score is :- 82.5859950859951\n",
      "At random state: 85\n",
      "Traning score is :- 82.5284090909091\n",
      "Test score is :- 82.53992628992629\n"
     ]
    }
   ],
   "source": [
    "l=[]\n",
    "for i in range(1,100):\n",
    "    x_train,x_test,y_train,y_test=train_test_split(x,y,random_state=i,test_size=0.20)\n",
    "    lr.fit(x_train,y_train)\n",
    "    pred_train=lr.predict(x_train)\n",
    "    pred_test=lr.predict(x_test)\n",
    "    if round(accuracy_score(y_train,pred_train)*100,1)==round(accuracy_score(y_test,pred_test)*100,1):\n",
    "        print(\"At random state:\",i)\n",
    "        print(\"Traning score is :-\",accuracy_score(y_train,pred_train)*100)\n",
    "        print(\"Test score is :-\",accuracy_score(y_test,pred_test)*100)\n",
    "        l.append(i)"
   ]
  },
  {
   "cell_type": "markdown",
   "id": "c5615603",
   "metadata": {},
   "source": [
    "random state = 85"
   ]
  },
  {
   "cell_type": "code",
   "execution_count": 84,
   "id": "d3960239",
   "metadata": {},
   "outputs": [],
   "source": [
    "x_train,x_test,y_train,y_test=train_test_split(x,y,random_state=85,test_size=0.20)\n"
   ]
  },
  {
   "cell_type": "code",
   "execution_count": 85,
   "id": "31461c41",
   "metadata": {},
   "outputs": [
    {
     "name": "stdout",
     "output_type": "stream",
     "text": [
      "              precision    recall  f1-score   support\n",
      "\n",
      "           0       0.76      0.83      0.80      4985\n",
      "           1       0.23      0.16      0.19      1527\n",
      "\n",
      "    accuracy                           0.68      6512\n",
      "   macro avg       0.50      0.50      0.49      6512\n",
      "weighted avg       0.64      0.68      0.66      6512\n",
      "\n"
     ]
    }
   ],
   "source": [
    "from sklearn.metrics import classification_report\n",
    "print(classification_report(y_test,pred_test))"
   ]
  },
  {
   "cell_type": "code",
   "execution_count": 86,
   "id": "93e9f2ff",
   "metadata": {},
   "outputs": [
    {
     "name": "stdout",
     "output_type": "stream",
     "text": [
      "cv: 2\n",
      "cross validation score is 82.47542997542998\n",
      "Accuracy_score : 82.52457002457002\n",
      "cv: 3\n",
      "cross validation score is 82.49386453506214\n",
      "Accuracy_score : 82.52457002457002\n",
      "cv: 4\n",
      "cross validation score is 82.5460687960688\n",
      "Accuracy_score : 82.52457002457002\n",
      "cv: 5\n",
      "cross validation score is 82.49692874692876\n",
      "Accuracy_score : 82.52457002457002\n",
      "cv: 6\n",
      "cross validation score is 82.53378459529178\n",
      "Accuracy_score : 82.52457002457002\n",
      "cv: 7\n",
      "cross validation score is 82.49693090689202\n",
      "Accuracy_score : 82.52457002457002\n",
      "cv: 8\n",
      "cross validation score is 82.5\n",
      "Accuracy_score : 82.52457002457002\n",
      "cv: 9\n",
      "cross validation score is 82.50920041487984\n",
      "Accuracy_score : 82.52457002457002\n"
     ]
    }
   ],
   "source": [
    "lr_predict=lr.predict(x_test)\n",
    "from sklearn.model_selection import cross_val_score\n",
    "lss=accuracy_score(y_test,lr_predict)\n",
    "for j in range(2,10):\n",
    "    lssscore=cross_val_score(lr,x,y,cv=j)\n",
    "    lsc=lssscore.mean()\n",
    "    print(\"cv:\",j)\n",
    "    print(\"cross validation score is\",lsc*100)\n",
    "    print(\"Accuracy_score :\",lss*100)"
   ]
  },
  {
   "cell_type": "markdown",
   "id": "ff55c99d",
   "metadata": {},
   "source": [
    "CV=4 can be chosen"
   ]
  },
  {
   "cell_type": "code",
   "execution_count": 88,
   "id": "9c666b38",
   "metadata": {},
   "outputs": [
    {
     "data": {
      "text/plain": [
       "[<matplotlib.lines.Line2D at 0x22a09c00880>]"
      ]
     },
     "execution_count": 88,
     "metadata": {},
     "output_type": "execute_result"
    },
    {
     "data": {
      "image/png": "[encoded data removed]",
      "text/plain": [
       "<Figure size 432x288 with 1 Axes>"
      ]
     },
     "metadata": {
      "needs_background": "light"
     },
     "output_type": "display_data"
    }
   ],
   "source": [
    "from sklearn.metrics import roc_curve,auc\n",
    "fpr,tpr,thresholds=roc_curve(pred_test,y_test)\n",
    "roc_auc=auc(fpr,tpr)\n",
    "\n",
    "plt.figure()\n",
    "plt.plot(fpr,tpr)\n",
    "plt.plot([0,1],[0,1])"
   ]
  },
  {
   "cell_type": "markdown",
   "id": "18a1971f",
   "metadata": {},
   "source": [
    "# Random Forest Classifier"
   ]
  },
  {
   "cell_type": "code",
   "execution_count": 90,
   "id": "add0fafc",
   "metadata": {},
   "outputs": [
    {
     "name": "stdout",
     "output_type": "stream",
     "text": [
      "{'class_weight': 'balanced', 'criterion': 'gini', 'max_features': 'auto', 'random_state': 2}\n"
     ]
    }
   ],
   "source": [
    "from sklearn.model_selection import GridSearchCV\n",
    "from sklearn.ensemble import RandomForestClassifier\n",
    "from sklearn.metrics import r2_score\n",
    "\n",
    "parameters = {'criterion':['gini', 'entropy'],'max_features':[\"auto\", \"sqrt\", \"log2\"],'class_weight':[\"balanced\",\"balanced_subsample\"],'random_state':[85]}\n",
    "rf =RandomForestClassifier()\n",
    "FitParameters = GridSearchCV(rf,parameters)\n",
    "FitParameters.fit(x_train,y_train)\n",
    "\n",
    "print(FitParameters.best_params_)"
   ]
  },
  {
   "cell_type": "code",
   "execution_count": 91,
   "id": "40dce330",
   "metadata": {},
   "outputs": [
    {
     "name": "stdout",
     "output_type": "stream",
     "text": [
      "              precision    recall  f1-score   support\n",
      "\n",
      "           0       0.93      0.88      0.90      5247\n",
      "           1       0.59      0.71      0.65      1265\n",
      "\n",
      "    accuracy                           0.85      6512\n",
      "   macro avg       0.76      0.80      0.78      6512\n",
      "weighted avg       0.86      0.85      0.85      6512\n",
      "\n"
     ]
    }
   ],
   "source": [
    "rf= RandomForestClassifier(criterion=\"gini\",max_features=\"auto\",class_weight=\"balanced\",random_state=85)\n",
    "rf.fit(x_train, y_train)\n",
    "rf.score(x_train, y_train)\n",
    "pred_decision = rf.predict(x_test)\n",
    "\n",
    "#rfs = r2_score(y_test,pred_decision)\n",
    "#print('R2 Score:',rfs*100)\n",
    "\n",
    "#rfscore = cross_val_score(rf,x_train,y_train,cv=9)\n",
    "\n",
    "#rfc = rfscore.mean()\n",
    "#x_predict = rf.predict(x_test)\n",
    "print(classification_report(pred_decision,y_test))\n",
    "#print('Cross Val Score:',rfc*100)"
   ]
  },
  {
   "cell_type": "markdown",
   "id": "21030a26",
   "metadata": {},
   "source": [
    "# Decision Tree Classifier"
   ]
  },
  {
   "cell_type": "code",
   "execution_count": 92,
   "id": "aa67b949",
   "metadata": {},
   "outputs": [
    {
     "name": "stdout",
     "output_type": "stream",
     "text": [
      "{'criterion': 'gini', 'max_features': 'auto', 'random_state': 85, 'splitter': 'best'}\n"
     ]
    }
   ],
   "source": [
    "from sklearn.tree import DecisionTreeClassifier\n",
    "parameters = {'criterion':['gini', 'entropy'],'max_features':[\"auto\", \"sqrt\", \"log2\"],'splitter':[\"best\", \"random\"],'random_state':[85]}\n",
    "DTC =DecisionTreeClassifier()\n",
    "FitParameters = GridSearchCV(DTC,parameters)\n",
    "FitParameters.fit(x_train,y_train)\n",
    "print(FitParameters.best_params_)"
   ]
  },
  {
   "cell_type": "code",
   "execution_count": 93,
   "id": "827caba8",
   "metadata": {},
   "outputs": [
    {
     "name": "stdout",
     "output_type": "stream",
     "text": [
      "              precision    recall  f1-score   support\n",
      "\n",
      "           0       0.86      0.87      0.86      4909\n",
      "           1       0.58      0.55      0.57      1603\n",
      "\n",
      "    accuracy                           0.79      6512\n",
      "   macro avg       0.72      0.71      0.72      6512\n",
      "weighted avg       0.79      0.79      0.79      6512\n",
      "\n"
     ]
    }
   ],
   "source": [
    "from sklearn.metrics import classification_report\n",
    "DTC1= DecisionTreeClassifier(criterion=\"gini\",max_features=\"auto\",random_state=85,splitter=\"best\")\n",
    "DTC1.fit(x_train, y_train)\n",
    "DTC1.score(x_train, y_train)\n",
    "x_predict = DTC1.predict(x_test)\n",
    "print(classification_report(x_predict,y_test))\n"
   ]
  },
  {
   "cell_type": "markdown",
   "id": "d7c47ed8",
   "metadata": {},
   "source": [
    "# SVC"
   ]
  },
  {
   "cell_type": "code",
   "execution_count": 95,
   "id": "dfc6f8cc",
   "metadata": {},
   "outputs": [
    {
     "name": "stdout",
     "output_type": "stream",
     "text": [
      "{'gamma': 'auto', 'random_state': 85, 'shrinking': True}\n"
     ]
    }
   ],
   "source": [
    "from sklearn import svm\n",
    "parameters = {'gamma':['scale','auto'],'random_state':[85],'shrinking':[True,False]}\n",
    "SVC=svm.SVC()\n",
    "FitParameters = GridSearchCV(SVC,parameters)\n",
    "FitParameters.fit(x_train,y_train)\n",
    "print(FitParameters.best_params_)"
   ]
  },
  {
   "cell_type": "code",
   "execution_count": 96,
   "id": "623efba7",
   "metadata": {},
   "outputs": [
    {
     "name": "stdout",
     "output_type": "stream",
     "text": [
      "              precision    recall  f1-score   support\n",
      "\n",
      "           0       0.93      0.86      0.90      5397\n",
      "           1       0.51      0.70      0.59      1115\n",
      "\n",
      "    accuracy                           0.83      6512\n",
      "   macro avg       0.72      0.78      0.74      6512\n",
      "weighted avg       0.86      0.83      0.84      6512\n",
      "\n"
     ]
    }
   ],
   "source": [
    "svc= svm.SVC(gamma=\"auto\",random_state=85,shrinking=True)\n",
    "svc.fit(x_train, y_train)\n",
    "svc.score(x_train, y_train)\n",
    "x_predict = svc.predict(x_test)\n",
    "print(classification_report(x_predict,y_test))"
   ]
  },
  {
   "cell_type": "markdown",
   "id": "15615f36",
   "metadata": {},
   "source": [
    "From the above we can see that Random tree Classifier is the best algorithm"
   ]
  },
  {
   "cell_type": "code",
   "execution_count": 97,
   "id": "1d0ec6ad",
   "metadata": {},
   "outputs": [],
   "source": [
    "import pickle\n",
    "filename = 'Cen.pkl'\n",
    "pickle.dump(rf, open(filename, 'wb'))"
   ]
  },
  {
   "cell_type": "code",
   "execution_count": 98,
   "id": "b063e74c",
   "metadata": {},
   "outputs": [
    {
     "data": {
      "text/plain": [
       "array([0, 0, 0, ..., 1, 1, 0])"
      ]
     },
     "execution_count": 98,
     "metadata": {},
     "output_type": "execute_result"
    }
   ],
   "source": [
    "import numpy as np\n",
    "a=np.array(y_test)\n",
    "a"
   ]
  },
  {
   "cell_type": "code",
   "execution_count": 99,
   "id": "80a6ed5b",
   "metadata": {},
   "outputs": [
    {
     "data": {
      "text/plain": [
       "array([0, 0, 0, ..., 1, 0, 0])"
      ]
     },
     "execution_count": 99,
     "metadata": {},
     "output_type": "execute_result"
    }
   ],
   "source": [
    "predicted=np.array(rf.predict(x_test))\n",
    "predicted\n",
    "predicted.shape\n",
    "rf.predict(x_test)"
   ]
  },
  {
   "cell_type": "code",
   "execution_count": 100,
   "id": "335d79c1",
   "metadata": {},
   "outputs": [
    {
     "data": {
      "text/html": [
       "<div>\n",
       "<style scoped>\n",
       "    .dataframe tbody tr th:only-of-type {\n",
       "        vertical-align: middle;\n",
       "    }\n",
       "\n",
       "    .dataframe tbody tr th {\n",
       "        vertical-align: top;\n",
       "    }\n",
       "\n",
       "    .dataframe thead th {\n",
       "        text-align: right;\n",
       "    }\n",
       "</style>\n",
       "<table border=\"1\" class=\"dataframe\">\n",
       "  <thead>\n",
       "    <tr style=\"text-align: right;\">\n",
       "      <th></th>\n",
       "      <th>original</th>\n",
       "      <th>predicted</th>\n",
       "    </tr>\n",
       "  </thead>\n",
       "  <tbody>\n",
       "    <tr>\n",
       "      <th>0</th>\n",
       "      <td>0</td>\n",
       "      <td>0</td>\n",
       "    </tr>\n",
       "    <tr>\n",
       "      <th>1</th>\n",
       "      <td>0</td>\n",
       "      <td>0</td>\n",
       "    </tr>\n",
       "    <tr>\n",
       "      <th>2</th>\n",
       "      <td>0</td>\n",
       "      <td>0</td>\n",
       "    </tr>\n",
       "    <tr>\n",
       "      <th>3</th>\n",
       "      <td>0</td>\n",
       "      <td>0</td>\n",
       "    </tr>\n",
       "    <tr>\n",
       "      <th>4</th>\n",
       "      <td>0</td>\n",
       "      <td>0</td>\n",
       "    </tr>\n",
       "    <tr>\n",
       "      <th>...</th>\n",
       "      <td>...</td>\n",
       "      <td>...</td>\n",
       "    </tr>\n",
       "    <tr>\n",
       "      <th>6507</th>\n",
       "      <td>0</td>\n",
       "      <td>0</td>\n",
       "    </tr>\n",
       "    <tr>\n",
       "      <th>6508</th>\n",
       "      <td>0</td>\n",
       "      <td>0</td>\n",
       "    </tr>\n",
       "    <tr>\n",
       "      <th>6509</th>\n",
       "      <td>1</td>\n",
       "      <td>1</td>\n",
       "    </tr>\n",
       "    <tr>\n",
       "      <th>6510</th>\n",
       "      <td>1</td>\n",
       "      <td>0</td>\n",
       "    </tr>\n",
       "    <tr>\n",
       "      <th>6511</th>\n",
       "      <td>0</td>\n",
       "      <td>0</td>\n",
       "    </tr>\n",
       "  </tbody>\n",
       "</table>\n",
       "<p>6512 rows × 2 columns</p>\n",
       "</div>"
      ],
      "text/plain": [
       "      original  predicted\n",
       "0            0          0\n",
       "1            0          0\n",
       "2            0          0\n",
       "3            0          0\n",
       "4            0          0\n",
       "...        ...        ...\n",
       "6507         0          0\n",
       "6508         0          0\n",
       "6509         1          1\n",
       "6510         1          0\n",
       "6511         0          0\n",
       "\n",
       "[6512 rows x 2 columns]"
      ]
     },
     "execution_count": 100,
     "metadata": {},
     "output_type": "execute_result"
    }
   ],
   "source": [
    "conclusion=pd.DataFrame({\"original\":a,\"predicted\":predicted}, index= range(len(a)))\n",
    "conclusion"
   ]
  },
  {
   "cell_type": "code",
   "execution_count": null,
   "id": "1942eba6",
   "metadata": {},
   "outputs": [],
   "source": []
  }
 ],
 "metadata": {
  "kernelspec": {
   "display_name": "Python 3",
   "language": "python",
   "name": "python3"
  },
  "language_info": {
   "codemirror_mode": {
    "name": "ipython",
    "version": 3
   },
   "file_extension": ".py",
   "mimetype": "text/x-python",
   "name": "python",
   "nbconvert_exporter": "python",
   "pygments_lexer": "ipython3",
   "version": "3.8.8"
  }
 },
 "nbformat": 4,
 "nbformat_minor": 5
}
