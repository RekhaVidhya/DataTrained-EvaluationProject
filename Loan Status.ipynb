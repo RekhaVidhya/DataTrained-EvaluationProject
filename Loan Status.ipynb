{
 "cells": [
  {
   "cell_type": "code",
   "execution_count": 1,
   "id": "e4a9d6d2",
   "metadata": {},
   "outputs": [],
   "source": [
    "import io\n",
    "import numpy as np\n",
    "import math\n",
    "import matplotlib.pyplot as plt\n",
    "import pandas as pd\n",
    "import seaborn as sns\n",
    "import sklearn\n",
    "df=pd.read_csv(\"https://raw.githubusercontent.com/dsrscientist/DSData/master/loan_prediction.csv\")"
   ]
  },
  {
   "cell_type": "code",
   "execution_count": 2,
   "id": "f6c0a248",
   "metadata": {},
   "outputs": [
    {
     "data": {
      "text/plain": [
       "Index(['Loan_ID', 'Gender', 'Married', 'Dependents', 'Education',\n",
       "       'Self_Employed', 'ApplicantIncome', 'CoapplicantIncome', 'LoanAmount',\n",
       "       'Loan_Amount_Term', 'Credit_History', 'Property_Area', 'Loan_Status'],\n",
       "      dtype='object')"
      ]
     },
     "execution_count": 2,
     "metadata": {},
     "output_type": "execute_result"
    }
   ],
   "source": [
    "df.columns"
   ]
  },
  {
   "cell_type": "code",
   "execution_count": 3,
   "id": "30e64f2b",
   "metadata": {},
   "outputs": [
    {
     "data": {
      "text/html": [
       "<div>\n",
       "<style scoped>\n",
       "    .dataframe tbody tr th:only-of-type {\n",
       "        vertical-align: middle;\n",
       "    }\n",
       "\n",
       "    .dataframe tbody tr th {\n",
       "        vertical-align: top;\n",
       "    }\n",
       "\n",
       "    .dataframe thead th {\n",
       "        text-align: right;\n",
       "    }\n",
       "</style>\n",
       "<table border=\"1\" class=\"dataframe\">\n",
       "  <thead>\n",
       "    <tr style=\"text-align: right;\">\n",
       "      <th></th>\n",
       "      <th>Loan_ID</th>\n",
       "      <th>Gender</th>\n",
       "      <th>Married</th>\n",
       "      <th>Dependents</th>\n",
       "      <th>Education</th>\n",
       "      <th>Self_Employed</th>\n",
       "      <th>ApplicantIncome</th>\n",
       "      <th>CoapplicantIncome</th>\n",
       "      <th>LoanAmount</th>\n",
       "      <th>Loan_Amount_Term</th>\n",
       "      <th>Credit_History</th>\n",
       "      <th>Property_Area</th>\n",
       "      <th>Loan_Status</th>\n",
       "    </tr>\n",
       "  </thead>\n",
       "  <tbody>\n",
       "    <tr>\n",
       "      <th>0</th>\n",
       "      <td>LP001002</td>\n",
       "      <td>Male</td>\n",
       "      <td>No</td>\n",
       "      <td>0</td>\n",
       "      <td>Graduate</td>\n",
       "      <td>No</td>\n",
       "      <td>5849</td>\n",
       "      <td>0.0</td>\n",
       "      <td>NaN</td>\n",
       "      <td>360.0</td>\n",
       "      <td>1.0</td>\n",
       "      <td>Urban</td>\n",
       "      <td>Y</td>\n",
       "    </tr>\n",
       "    <tr>\n",
       "      <th>1</th>\n",
       "      <td>LP001003</td>\n",
       "      <td>Male</td>\n",
       "      <td>Yes</td>\n",
       "      <td>1</td>\n",
       "      <td>Graduate</td>\n",
       "      <td>No</td>\n",
       "      <td>4583</td>\n",
       "      <td>1508.0</td>\n",
       "      <td>128.0</td>\n",
       "      <td>360.0</td>\n",
       "      <td>1.0</td>\n",
       "      <td>Rural</td>\n",
       "      <td>N</td>\n",
       "    </tr>\n",
       "    <tr>\n",
       "      <th>2</th>\n",
       "      <td>LP001005</td>\n",
       "      <td>Male</td>\n",
       "      <td>Yes</td>\n",
       "      <td>0</td>\n",
       "      <td>Graduate</td>\n",
       "      <td>Yes</td>\n",
       "      <td>3000</td>\n",
       "      <td>0.0</td>\n",
       "      <td>66.0</td>\n",
       "      <td>360.0</td>\n",
       "      <td>1.0</td>\n",
       "      <td>Urban</td>\n",
       "      <td>Y</td>\n",
       "    </tr>\n",
       "    <tr>\n",
       "      <th>3</th>\n",
       "      <td>LP001006</td>\n",
       "      <td>Male</td>\n",
       "      <td>Yes</td>\n",
       "      <td>0</td>\n",
       "      <td>Not Graduate</td>\n",
       "      <td>No</td>\n",
       "      <td>2583</td>\n",
       "      <td>2358.0</td>\n",
       "      <td>120.0</td>\n",
       "      <td>360.0</td>\n",
       "      <td>1.0</td>\n",
       "      <td>Urban</td>\n",
       "      <td>Y</td>\n",
       "    </tr>\n",
       "    <tr>\n",
       "      <th>4</th>\n",
       "      <td>LP001008</td>\n",
       "      <td>Male</td>\n",
       "      <td>No</td>\n",
       "      <td>0</td>\n",
       "      <td>Graduate</td>\n",
       "      <td>No</td>\n",
       "      <td>6000</td>\n",
       "      <td>0.0</td>\n",
       "      <td>141.0</td>\n",
       "      <td>360.0</td>\n",
       "      <td>1.0</td>\n",
       "      <td>Urban</td>\n",
       "      <td>Y</td>\n",
       "    </tr>\n",
       "  </tbody>\n",
       "</table>\n",
       "</div>"
      ],
      "text/plain": [
       "    Loan_ID Gender Married Dependents     Education Self_Employed  \\\n",
       "0  LP001002   Male      No          0      Graduate            No   \n",
       "1  LP001003   Male     Yes          1      Graduate            No   \n",
       "2  LP001005   Male     Yes          0      Graduate           Yes   \n",
       "3  LP001006   Male     Yes          0  Not Graduate            No   \n",
       "4  LP001008   Male      No          0      Graduate            No   \n",
       "\n",
       "   ApplicantIncome  CoapplicantIncome  LoanAmount  Loan_Amount_Term  \\\n",
       "0             5849                0.0         NaN             360.0   \n",
       "1             4583             1508.0       128.0             360.0   \n",
       "2             3000                0.0        66.0             360.0   \n",
       "3             2583             2358.0       120.0             360.0   \n",
       "4             6000                0.0       141.0             360.0   \n",
       "\n",
       "   Credit_History Property_Area Loan_Status  \n",
       "0             1.0         Urban           Y  \n",
       "1             1.0         Rural           N  \n",
       "2             1.0         Urban           Y  \n",
       "3             1.0         Urban           Y  \n",
       "4             1.0         Urban           Y  "
      ]
     },
     "execution_count": 3,
     "metadata": {},
     "output_type": "execute_result"
    }
   ],
   "source": [
    "df.head()"
   ]
  },
  {
   "cell_type": "code",
   "execution_count": 4,
   "id": "332873f0",
   "metadata": {},
   "outputs": [
    {
     "data": {
      "text/html": [
       "<div>\n",
       "<style scoped>\n",
       "    .dataframe tbody tr th:only-of-type {\n",
       "        vertical-align: middle;\n",
       "    }\n",
       "\n",
       "    .dataframe tbody tr th {\n",
       "        vertical-align: top;\n",
       "    }\n",
       "\n",
       "    .dataframe thead th {\n",
       "        text-align: right;\n",
       "    }\n",
       "</style>\n",
       "<table border=\"1\" class=\"dataframe\">\n",
       "  <thead>\n",
       "    <tr style=\"text-align: right;\">\n",
       "      <th></th>\n",
       "      <th>Loan_ID</th>\n",
       "      <th>Gender</th>\n",
       "      <th>Married</th>\n",
       "      <th>Dependents</th>\n",
       "      <th>Education</th>\n",
       "      <th>Self_Employed</th>\n",
       "      <th>ApplicantIncome</th>\n",
       "      <th>CoapplicantIncome</th>\n",
       "      <th>LoanAmount</th>\n",
       "      <th>Loan_Amount_Term</th>\n",
       "      <th>Credit_History</th>\n",
       "      <th>Property_Area</th>\n",
       "      <th>Loan_Status</th>\n",
       "    </tr>\n",
       "  </thead>\n",
       "  <tbody>\n",
       "    <tr>\n",
       "      <th>609</th>\n",
       "      <td>LP002978</td>\n",
       "      <td>Female</td>\n",
       "      <td>No</td>\n",
       "      <td>0</td>\n",
       "      <td>Graduate</td>\n",
       "      <td>No</td>\n",
       "      <td>2900</td>\n",
       "      <td>0.0</td>\n",
       "      <td>71.0</td>\n",
       "      <td>360.0</td>\n",
       "      <td>1.0</td>\n",
       "      <td>Rural</td>\n",
       "      <td>Y</td>\n",
       "    </tr>\n",
       "    <tr>\n",
       "      <th>610</th>\n",
       "      <td>LP002979</td>\n",
       "      <td>Male</td>\n",
       "      <td>Yes</td>\n",
       "      <td>3+</td>\n",
       "      <td>Graduate</td>\n",
       "      <td>No</td>\n",
       "      <td>4106</td>\n",
       "      <td>0.0</td>\n",
       "      <td>40.0</td>\n",
       "      <td>180.0</td>\n",
       "      <td>1.0</td>\n",
       "      <td>Rural</td>\n",
       "      <td>Y</td>\n",
       "    </tr>\n",
       "    <tr>\n",
       "      <th>611</th>\n",
       "      <td>LP002983</td>\n",
       "      <td>Male</td>\n",
       "      <td>Yes</td>\n",
       "      <td>1</td>\n",
       "      <td>Graduate</td>\n",
       "      <td>No</td>\n",
       "      <td>8072</td>\n",
       "      <td>240.0</td>\n",
       "      <td>253.0</td>\n",
       "      <td>360.0</td>\n",
       "      <td>1.0</td>\n",
       "      <td>Urban</td>\n",
       "      <td>Y</td>\n",
       "    </tr>\n",
       "    <tr>\n",
       "      <th>612</th>\n",
       "      <td>LP002984</td>\n",
       "      <td>Male</td>\n",
       "      <td>Yes</td>\n",
       "      <td>2</td>\n",
       "      <td>Graduate</td>\n",
       "      <td>No</td>\n",
       "      <td>7583</td>\n",
       "      <td>0.0</td>\n",
       "      <td>187.0</td>\n",
       "      <td>360.0</td>\n",
       "      <td>1.0</td>\n",
       "      <td>Urban</td>\n",
       "      <td>Y</td>\n",
       "    </tr>\n",
       "    <tr>\n",
       "      <th>613</th>\n",
       "      <td>LP002990</td>\n",
       "      <td>Female</td>\n",
       "      <td>No</td>\n",
       "      <td>0</td>\n",
       "      <td>Graduate</td>\n",
       "      <td>Yes</td>\n",
       "      <td>4583</td>\n",
       "      <td>0.0</td>\n",
       "      <td>133.0</td>\n",
       "      <td>360.0</td>\n",
       "      <td>0.0</td>\n",
       "      <td>Semiurban</td>\n",
       "      <td>N</td>\n",
       "    </tr>\n",
       "  </tbody>\n",
       "</table>\n",
       "</div>"
      ],
      "text/plain": [
       "      Loan_ID  Gender Married Dependents Education Self_Employed  \\\n",
       "609  LP002978  Female      No          0  Graduate            No   \n",
       "610  LP002979    Male     Yes         3+  Graduate            No   \n",
       "611  LP002983    Male     Yes          1  Graduate            No   \n",
       "612  LP002984    Male     Yes          2  Graduate            No   \n",
       "613  LP002990  Female      No          0  Graduate           Yes   \n",
       "\n",
       "     ApplicantIncome  CoapplicantIncome  LoanAmount  Loan_Amount_Term  \\\n",
       "609             2900                0.0        71.0             360.0   \n",
       "610             4106                0.0        40.0             180.0   \n",
       "611             8072              240.0       253.0             360.0   \n",
       "612             7583                0.0       187.0             360.0   \n",
       "613             4583                0.0       133.0             360.0   \n",
       "\n",
       "     Credit_History Property_Area Loan_Status  \n",
       "609             1.0         Rural           Y  \n",
       "610             1.0         Rural           Y  \n",
       "611             1.0         Urban           Y  \n",
       "612             1.0         Urban           Y  \n",
       "613             0.0     Semiurban           N  "
      ]
     },
     "execution_count": 4,
     "metadata": {},
     "output_type": "execute_result"
    }
   ],
   "source": [
    "df.tail()"
   ]
  },
  {
   "cell_type": "code",
   "execution_count": 5,
   "id": "f45b5c6e",
   "metadata": {},
   "outputs": [
    {
     "data": {
      "text/html": [
       "<div>\n",
       "<style scoped>\n",
       "    .dataframe tbody tr th:only-of-type {\n",
       "        vertical-align: middle;\n",
       "    }\n",
       "\n",
       "    .dataframe tbody tr th {\n",
       "        vertical-align: top;\n",
       "    }\n",
       "\n",
       "    .dataframe thead th {\n",
       "        text-align: right;\n",
       "    }\n",
       "</style>\n",
       "<table border=\"1\" class=\"dataframe\">\n",
       "  <thead>\n",
       "    <tr style=\"text-align: right;\">\n",
       "      <th></th>\n",
       "      <th>ApplicantIncome</th>\n",
       "      <th>CoapplicantIncome</th>\n",
       "      <th>LoanAmount</th>\n",
       "      <th>Loan_Amount_Term</th>\n",
       "      <th>Credit_History</th>\n",
       "    </tr>\n",
       "  </thead>\n",
       "  <tbody>\n",
       "    <tr>\n",
       "      <th>count</th>\n",
       "      <td>614.000000</td>\n",
       "      <td>614.000000</td>\n",
       "      <td>592.000000</td>\n",
       "      <td>600.00000</td>\n",
       "      <td>564.000000</td>\n",
       "    </tr>\n",
       "    <tr>\n",
       "      <th>mean</th>\n",
       "      <td>5403.459283</td>\n",
       "      <td>1621.245798</td>\n",
       "      <td>146.412162</td>\n",
       "      <td>342.00000</td>\n",
       "      <td>0.842199</td>\n",
       "    </tr>\n",
       "    <tr>\n",
       "      <th>std</th>\n",
       "      <td>6109.041673</td>\n",
       "      <td>2926.248369</td>\n",
       "      <td>85.587325</td>\n",
       "      <td>65.12041</td>\n",
       "      <td>0.364878</td>\n",
       "    </tr>\n",
       "    <tr>\n",
       "      <th>min</th>\n",
       "      <td>150.000000</td>\n",
       "      <td>0.000000</td>\n",
       "      <td>9.000000</td>\n",
       "      <td>12.00000</td>\n",
       "      <td>0.000000</td>\n",
       "    </tr>\n",
       "    <tr>\n",
       "      <th>25%</th>\n",
       "      <td>2877.500000</td>\n",
       "      <td>0.000000</td>\n",
       "      <td>100.000000</td>\n",
       "      <td>360.00000</td>\n",
       "      <td>1.000000</td>\n",
       "    </tr>\n",
       "    <tr>\n",
       "      <th>50%</th>\n",
       "      <td>3812.500000</td>\n",
       "      <td>1188.500000</td>\n",
       "      <td>128.000000</td>\n",
       "      <td>360.00000</td>\n",
       "      <td>1.000000</td>\n",
       "    </tr>\n",
       "    <tr>\n",
       "      <th>75%</th>\n",
       "      <td>5795.000000</td>\n",
       "      <td>2297.250000</td>\n",
       "      <td>168.000000</td>\n",
       "      <td>360.00000</td>\n",
       "      <td>1.000000</td>\n",
       "    </tr>\n",
       "    <tr>\n",
       "      <th>max</th>\n",
       "      <td>81000.000000</td>\n",
       "      <td>41667.000000</td>\n",
       "      <td>700.000000</td>\n",
       "      <td>480.00000</td>\n",
       "      <td>1.000000</td>\n",
       "    </tr>\n",
       "  </tbody>\n",
       "</table>\n",
       "</div>"
      ],
      "text/plain": [
       "       ApplicantIncome  CoapplicantIncome  LoanAmount  Loan_Amount_Term  \\\n",
       "count       614.000000         614.000000  592.000000         600.00000   \n",
       "mean       5403.459283        1621.245798  146.412162         342.00000   \n",
       "std        6109.041673        2926.248369   85.587325          65.12041   \n",
       "min         150.000000           0.000000    9.000000          12.00000   \n",
       "25%        2877.500000           0.000000  100.000000         360.00000   \n",
       "50%        3812.500000        1188.500000  128.000000         360.00000   \n",
       "75%        5795.000000        2297.250000  168.000000         360.00000   \n",
       "max       81000.000000       41667.000000  700.000000         480.00000   \n",
       "\n",
       "       Credit_History  \n",
       "count      564.000000  \n",
       "mean         0.842199  \n",
       "std          0.364878  \n",
       "min          0.000000  \n",
       "25%          1.000000  \n",
       "50%          1.000000  \n",
       "75%          1.000000  \n",
       "max          1.000000  "
      ]
     },
     "execution_count": 5,
     "metadata": {},
     "output_type": "execute_result"
    }
   ],
   "source": [
    "df.describe()"
   ]
  },
  {
   "cell_type": "code",
   "execution_count": 6,
   "id": "43e0a994",
   "metadata": {},
   "outputs": [
    {
     "data": {
      "text/plain": [
       "Loan_ID               object\n",
       "Gender                object\n",
       "Married               object\n",
       "Dependents            object\n",
       "Education             object\n",
       "Self_Employed         object\n",
       "ApplicantIncome        int64\n",
       "CoapplicantIncome    float64\n",
       "LoanAmount           float64\n",
       "Loan_Amount_Term     float64\n",
       "Credit_History       float64\n",
       "Property_Area         object\n",
       "Loan_Status           object\n",
       "dtype: object"
      ]
     },
     "execution_count": 6,
     "metadata": {},
     "output_type": "execute_result"
    }
   ],
   "source": [
    "df.dtypes"
   ]
  },
  {
   "cell_type": "code",
   "execution_count": 9,
   "id": "dc38f786",
   "metadata": {},
   "outputs": [
    {
     "data": {
      "text/plain": [
       "0"
      ]
     },
     "execution_count": 9,
     "metadata": {},
     "output_type": "execute_result"
    }
   ],
   "source": [
    "df[\"Loan_ID\"].duplicated().sum()"
   ]
  },
  {
   "cell_type": "code",
   "execution_count": 10,
   "id": "be98c17c",
   "metadata": {},
   "outputs": [
    {
     "data": {
      "text/plain": [
       "array(['No', 'Yes', nan], dtype=object)"
      ]
     },
     "execution_count": 10,
     "metadata": {},
     "output_type": "execute_result"
    }
   ],
   "source": [
    "df[\"Married\"].unique()"
   ]
  },
  {
   "cell_type": "code",
   "execution_count": 11,
   "id": "2fec5594",
   "metadata": {},
   "outputs": [
    {
     "data": {
      "text/plain": [
       "array(['Graduate', 'Not Graduate'], dtype=object)"
      ]
     },
     "execution_count": 11,
     "metadata": {},
     "output_type": "execute_result"
    }
   ],
   "source": [
    "df[\"Education\"].unique()"
   ]
  },
  {
   "cell_type": "code",
   "execution_count": 12,
   "id": "2323934c",
   "metadata": {},
   "outputs": [
    {
     "data": {
      "text/plain": [
       "array(['Y', 'N'], dtype=object)"
      ]
     },
     "execution_count": 12,
     "metadata": {},
     "output_type": "execute_result"
    }
   ],
   "source": [
    "df[\"Loan_Status\"].unique()"
   ]
  },
  {
   "cell_type": "code",
   "execution_count": 13,
   "id": "b17c8af1",
   "metadata": {},
   "outputs": [
    {
     "data": {
      "text/plain": [
       "array(['Urban', 'Rural', 'Semiurban'], dtype=object)"
      ]
     },
     "execution_count": 13,
     "metadata": {},
     "output_type": "execute_result"
    }
   ],
   "source": [
    "df[\"Property_Area\"].unique()"
   ]
  },
  {
   "cell_type": "code",
   "execution_count": 14,
   "id": "e1dfd41d",
   "metadata": {},
   "outputs": [
    {
     "data": {
      "text/plain": [
       "array(['No', 'Yes', nan], dtype=object)"
      ]
     },
     "execution_count": 14,
     "metadata": {},
     "output_type": "execute_result"
    }
   ],
   "source": [
    "df[\"Self_Employed\"].unique()"
   ]
  },
  {
   "cell_type": "code",
   "execution_count": 15,
   "id": "244ce547",
   "metadata": {},
   "outputs": [
    {
     "data": {
      "text/plain": [
       "Loan_ID               0\n",
       "Gender               13\n",
       "Married               3\n",
       "Dependents           15\n",
       "Education             0\n",
       "Self_Employed        32\n",
       "ApplicantIncome       0\n",
       "CoapplicantIncome     0\n",
       "LoanAmount           22\n",
       "Loan_Amount_Term     14\n",
       "Credit_History       50\n",
       "Property_Area         0\n",
       "Loan_Status           0\n",
       "dtype: int64"
      ]
     },
     "execution_count": 15,
     "metadata": {},
     "output_type": "execute_result"
    }
   ],
   "source": [
    "df.isnull().sum()"
   ]
  },
  {
   "cell_type": "markdown",
   "id": "75474c67",
   "metadata": {},
   "source": [
    "There are missing values in Gender,Married,Dependents, Self Employed,Loan Amount, Term and Property Area and needs to be treated"
   ]
  },
  {
   "cell_type": "markdown",
   "id": "d7c0d866",
   "metadata": {},
   "source": [
    "# Treating Missing Values"
   ]
  },
  {
   "cell_type": "code",
   "execution_count": 16,
   "id": "a4add203",
   "metadata": {},
   "outputs": [],
   "source": [
    "df[\"Gender\"]=df[\"Gender\"].fillna(df[\"Gender\"].mode()[0])"
   ]
  },
  {
   "cell_type": "code",
   "execution_count": 26,
   "id": "5b3a41d9",
   "metadata": {},
   "outputs": [],
   "source": [
    "df[\"Married\"]=df[\"Married\"].fillna(df[\"Married\"].mode()[0])\n"
   ]
  },
  {
   "cell_type": "code",
   "execution_count": 18,
   "id": "74218aee",
   "metadata": {},
   "outputs": [],
   "source": [
    "df[\"Dependents\"]=df[\"Dependents\"].fillna(df[\"Dependents\"].mode()[0])\n"
   ]
  },
  {
   "cell_type": "code",
   "execution_count": 19,
   "id": "5c1db5e5",
   "metadata": {},
   "outputs": [],
   "source": [
    "df[\"Self_Employed\"]=df[\"Self_Employed\"].fillna(df[\"Self_Employed\"].mode()[0])\n"
   ]
  },
  {
   "cell_type": "code",
   "execution_count": 20,
   "id": "a1e7b31a",
   "metadata": {},
   "outputs": [
    {
     "data": {
      "text/plain": [
       "Loan_ID               0\n",
       "Gender                0\n",
       "Married               3\n",
       "Dependents            0\n",
       "Education             0\n",
       "Self_Employed         0\n",
       "ApplicantIncome       0\n",
       "CoapplicantIncome     0\n",
       "LoanAmount           22\n",
       "Loan_Amount_Term     14\n",
       "Credit_History       50\n",
       "Property_Area         0\n",
       "Loan_Status           0\n",
       "Maried                0\n",
       "dtype: int64"
      ]
     },
     "execution_count": 20,
     "metadata": {},
     "output_type": "execute_result"
    }
   ],
   "source": [
    "df.isnull().sum()"
   ]
  },
  {
   "cell_type": "code",
   "execution_count": 21,
   "id": "5c996a0c",
   "metadata": {},
   "outputs": [
    {
     "name": "stderr",
     "output_type": "stream",
     "text": [
      "C:\\Users\\DELL\\anaconda3\\lib\\site-packages\\seaborn\\distributions.py:2557: FutureWarning: `distplot` is a deprecated function and will be removed in a future version. Please adapt your code to use either `displot` (a figure-level function with similar flexibility) or `histplot` (an axes-level function for histograms).\n",
      "  warnings.warn(msg, FutureWarning)\n"
     ]
    },
    {
     "data": {
      "text/plain": [
       "<AxesSubplot:xlabel='LoanAmount', ylabel='Density'>"
      ]
     },
     "execution_count": 21,
     "metadata": {},
     "output_type": "execute_result"
    },
    {
     "data": {
      "image/png": "[encoded data removed]",
      "text/plain": [
       "<Figure size 432x288 with 1 Axes>"
      ]
     },
     "metadata": {
      "needs_background": "light"
     },
     "output_type": "display_data"
    }
   ],
   "source": [
    "sns.distplot(df[\"LoanAmount\"])"
   ]
  },
  {
   "cell_type": "code",
   "execution_count": 22,
   "id": "850e0c13",
   "metadata": {},
   "outputs": [
    {
     "name": "stderr",
     "output_type": "stream",
     "text": [
      "C:\\Users\\DELL\\anaconda3\\lib\\site-packages\\seaborn\\distributions.py:2557: FutureWarning: `distplot` is a deprecated function and will be removed in a future version. Please adapt your code to use either `displot` (a figure-level function with similar flexibility) or `histplot` (an axes-level function for histograms).\n",
      "  warnings.warn(msg, FutureWarning)\n"
     ]
    },
    {
     "data": {
      "text/plain": [
       "<AxesSubplot:xlabel='Loan_Amount_Term', ylabel='Density'>"
      ]
     },
     "execution_count": 22,
     "metadata": {},
     "output_type": "execute_result"
    },
    {
     "data": {
      "image/png": "[encoded data removed]",
      "text/plain": [
       "<Figure size 432x288 with 1 Axes>"
      ]
     },
     "metadata": {
      "needs_background": "light"
     },
     "output_type": "display_data"
    }
   ],
   "source": [
    "sns.distplot(df[\"Loan_Amount_Term\"])"
   ]
  },
  {
   "cell_type": "code",
   "execution_count": 23,
   "id": "1b9d73f5",
   "metadata": {},
   "outputs": [
    {
     "name": "stderr",
     "output_type": "stream",
     "text": [
      "C:\\Users\\DELL\\anaconda3\\lib\\site-packages\\seaborn\\distributions.py:2557: FutureWarning: `distplot` is a deprecated function and will be removed in a future version. Please adapt your code to use either `displot` (a figure-level function with similar flexibility) or `histplot` (an axes-level function for histograms).\n",
      "  warnings.warn(msg, FutureWarning)\n"
     ]
    },
    {
     "data": {
      "text/plain": [
       "<AxesSubplot:xlabel='Credit_History', ylabel='Density'>"
      ]
     },
     "execution_count": 23,
     "metadata": {},
     "output_type": "execute_result"
    },
    {
     "data": {
      "image/png": "[encoded data removed]",
      "text/plain": [
       "<Figure size 432x288 with 1 Axes>"
      ]
     },
     "metadata": {
      "needs_background": "light"
     },
     "output_type": "display_data"
    }
   ],
   "source": [
    "sns.distplot(df[\"Credit_History\"])"
   ]
  },
  {
   "cell_type": "code",
   "execution_count": 24,
   "id": "94b2c747",
   "metadata": {},
   "outputs": [],
   "source": [
    "df[\"Credit_History\"]=df[\"Credit_History\"].fillna(df[\"Credit_History\"].median())\n",
    "df[\"LoanAmount\"]=df[\"LoanAmount\"].fillna(df[\"LoanAmount\"].median())\n",
    "df[\"Loan_Amount_Term\"]=df[\"Loan_Amount_Term\"].fillna(df[\"Loan_Amount_Term\"].median())\n",
    "\n"
   ]
  },
  {
   "cell_type": "code",
   "execution_count": 30,
   "id": "5b44a724",
   "metadata": {},
   "outputs": [
    {
     "data": {
      "text/plain": [
       "Loan_ID              0\n",
       "Gender               0\n",
       "Married              0\n",
       "Dependents           0\n",
       "Education            0\n",
       "Self_Employed        0\n",
       "ApplicantIncome      0\n",
       "CoapplicantIncome    0\n",
       "LoanAmount           0\n",
       "Loan_Amount_Term     0\n",
       "Credit_History       0\n",
       "Property_Area        0\n",
       "Loan_Status          0\n",
       "dtype: int64"
      ]
     },
     "execution_count": 30,
     "metadata": {},
     "output_type": "execute_result"
    }
   ],
   "source": [
    "df.isnull().sum()"
   ]
  },
  {
   "cell_type": "code",
   "execution_count": 31,
   "id": "c3194bc4",
   "metadata": {},
   "outputs": [
    {
     "name": "stderr",
     "output_type": "stream",
     "text": [
      "C:\\Users\\DELL\\anaconda3\\lib\\site-packages\\seaborn\\_decorators.py:36: FutureWarning: Pass the following variable as a keyword arg: x. From version 0.12, the only valid positional argument will be `data`, and passing other arguments without an explicit keyword will result in an error or misinterpretation.\n",
      "  warnings.warn(\n"
     ]
    },
    {
     "data": {
      "text/plain": [
       "<AxesSubplot:xlabel='LoanAmount'>"
      ]
     },
     "execution_count": 31,
     "metadata": {},
     "output_type": "execute_result"
    },
    {
     "data": {
      "image/png": "[encoded data removed]",
      "text/plain": [
       "<Figure size 432x288 with 1 Axes>"
      ]
     },
     "metadata": {
      "needs_background": "light"
     },
     "output_type": "display_data"
    }
   ],
   "source": [
    "sns.boxplot(df[\"LoanAmount\"])"
   ]
  },
  {
   "cell_type": "code",
   "execution_count": 32,
   "id": "6637475e",
   "metadata": {},
   "outputs": [
    {
     "name": "stderr",
     "output_type": "stream",
     "text": [
      "C:\\Users\\DELL\\anaconda3\\lib\\site-packages\\seaborn\\_decorators.py:36: FutureWarning: Pass the following variable as a keyword arg: x. From version 0.12, the only valid positional argument will be `data`, and passing other arguments without an explicit keyword will result in an error or misinterpretation.\n",
      "  warnings.warn(\n"
     ]
    },
    {
     "data": {
      "text/plain": [
       "<AxesSubplot:xlabel='Credit_History'>"
      ]
     },
     "execution_count": 32,
     "metadata": {},
     "output_type": "execute_result"
    },
    {
     "data": {
      "image/png": "[encoded data removed]",
      "text/plain": [
       "<Figure size 432x288 with 1 Axes>"
      ]
     },
     "metadata": {
      "needs_background": "light"
     },
     "output_type": "display_data"
    }
   ],
   "source": [
    "sns.boxplot(df[\"Credit_History\"])"
   ]
  },
  {
   "cell_type": "code",
   "execution_count": 33,
   "id": "93de1180",
   "metadata": {},
   "outputs": [
    {
     "name": "stderr",
     "output_type": "stream",
     "text": [
      "C:\\Users\\DELL\\anaconda3\\lib\\site-packages\\seaborn\\_decorators.py:36: FutureWarning: Pass the following variable as a keyword arg: x. From version 0.12, the only valid positional argument will be `data`, and passing other arguments without an explicit keyword will result in an error or misinterpretation.\n",
      "  warnings.warn(\n"
     ]
    },
    {
     "data": {
      "text/plain": [
       "<AxesSubplot:xlabel='Loan_Amount_Term'>"
      ]
     },
     "execution_count": 33,
     "metadata": {},
     "output_type": "execute_result"
    },
    {
     "data": {
      "image/png": "[encoded data removed]",
      "text/plain": [
       "<Figure size 432x288 with 1 Axes>"
      ]
     },
     "metadata": {
      "needs_background": "light"
     },
     "output_type": "display_data"
    }
   ],
   "source": [
    "sns.boxplot(df[\"Loan_Amount_Term\"])"
   ]
  },
  {
   "cell_type": "markdown",
   "id": "c9899ca5",
   "metadata": {},
   "source": [
    "# Encoding"
   ]
  },
  {
   "cell_type": "code",
   "execution_count": 34,
   "id": "1b89bd59",
   "metadata": {},
   "outputs": [
    {
     "name": "stderr",
     "output_type": "stream",
     "text": [
      "C:\\Users\\DELL\\anaconda3\\lib\\site-packages\\sklearn\\utils\\validation.py:63: DataConversionWarning: A column-vector y was passed when a 1d array was expected. Please change the shape of y to (n_samples, ), for example using ravel().\n",
      "  return f(*args, **kwargs)\n"
     ]
    },
    {
     "data": {
      "text/html": [
       "<div>\n",
       "<style scoped>\n",
       "    .dataframe tbody tr th:only-of-type {\n",
       "        vertical-align: middle;\n",
       "    }\n",
       "\n",
       "    .dataframe tbody tr th {\n",
       "        vertical-align: top;\n",
       "    }\n",
       "\n",
       "    .dataframe thead th {\n",
       "        text-align: right;\n",
       "    }\n",
       "</style>\n",
       "<table border=\"1\" class=\"dataframe\">\n",
       "  <thead>\n",
       "    <tr style=\"text-align: right;\">\n",
       "      <th></th>\n",
       "      <th>Loan_ID</th>\n",
       "      <th>Gender</th>\n",
       "      <th>Married</th>\n",
       "      <th>Dependents</th>\n",
       "      <th>Education</th>\n",
       "      <th>Self_Employed</th>\n",
       "      <th>ApplicantIncome</th>\n",
       "      <th>CoapplicantIncome</th>\n",
       "      <th>LoanAmount</th>\n",
       "      <th>Loan_Amount_Term</th>\n",
       "      <th>Credit_History</th>\n",
       "      <th>Property_Area</th>\n",
       "      <th>Loan_Status</th>\n",
       "    </tr>\n",
       "  </thead>\n",
       "  <tbody>\n",
       "    <tr>\n",
       "      <th>0</th>\n",
       "      <td>0</td>\n",
       "      <td>1</td>\n",
       "      <td>0</td>\n",
       "      <td>0</td>\n",
       "      <td>0</td>\n",
       "      <td>0</td>\n",
       "      <td>5849</td>\n",
       "      <td>0.0</td>\n",
       "      <td>128.0</td>\n",
       "      <td>360.0</td>\n",
       "      <td>1.0</td>\n",
       "      <td>2</td>\n",
       "      <td>1</td>\n",
       "    </tr>\n",
       "    <tr>\n",
       "      <th>1</th>\n",
       "      <td>1</td>\n",
       "      <td>1</td>\n",
       "      <td>1</td>\n",
       "      <td>1</td>\n",
       "      <td>0</td>\n",
       "      <td>0</td>\n",
       "      <td>4583</td>\n",
       "      <td>1508.0</td>\n",
       "      <td>128.0</td>\n",
       "      <td>360.0</td>\n",
       "      <td>1.0</td>\n",
       "      <td>0</td>\n",
       "      <td>0</td>\n",
       "    </tr>\n",
       "    <tr>\n",
       "      <th>2</th>\n",
       "      <td>2</td>\n",
       "      <td>1</td>\n",
       "      <td>1</td>\n",
       "      <td>0</td>\n",
       "      <td>0</td>\n",
       "      <td>1</td>\n",
       "      <td>3000</td>\n",
       "      <td>0.0</td>\n",
       "      <td>66.0</td>\n",
       "      <td>360.0</td>\n",
       "      <td>1.0</td>\n",
       "      <td>2</td>\n",
       "      <td>1</td>\n",
       "    </tr>\n",
       "    <tr>\n",
       "      <th>3</th>\n",
       "      <td>3</td>\n",
       "      <td>1</td>\n",
       "      <td>1</td>\n",
       "      <td>0</td>\n",
       "      <td>1</td>\n",
       "      <td>0</td>\n",
       "      <td>2583</td>\n",
       "      <td>2358.0</td>\n",
       "      <td>120.0</td>\n",
       "      <td>360.0</td>\n",
       "      <td>1.0</td>\n",
       "      <td>2</td>\n",
       "      <td>1</td>\n",
       "    </tr>\n",
       "    <tr>\n",
       "      <th>4</th>\n",
       "      <td>4</td>\n",
       "      <td>1</td>\n",
       "      <td>0</td>\n",
       "      <td>0</td>\n",
       "      <td>0</td>\n",
       "      <td>0</td>\n",
       "      <td>6000</td>\n",
       "      <td>0.0</td>\n",
       "      <td>141.0</td>\n",
       "      <td>360.0</td>\n",
       "      <td>1.0</td>\n",
       "      <td>2</td>\n",
       "      <td>1</td>\n",
       "    </tr>\n",
       "    <tr>\n",
       "      <th>...</th>\n",
       "      <td>...</td>\n",
       "      <td>...</td>\n",
       "      <td>...</td>\n",
       "      <td>...</td>\n",
       "      <td>...</td>\n",
       "      <td>...</td>\n",
       "      <td>...</td>\n",
       "      <td>...</td>\n",
       "      <td>...</td>\n",
       "      <td>...</td>\n",
       "      <td>...</td>\n",
       "      <td>...</td>\n",
       "      <td>...</td>\n",
       "    </tr>\n",
       "    <tr>\n",
       "      <th>609</th>\n",
       "      <td>609</td>\n",
       "      <td>0</td>\n",
       "      <td>0</td>\n",
       "      <td>0</td>\n",
       "      <td>0</td>\n",
       "      <td>0</td>\n",
       "      <td>2900</td>\n",
       "      <td>0.0</td>\n",
       "      <td>71.0</td>\n",
       "      <td>360.0</td>\n",
       "      <td>1.0</td>\n",
       "      <td>0</td>\n",
       "      <td>1</td>\n",
       "    </tr>\n",
       "    <tr>\n",
       "      <th>610</th>\n",
       "      <td>610</td>\n",
       "      <td>1</td>\n",
       "      <td>1</td>\n",
       "      <td>3</td>\n",
       "      <td>0</td>\n",
       "      <td>0</td>\n",
       "      <td>4106</td>\n",
       "      <td>0.0</td>\n",
       "      <td>40.0</td>\n",
       "      <td>180.0</td>\n",
       "      <td>1.0</td>\n",
       "      <td>0</td>\n",
       "      <td>1</td>\n",
       "    </tr>\n",
       "    <tr>\n",
       "      <th>611</th>\n",
       "      <td>611</td>\n",
       "      <td>1</td>\n",
       "      <td>1</td>\n",
       "      <td>1</td>\n",
       "      <td>0</td>\n",
       "      <td>0</td>\n",
       "      <td>8072</td>\n",
       "      <td>240.0</td>\n",
       "      <td>253.0</td>\n",
       "      <td>360.0</td>\n",
       "      <td>1.0</td>\n",
       "      <td>2</td>\n",
       "      <td>1</td>\n",
       "    </tr>\n",
       "    <tr>\n",
       "      <th>612</th>\n",
       "      <td>612</td>\n",
       "      <td>1</td>\n",
       "      <td>1</td>\n",
       "      <td>2</td>\n",
       "      <td>0</td>\n",
       "      <td>0</td>\n",
       "      <td>7583</td>\n",
       "      <td>0.0</td>\n",
       "      <td>187.0</td>\n",
       "      <td>360.0</td>\n",
       "      <td>1.0</td>\n",
       "      <td>2</td>\n",
       "      <td>1</td>\n",
       "    </tr>\n",
       "    <tr>\n",
       "      <th>613</th>\n",
       "      <td>613</td>\n",
       "      <td>0</td>\n",
       "      <td>0</td>\n",
       "      <td>0</td>\n",
       "      <td>0</td>\n",
       "      <td>1</td>\n",
       "      <td>4583</td>\n",
       "      <td>0.0</td>\n",
       "      <td>133.0</td>\n",
       "      <td>360.0</td>\n",
       "      <td>0.0</td>\n",
       "      <td>1</td>\n",
       "      <td>0</td>\n",
       "    </tr>\n",
       "  </tbody>\n",
       "</table>\n",
       "<p>614 rows × 13 columns</p>\n",
       "</div>"
      ],
      "text/plain": [
       "     Loan_ID  Gender  Married  Dependents  Education  Self_Employed  \\\n",
       "0          0       1        0           0          0              0   \n",
       "1          1       1        1           1          0              0   \n",
       "2          2       1        1           0          0              1   \n",
       "3          3       1        1           0          1              0   \n",
       "4          4       1        0           0          0              0   \n",
       "..       ...     ...      ...         ...        ...            ...   \n",
       "609      609       0        0           0          0              0   \n",
       "610      610       1        1           3          0              0   \n",
       "611      611       1        1           1          0              0   \n",
       "612      612       1        1           2          0              0   \n",
       "613      613       0        0           0          0              1   \n",
       "\n",
       "     ApplicantIncome  CoapplicantIncome  LoanAmount  Loan_Amount_Term  \\\n",
       "0               5849                0.0       128.0             360.0   \n",
       "1               4583             1508.0       128.0             360.0   \n",
       "2               3000                0.0        66.0             360.0   \n",
       "3               2583             2358.0       120.0             360.0   \n",
       "4               6000                0.0       141.0             360.0   \n",
       "..               ...                ...         ...               ...   \n",
       "609             2900                0.0        71.0             360.0   \n",
       "610             4106                0.0        40.0             180.0   \n",
       "611             8072              240.0       253.0             360.0   \n",
       "612             7583                0.0       187.0             360.0   \n",
       "613             4583                0.0       133.0             360.0   \n",
       "\n",
       "     Credit_History  Property_Area  Loan_Status  \n",
       "0               1.0              2            1  \n",
       "1               1.0              0            0  \n",
       "2               1.0              2            1  \n",
       "3               1.0              2            1  \n",
       "4               1.0              2            1  \n",
       "..              ...            ...          ...  \n",
       "609             1.0              0            1  \n",
       "610             1.0              0            1  \n",
       "611             1.0              2            1  \n",
       "612             1.0              2            1  \n",
       "613             0.0              1            0  \n",
       "\n",
       "[614 rows x 13 columns]"
      ]
     },
     "execution_count": 34,
     "metadata": {},
     "output_type": "execute_result"
    }
   ],
   "source": [
    "from sklearn.preprocessing import LabelEncoder\n",
    "enc=LabelEncoder()\n",
    "for i in df.columns:\n",
    "    if df[i].dtypes==\"object\":\n",
    "        df[i]=enc.fit_transform(df[i].values.reshape(-1,1))\n",
    "df"
   ]
  },
  {
   "cell_type": "code",
   "execution_count": 35,
   "id": "885b9a3a",
   "metadata": {},
   "outputs": [
    {
     "data": {
      "text/plain": [
       "<AxesSubplot:>"
      ]
     },
     "execution_count": 35,
     "metadata": {},
     "output_type": "execute_result"
    },
    {
     "data": {
      "image/png": "[encoded data removed]",
      "text/plain": [
       "<Figure size 1080x720 with 2 Axes>"
      ]
     },
     "metadata": {
      "needs_background": "light"
     },
     "output_type": "display_data"
    }
   ],
   "source": [
    "plt.figure(figsize=(15,10))\n",
    "sns.heatmap(df.corr(),annot=True)"
   ]
  },
  {
   "cell_type": "code",
   "execution_count": 36,
   "id": "ed4c1555",
   "metadata": {},
   "outputs": [],
   "source": [
    "df=df.drop([\"Married\",\"LoanAmount\"],axis=1)"
   ]
  },
  {
   "cell_type": "code",
   "execution_count": 37,
   "id": "89ea9ce9",
   "metadata": {},
   "outputs": [
    {
     "data": {
      "text/plain": [
       "<AxesSubplot:>"
      ]
     },
     "execution_count": 37,
     "metadata": {},
     "output_type": "execute_result"
    },
    {
     "data": {
      "image/png": "[encoded data removed]",
      "text/plain": [
       "<Figure size 1080x720 with 2 Axes>"
      ]
     },
     "metadata": {
      "needs_background": "light"
     },
     "output_type": "display_data"
    }
   ],
   "source": [
    "plt.figure(figsize=(15,10))\n",
    "sns.heatmap(df.corr(),annot=True)"
   ]
  },
  {
   "cell_type": "markdown",
   "id": "957436e7",
   "metadata": {},
   "source": [
    "# Treating Outliers"
   ]
  },
  {
   "cell_type": "code",
   "execution_count": 38,
   "id": "0341d4d7",
   "metadata": {},
   "outputs": [
    {
     "data": {
      "text/plain": [
       "(614, 11)"
      ]
     },
     "execution_count": 38,
     "metadata": {},
     "output_type": "execute_result"
    }
   ],
   "source": [
    "from scipy.stats import zscore\n",
    "z=np.abs(zscore(df))\n",
    "z.shape"
   ]
  },
  {
   "cell_type": "code",
   "execution_count": 39,
   "id": "1b1036b0",
   "metadata": {},
   "outputs": [
    {
     "data": {
      "text/html": [
       "<div>\n",
       "<style scoped>\n",
       "    .dataframe tbody tr th:only-of-type {\n",
       "        vertical-align: middle;\n",
       "    }\n",
       "\n",
       "    .dataframe tbody tr th {\n",
       "        vertical-align: top;\n",
       "    }\n",
       "\n",
       "    .dataframe thead th {\n",
       "        text-align: right;\n",
       "    }\n",
       "</style>\n",
       "<table border=\"1\" class=\"dataframe\">\n",
       "  <thead>\n",
       "    <tr style=\"text-align: right;\">\n",
       "      <th></th>\n",
       "      <th>0</th>\n",
       "      <th>1</th>\n",
       "      <th>2</th>\n",
       "      <th>3</th>\n",
       "      <th>4</th>\n",
       "      <th>5</th>\n",
       "      <th>6</th>\n",
       "      <th>7</th>\n",
       "      <th>8</th>\n",
       "      <th>9</th>\n",
       "      <th>10</th>\n",
       "    </tr>\n",
       "  </thead>\n",
       "  <tbody>\n",
       "    <tr>\n",
       "      <th>0</th>\n",
       "      <td>1.729232</td>\n",
       "      <td>0.472343</td>\n",
       "      <td>0.737806</td>\n",
       "      <td>0.528362</td>\n",
       "      <td>0.392601</td>\n",
       "      <td>0.072991</td>\n",
       "      <td>0.554487</td>\n",
       "      <td>0.273231</td>\n",
       "      <td>0.411733</td>\n",
       "      <td>1.223298</td>\n",
       "      <td>0.674519</td>\n",
       "    </tr>\n",
       "    <tr>\n",
       "      <th>1</th>\n",
       "      <td>1.723590</td>\n",
       "      <td>0.472343</td>\n",
       "      <td>0.253470</td>\n",
       "      <td>0.528362</td>\n",
       "      <td>0.392601</td>\n",
       "      <td>0.134412</td>\n",
       "      <td>0.038732</td>\n",
       "      <td>0.273231</td>\n",
       "      <td>0.411733</td>\n",
       "      <td>1.318513</td>\n",
       "      <td>1.482537</td>\n",
       "    </tr>\n",
       "    <tr>\n",
       "      <th>2</th>\n",
       "      <td>1.717948</td>\n",
       "      <td>0.472343</td>\n",
       "      <td>0.737806</td>\n",
       "      <td>0.528362</td>\n",
       "      <td>2.547117</td>\n",
       "      <td>0.393747</td>\n",
       "      <td>0.554487</td>\n",
       "      <td>0.273231</td>\n",
       "      <td>0.411733</td>\n",
       "      <td>1.223298</td>\n",
       "      <td>0.674519</td>\n",
       "    </tr>\n",
       "    <tr>\n",
       "      <th>3</th>\n",
       "      <td>1.712307</td>\n",
       "      <td>0.472343</td>\n",
       "      <td>0.737806</td>\n",
       "      <td>1.892641</td>\n",
       "      <td>0.392601</td>\n",
       "      <td>0.462062</td>\n",
       "      <td>0.251980</td>\n",
       "      <td>0.273231</td>\n",
       "      <td>0.411733</td>\n",
       "      <td>1.223298</td>\n",
       "      <td>0.674519</td>\n",
       "    </tr>\n",
       "    <tr>\n",
       "      <th>4</th>\n",
       "      <td>1.706665</td>\n",
       "      <td>0.472343</td>\n",
       "      <td>0.737806</td>\n",
       "      <td>0.528362</td>\n",
       "      <td>0.392601</td>\n",
       "      <td>0.097728</td>\n",
       "      <td>0.554487</td>\n",
       "      <td>0.273231</td>\n",
       "      <td>0.411733</td>\n",
       "      <td>1.223298</td>\n",
       "      <td>0.674519</td>\n",
       "    </tr>\n",
       "    <tr>\n",
       "      <th>5</th>\n",
       "      <td>1.701023</td>\n",
       "      <td>0.472343</td>\n",
       "      <td>1.244745</td>\n",
       "      <td>0.528362</td>\n",
       "      <td>2.547117</td>\n",
       "      <td>0.002218</td>\n",
       "      <td>0.880600</td>\n",
       "      <td>0.273231</td>\n",
       "      <td>0.411733</td>\n",
       "      <td>1.223298</td>\n",
       "      <td>0.674519</td>\n",
       "    </tr>\n",
       "    <tr>\n",
       "      <th>6</th>\n",
       "      <td>1.695381</td>\n",
       "      <td>0.472343</td>\n",
       "      <td>0.737806</td>\n",
       "      <td>1.892641</td>\n",
       "      <td>0.392601</td>\n",
       "      <td>0.503019</td>\n",
       "      <td>0.035995</td>\n",
       "      <td>0.273231</td>\n",
       "      <td>0.411733</td>\n",
       "      <td>1.223298</td>\n",
       "      <td>0.674519</td>\n",
       "    </tr>\n",
       "    <tr>\n",
       "      <th>7</th>\n",
       "      <td>1.689739</td>\n",
       "      <td>0.472343</td>\n",
       "      <td>2.236021</td>\n",
       "      <td>0.528362</td>\n",
       "      <td>0.392601</td>\n",
       "      <td>0.387850</td>\n",
       "      <td>0.301914</td>\n",
       "      <td>0.273231</td>\n",
       "      <td>2.428760</td>\n",
       "      <td>0.047607</td>\n",
       "      <td>1.482537</td>\n",
       "    </tr>\n",
       "    <tr>\n",
       "      <th>8</th>\n",
       "      <td>1.684097</td>\n",
       "      <td>0.472343</td>\n",
       "      <td>1.244745</td>\n",
       "      <td>0.528362</td>\n",
       "      <td>0.392601</td>\n",
       "      <td>0.228939</td>\n",
       "      <td>0.032575</td>\n",
       "      <td>0.273231</td>\n",
       "      <td>0.411733</td>\n",
       "      <td>1.223298</td>\n",
       "      <td>0.674519</td>\n",
       "    </tr>\n",
       "    <tr>\n",
       "      <th>9</th>\n",
       "      <td>1.678455</td>\n",
       "      <td>0.472343</td>\n",
       "      <td>0.253470</td>\n",
       "      <td>0.528362</td>\n",
       "      <td>0.392601</td>\n",
       "      <td>1.218457</td>\n",
       "      <td>3.196713</td>\n",
       "      <td>0.273231</td>\n",
       "      <td>0.411733</td>\n",
       "      <td>0.047607</td>\n",
       "      <td>1.482537</td>\n",
       "    </tr>\n",
       "    <tr>\n",
       "      <th>10</th>\n",
       "      <td>1.672814</td>\n",
       "      <td>0.472343</td>\n",
       "      <td>1.244745</td>\n",
       "      <td>0.528362</td>\n",
       "      <td>0.392601</td>\n",
       "      <td>0.360982</td>\n",
       "      <td>0.315078</td>\n",
       "      <td>0.273231</td>\n",
       "      <td>0.411733</td>\n",
       "      <td>1.223298</td>\n",
       "      <td>0.674519</td>\n",
       "    </tr>\n",
       "    <tr>\n",
       "      <th>11</th>\n",
       "      <td>1.667172</td>\n",
       "      <td>0.472343</td>\n",
       "      <td>1.244745</td>\n",
       "      <td>0.528362</td>\n",
       "      <td>0.392601</td>\n",
       "      <td>0.475660</td>\n",
       "      <td>0.074817</td>\n",
       "      <td>0.273231</td>\n",
       "      <td>0.411733</td>\n",
       "      <td>1.223298</td>\n",
       "      <td>0.674519</td>\n",
       "    </tr>\n",
       "    <tr>\n",
       "      <th>12</th>\n",
       "      <td>1.661530</td>\n",
       "      <td>0.472343</td>\n",
       "      <td>1.244745</td>\n",
       "      <td>0.528362</td>\n",
       "      <td>0.392601</td>\n",
       "      <td>0.381788</td>\n",
       "      <td>2.217871</td>\n",
       "      <td>0.273231</td>\n",
       "      <td>0.411733</td>\n",
       "      <td>1.223298</td>\n",
       "      <td>0.674519</td>\n",
       "    </tr>\n",
       "    <tr>\n",
       "      <th>13</th>\n",
       "      <td>1.655888</td>\n",
       "      <td>0.472343</td>\n",
       "      <td>0.737806</td>\n",
       "      <td>0.528362</td>\n",
       "      <td>0.392601</td>\n",
       "      <td>0.581655</td>\n",
       "      <td>0.416830</td>\n",
       "      <td>0.273231</td>\n",
       "      <td>0.411733</td>\n",
       "      <td>1.318513</td>\n",
       "      <td>1.482537</td>\n",
       "    </tr>\n",
       "    <tr>\n",
       "      <th>14</th>\n",
       "      <td>1.650246</td>\n",
       "      <td>0.472343</td>\n",
       "      <td>1.244745</td>\n",
       "      <td>0.528362</td>\n",
       "      <td>0.392601</td>\n",
       "      <td>0.672414</td>\n",
       "      <td>0.183061</td>\n",
       "      <td>3.454858</td>\n",
       "      <td>0.411733</td>\n",
       "      <td>1.223298</td>\n",
       "      <td>0.674519</td>\n",
       "    </tr>\n",
       "    <tr>\n",
       "      <th>15</th>\n",
       "      <td>1.644604</td>\n",
       "      <td>0.472343</td>\n",
       "      <td>0.737806</td>\n",
       "      <td>0.528362</td>\n",
       "      <td>0.392601</td>\n",
       "      <td>0.074288</td>\n",
       "      <td>0.554487</td>\n",
       "      <td>0.273231</td>\n",
       "      <td>0.411733</td>\n",
       "      <td>1.223298</td>\n",
       "      <td>0.674519</td>\n",
       "    </tr>\n",
       "    <tr>\n",
       "      <th>16</th>\n",
       "      <td>1.638962</td>\n",
       "      <td>0.472343</td>\n",
       "      <td>0.253470</td>\n",
       "      <td>1.892641</td>\n",
       "      <td>0.392601</td>\n",
       "      <td>0.296107</td>\n",
       "      <td>0.554487</td>\n",
       "      <td>1.590813</td>\n",
       "      <td>0.411733</td>\n",
       "      <td>1.223298</td>\n",
       "      <td>0.674519</td>\n",
       "    </tr>\n",
       "    <tr>\n",
       "      <th>17</th>\n",
       "      <td>1.633320</td>\n",
       "      <td>2.117107</td>\n",
       "      <td>0.737806</td>\n",
       "      <td>0.528362</td>\n",
       "      <td>0.392601</td>\n",
       "      <td>0.310196</td>\n",
       "      <td>0.554487</td>\n",
       "      <td>0.273231</td>\n",
       "      <td>2.428760</td>\n",
       "      <td>1.223298</td>\n",
       "      <td>1.482537</td>\n",
       "    </tr>\n",
       "    <tr>\n",
       "      <th>18</th>\n",
       "      <td>1.627679</td>\n",
       "      <td>0.472343</td>\n",
       "      <td>0.737806</td>\n",
       "      <td>1.892641</td>\n",
       "      <td>0.392601</td>\n",
       "      <td>0.084609</td>\n",
       "      <td>0.554487</td>\n",
       "      <td>0.273231</td>\n",
       "      <td>0.411733</td>\n",
       "      <td>1.318513</td>\n",
       "      <td>1.482537</td>\n",
       "    </tr>\n",
       "    <tr>\n",
       "      <th>19</th>\n",
       "      <td>1.622037</td>\n",
       "      <td>0.472343</td>\n",
       "      <td>0.737806</td>\n",
       "      <td>0.528362</td>\n",
       "      <td>0.392601</td>\n",
       "      <td>0.459277</td>\n",
       "      <td>0.642559</td>\n",
       "      <td>0.273231</td>\n",
       "      <td>0.411733</td>\n",
       "      <td>1.223298</td>\n",
       "      <td>0.674519</td>\n",
       "    </tr>\n",
       "    <tr>\n",
       "      <th>20</th>\n",
       "      <td>1.616395</td>\n",
       "      <td>0.472343</td>\n",
       "      <td>0.737806</td>\n",
       "      <td>1.892641</td>\n",
       "      <td>0.392601</td>\n",
       "      <td>0.369678</td>\n",
       "      <td>0.554487</td>\n",
       "      <td>0.273231</td>\n",
       "      <td>2.428760</td>\n",
       "      <td>1.223298</td>\n",
       "      <td>1.482537</td>\n",
       "    </tr>\n",
       "    <tr>\n",
       "      <th>21</th>\n",
       "      <td>1.610753</td>\n",
       "      <td>0.472343</td>\n",
       "      <td>0.253470</td>\n",
       "      <td>0.528362</td>\n",
       "      <td>0.392601</td>\n",
       "      <td>0.090356</td>\n",
       "      <td>1.369336</td>\n",
       "      <td>0.273231</td>\n",
       "      <td>0.411733</td>\n",
       "      <td>1.223298</td>\n",
       "      <td>0.674519</td>\n",
       "    </tr>\n",
       "    <tr>\n",
       "      <th>22</th>\n",
       "      <td>1.605111</td>\n",
       "      <td>0.472343</td>\n",
       "      <td>0.737806</td>\n",
       "      <td>1.892641</td>\n",
       "      <td>0.392601</td>\n",
       "      <td>0.459277</td>\n",
       "      <td>0.099100</td>\n",
       "      <td>0.273231</td>\n",
       "      <td>2.428760</td>\n",
       "      <td>0.047607</td>\n",
       "      <td>1.482537</td>\n",
       "    </tr>\n",
       "    <tr>\n",
       "      <th>23</th>\n",
       "      <td>1.599469</td>\n",
       "      <td>0.472343</td>\n",
       "      <td>1.244745</td>\n",
       "      <td>1.892641</td>\n",
       "      <td>0.392601</td>\n",
       "      <td>0.333951</td>\n",
       "      <td>0.101152</td>\n",
       "      <td>0.273231</td>\n",
       "      <td>2.428760</td>\n",
       "      <td>1.318513</td>\n",
       "      <td>1.482537</td>\n",
       "    </tr>\n",
       "    <tr>\n",
       "      <th>24</th>\n",
       "      <td>1.593827</td>\n",
       "      <td>0.472343</td>\n",
       "      <td>0.253470</td>\n",
       "      <td>0.528362</td>\n",
       "      <td>0.392601</td>\n",
       "      <td>0.276285</td>\n",
       "      <td>0.445901</td>\n",
       "      <td>0.273231</td>\n",
       "      <td>0.411733</td>\n",
       "      <td>0.047607</td>\n",
       "      <td>1.482537</td>\n",
       "    </tr>\n",
       "    <tr>\n",
       "      <th>25</th>\n",
       "      <td>1.588186</td>\n",
       "      <td>0.472343</td>\n",
       "      <td>0.737806</td>\n",
       "      <td>0.528362</td>\n",
       "      <td>2.547117</td>\n",
       "      <td>0.680946</td>\n",
       "      <td>0.554487</td>\n",
       "      <td>0.273231</td>\n",
       "      <td>0.411733</td>\n",
       "      <td>0.047607</td>\n",
       "      <td>0.674519</td>\n",
       "    </tr>\n",
       "    <tr>\n",
       "      <th>26</th>\n",
       "      <td>1.582544</td>\n",
       "      <td>0.472343</td>\n",
       "      <td>0.737806</td>\n",
       "      <td>0.528362</td>\n",
       "      <td>0.392601</td>\n",
       "      <td>0.426676</td>\n",
       "      <td>0.216068</td>\n",
       "      <td>0.273231</td>\n",
       "      <td>0.411733</td>\n",
       "      <td>0.047607</td>\n",
       "      <td>0.674519</td>\n",
       "    </tr>\n",
       "    <tr>\n",
       "      <th>27</th>\n",
       "      <td>1.576902</td>\n",
       "      <td>0.472343</td>\n",
       "      <td>1.244745</td>\n",
       "      <td>1.892641</td>\n",
       "      <td>0.392601</td>\n",
       "      <td>0.192898</td>\n",
       "      <td>0.198794</td>\n",
       "      <td>0.273231</td>\n",
       "      <td>0.411733</td>\n",
       "      <td>1.223298</td>\n",
       "      <td>0.674519</td>\n",
       "    </tr>\n",
       "    <tr>\n",
       "      <th>28</th>\n",
       "      <td>1.571260</td>\n",
       "      <td>0.472343</td>\n",
       "      <td>0.737806</td>\n",
       "      <td>1.892641</td>\n",
       "      <td>0.392601</td>\n",
       "      <td>0.648987</td>\n",
       "      <td>0.554487</td>\n",
       "      <td>0.273231</td>\n",
       "      <td>0.411733</td>\n",
       "      <td>1.223298</td>\n",
       "      <td>1.482537</td>\n",
       "    </tr>\n",
       "    <tr>\n",
       "      <th>29</th>\n",
       "      <td>1.565618</td>\n",
       "      <td>2.117107</td>\n",
       "      <td>1.244745</td>\n",
       "      <td>0.528362</td>\n",
       "      <td>0.392601</td>\n",
       "      <td>0.270878</td>\n",
       "      <td>0.157926</td>\n",
       "      <td>0.273231</td>\n",
       "      <td>0.411733</td>\n",
       "      <td>0.047607</td>\n",
       "      <td>0.674519</td>\n",
       "    </tr>\n",
       "    <tr>\n",
       "      <th>30</th>\n",
       "      <td>1.559976</td>\n",
       "      <td>0.472343</td>\n",
       "      <td>0.253470</td>\n",
       "      <td>0.528362</td>\n",
       "      <td>0.392601</td>\n",
       "      <td>0.202727</td>\n",
       "      <td>0.597755</td>\n",
       "      <td>0.273231</td>\n",
       "      <td>0.411733</td>\n",
       "      <td>1.223298</td>\n",
       "      <td>1.482537</td>\n",
       "    </tr>\n",
       "    <tr>\n",
       "      <th>31</th>\n",
       "      <td>1.554334</td>\n",
       "      <td>0.472343</td>\n",
       "      <td>0.737806</td>\n",
       "      <td>0.528362</td>\n",
       "      <td>0.392601</td>\n",
       "      <td>0.366389</td>\n",
       "      <td>0.554487</td>\n",
       "      <td>0.273231</td>\n",
       "      <td>0.411733</td>\n",
       "      <td>1.223298</td>\n",
       "      <td>1.482537</td>\n",
       "    </tr>\n",
       "    <tr>\n",
       "      <th>32</th>\n",
       "      <td>1.548692</td>\n",
       "      <td>0.472343</td>\n",
       "      <td>0.253470</td>\n",
       "      <td>0.528362</td>\n",
       "      <td>2.547117</td>\n",
       "      <td>0.116555</td>\n",
       "      <td>0.554487</td>\n",
       "      <td>0.273231</td>\n",
       "      <td>0.411733</td>\n",
       "      <td>1.318513</td>\n",
       "      <td>1.482537</td>\n",
       "    </tr>\n",
       "    <tr>\n",
       "      <th>33</th>\n",
       "      <td>1.543051</td>\n",
       "      <td>0.472343</td>\n",
       "      <td>0.737806</td>\n",
       "      <td>0.528362</td>\n",
       "      <td>0.392601</td>\n",
       "      <td>0.311835</td>\n",
       "      <td>0.015649</td>\n",
       "      <td>0.273231</td>\n",
       "      <td>0.411733</td>\n",
       "      <td>0.047607</td>\n",
       "      <td>0.674519</td>\n",
       "    </tr>\n",
       "    <tr>\n",
       "      <th>34</th>\n",
       "      <td>1.537409</td>\n",
       "      <td>0.472343</td>\n",
       "      <td>2.236021</td>\n",
       "      <td>0.528362</td>\n",
       "      <td>0.392601</td>\n",
       "      <td>1.162593</td>\n",
       "      <td>0.471552</td>\n",
       "      <td>0.273231</td>\n",
       "      <td>0.411733</td>\n",
       "      <td>1.318513</td>\n",
       "      <td>1.482537</td>\n",
       "    </tr>\n",
       "    <tr>\n",
       "      <th>35</th>\n",
       "      <td>1.531767</td>\n",
       "      <td>0.472343</td>\n",
       "      <td>0.737806</td>\n",
       "      <td>0.528362</td>\n",
       "      <td>0.392601</td>\n",
       "      <td>0.512521</td>\n",
       "      <td>0.152454</td>\n",
       "      <td>0.273231</td>\n",
       "      <td>0.411733</td>\n",
       "      <td>1.223298</td>\n",
       "      <td>0.674519</td>\n",
       "    </tr>\n",
       "    <tr>\n",
       "      <th>36</th>\n",
       "      <td>1.526125</td>\n",
       "      <td>0.472343</td>\n",
       "      <td>0.737806</td>\n",
       "      <td>0.528362</td>\n",
       "      <td>0.392601</td>\n",
       "      <td>0.585751</td>\n",
       "      <td>0.099610</td>\n",
       "      <td>0.273231</td>\n",
       "      <td>2.428760</td>\n",
       "      <td>1.223298</td>\n",
       "      <td>1.482537</td>\n",
       "    </tr>\n",
       "    <tr>\n",
       "      <th>37</th>\n",
       "      <td>1.520483</td>\n",
       "      <td>2.117107</td>\n",
       "      <td>0.737806</td>\n",
       "      <td>0.528362</td>\n",
       "      <td>0.392601</td>\n",
       "      <td>0.284476</td>\n",
       "      <td>0.055490</td>\n",
       "      <td>0.273231</td>\n",
       "      <td>0.411733</td>\n",
       "      <td>0.047607</td>\n",
       "      <td>0.674519</td>\n",
       "    </tr>\n",
       "    <tr>\n",
       "      <th>38</th>\n",
       "      <td>1.514841</td>\n",
       "      <td>0.472343</td>\n",
       "      <td>0.737806</td>\n",
       "      <td>0.528362</td>\n",
       "      <td>0.392601</td>\n",
       "      <td>0.202727</td>\n",
       "      <td>1.911427</td>\n",
       "      <td>0.273231</td>\n",
       "      <td>0.411733</td>\n",
       "      <td>1.223298</td>\n",
       "      <td>0.674519</td>\n",
       "    </tr>\n",
       "    <tr>\n",
       "      <th>39</th>\n",
       "      <td>1.509199</td>\n",
       "      <td>0.472343</td>\n",
       "      <td>0.737806</td>\n",
       "      <td>1.892641</td>\n",
       "      <td>0.392601</td>\n",
       "      <td>0.271206</td>\n",
       "      <td>0.015991</td>\n",
       "      <td>0.273231</td>\n",
       "      <td>0.411733</td>\n",
       "      <td>0.047607</td>\n",
       "      <td>0.674519</td>\n",
       "    </tr>\n",
       "    <tr>\n",
       "      <th>40</th>\n",
       "      <td>1.503557</td>\n",
       "      <td>0.472343</td>\n",
       "      <td>0.737806</td>\n",
       "      <td>0.528362</td>\n",
       "      <td>0.392601</td>\n",
       "      <td>0.295452</td>\n",
       "      <td>0.554487</td>\n",
       "      <td>0.273231</td>\n",
       "      <td>0.411733</td>\n",
       "      <td>1.223298</td>\n",
       "      <td>1.482537</td>\n",
       "    </tr>\n",
       "    <tr>\n",
       "      <th>41</th>\n",
       "      <td>1.497916</td>\n",
       "      <td>0.472343</td>\n",
       "      <td>0.737806</td>\n",
       "      <td>0.528362</td>\n",
       "      <td>0.392601</td>\n",
       "      <td>0.590338</td>\n",
       "      <td>0.139625</td>\n",
       "      <td>0.273231</td>\n",
       "      <td>0.411733</td>\n",
       "      <td>1.223298</td>\n",
       "      <td>0.674519</td>\n",
       "    </tr>\n",
       "    <tr>\n",
       "      <th>42</th>\n",
       "      <td>1.492274</td>\n",
       "      <td>0.472343</td>\n",
       "      <td>0.737806</td>\n",
       "      <td>0.528362</td>\n",
       "      <td>0.392601</td>\n",
       "      <td>0.492042</td>\n",
       "      <td>0.554487</td>\n",
       "      <td>0.273231</td>\n",
       "      <td>0.411733</td>\n",
       "      <td>1.223298</td>\n",
       "      <td>0.674519</td>\n",
       "    </tr>\n",
       "    <tr>\n",
       "      <th>43</th>\n",
       "      <td>1.486632</td>\n",
       "      <td>0.472343</td>\n",
       "      <td>0.737806</td>\n",
       "      <td>0.528362</td>\n",
       "      <td>0.392601</td>\n",
       "      <td>0.239588</td>\n",
       "      <td>0.244455</td>\n",
       "      <td>0.273231</td>\n",
       "      <td>0.411733</td>\n",
       "      <td>0.047607</td>\n",
       "      <td>0.674519</td>\n",
       "    </tr>\n",
       "    <tr>\n",
       "      <th>44</th>\n",
       "      <td>1.480990</td>\n",
       "      <td>0.472343</td>\n",
       "      <td>0.737806</td>\n",
       "      <td>1.892641</td>\n",
       "      <td>2.547117</td>\n",
       "      <td>0.116064</td>\n",
       "      <td>0.554487</td>\n",
       "      <td>0.273231</td>\n",
       "      <td>0.411733</td>\n",
       "      <td>1.223298</td>\n",
       "      <td>0.674519</td>\n",
       "    </tr>\n",
       "    <tr>\n",
       "      <th>45</th>\n",
       "      <td>1.475348</td>\n",
       "      <td>2.117107</td>\n",
       "      <td>0.737806</td>\n",
       "      <td>0.528362</td>\n",
       "      <td>0.392601</td>\n",
       "      <td>0.326579</td>\n",
       "      <td>0.554487</td>\n",
       "      <td>0.273231</td>\n",
       "      <td>0.411733</td>\n",
       "      <td>1.223298</td>\n",
       "      <td>0.674519</td>\n",
       "    </tr>\n",
       "    <tr>\n",
       "      <th>46</th>\n",
       "      <td>1.469706</td>\n",
       "      <td>0.472343</td>\n",
       "      <td>0.253470</td>\n",
       "      <td>0.528362</td>\n",
       "      <td>0.392601</td>\n",
       "      <td>0.040226</td>\n",
       "      <td>0.554487</td>\n",
       "      <td>0.273231</td>\n",
       "      <td>0.411733</td>\n",
       "      <td>1.223298</td>\n",
       "      <td>0.674519</td>\n",
       "    </tr>\n",
       "    <tr>\n",
       "      <th>47</th>\n",
       "      <td>1.464064</td>\n",
       "      <td>0.472343</td>\n",
       "      <td>0.737806</td>\n",
       "      <td>0.528362</td>\n",
       "      <td>0.392601</td>\n",
       "      <td>0.068404</td>\n",
       "      <td>0.554487</td>\n",
       "      <td>0.273231</td>\n",
       "      <td>0.411733</td>\n",
       "      <td>1.223298</td>\n",
       "      <td>0.674519</td>\n",
       "    </tr>\n",
       "    <tr>\n",
       "      <th>48</th>\n",
       "      <td>1.458423</td>\n",
       "      <td>2.117107</td>\n",
       "      <td>0.737806</td>\n",
       "      <td>0.528362</td>\n",
       "      <td>0.392601</td>\n",
       "      <td>0.451905</td>\n",
       "      <td>0.622038</td>\n",
       "      <td>0.273231</td>\n",
       "      <td>2.428760</td>\n",
       "      <td>1.223298</td>\n",
       "      <td>1.482537</td>\n",
       "    </tr>\n",
       "    <tr>\n",
       "      <th>49</th>\n",
       "      <td>1.452781</td>\n",
       "      <td>2.117107</td>\n",
       "      <td>0.737806</td>\n",
       "      <td>0.528362</td>\n",
       "      <td>0.392601</td>\n",
       "      <td>0.229922</td>\n",
       "      <td>0.223593</td>\n",
       "      <td>0.273231</td>\n",
       "      <td>0.411733</td>\n",
       "      <td>0.047607</td>\n",
       "      <td>0.674519</td>\n",
       "    </tr>\n",
       "  </tbody>\n",
       "</table>\n",
       "</div>"
      ],
      "text/plain": [
       "          0         1         2         3         4         5         6   \\\n",
       "0   1.729232  0.472343  0.737806  0.528362  0.392601  0.072991  0.554487   \n",
       "1   1.723590  0.472343  0.253470  0.528362  0.392601  0.134412  0.038732   \n",
       "2   1.717948  0.472343  0.737806  0.528362  2.547117  0.393747  0.554487   \n",
       "3   1.712307  0.472343  0.737806  1.892641  0.392601  0.462062  0.251980   \n",
       "4   1.706665  0.472343  0.737806  0.528362  0.392601  0.097728  0.554487   \n",
       "5   1.701023  0.472343  1.244745  0.528362  2.547117  0.002218  0.880600   \n",
       "6   1.695381  0.472343  0.737806  1.892641  0.392601  0.503019  0.035995   \n",
       "7   1.689739  0.472343  2.236021  0.528362  0.392601  0.387850  0.301914   \n",
       "8   1.684097  0.472343  1.244745  0.528362  0.392601  0.228939  0.032575   \n",
       "9   1.678455  0.472343  0.253470  0.528362  0.392601  1.218457  3.196713   \n",
       "10  1.672814  0.472343  1.244745  0.528362  0.392601  0.360982  0.315078   \n",
       "11  1.667172  0.472343  1.244745  0.528362  0.392601  0.475660  0.074817   \n",
       "12  1.661530  0.472343  1.244745  0.528362  0.392601  0.381788  2.217871   \n",
       "13  1.655888  0.472343  0.737806  0.528362  0.392601  0.581655  0.416830   \n",
       "14  1.650246  0.472343  1.244745  0.528362  0.392601  0.672414  0.183061   \n",
       "15  1.644604  0.472343  0.737806  0.528362  0.392601  0.074288  0.554487   \n",
       "16  1.638962  0.472343  0.253470  1.892641  0.392601  0.296107  0.554487   \n",
       "17  1.633320  2.117107  0.737806  0.528362  0.392601  0.310196  0.554487   \n",
       "18  1.627679  0.472343  0.737806  1.892641  0.392601  0.084609  0.554487   \n",
       "19  1.622037  0.472343  0.737806  0.528362  0.392601  0.459277  0.642559   \n",
       "20  1.616395  0.472343  0.737806  1.892641  0.392601  0.369678  0.554487   \n",
       "21  1.610753  0.472343  0.253470  0.528362  0.392601  0.090356  1.369336   \n",
       "22  1.605111  0.472343  0.737806  1.892641  0.392601  0.459277  0.099100   \n",
       "23  1.599469  0.472343  1.244745  1.892641  0.392601  0.333951  0.101152   \n",
       "24  1.593827  0.472343  0.253470  0.528362  0.392601  0.276285  0.445901   \n",
       "25  1.588186  0.472343  0.737806  0.528362  2.547117  0.680946  0.554487   \n",
       "26  1.582544  0.472343  0.737806  0.528362  0.392601  0.426676  0.216068   \n",
       "27  1.576902  0.472343  1.244745  1.892641  0.392601  0.192898  0.198794   \n",
       "28  1.571260  0.472343  0.737806  1.892641  0.392601  0.648987  0.554487   \n",
       "29  1.565618  2.117107  1.244745  0.528362  0.392601  0.270878  0.157926   \n",
       "30  1.559976  0.472343  0.253470  0.528362  0.392601  0.202727  0.597755   \n",
       "31  1.554334  0.472343  0.737806  0.528362  0.392601  0.366389  0.554487   \n",
       "32  1.548692  0.472343  0.253470  0.528362  2.547117  0.116555  0.554487   \n",
       "33  1.543051  0.472343  0.737806  0.528362  0.392601  0.311835  0.015649   \n",
       "34  1.537409  0.472343  2.236021  0.528362  0.392601  1.162593  0.471552   \n",
       "35  1.531767  0.472343  0.737806  0.528362  0.392601  0.512521  0.152454   \n",
       "36  1.526125  0.472343  0.737806  0.528362  0.392601  0.585751  0.099610   \n",
       "37  1.520483  2.117107  0.737806  0.528362  0.392601  0.284476  0.055490   \n",
       "38  1.514841  0.472343  0.737806  0.528362  0.392601  0.202727  1.911427   \n",
       "39  1.509199  0.472343  0.737806  1.892641  0.392601  0.271206  0.015991   \n",
       "40  1.503557  0.472343  0.737806  0.528362  0.392601  0.295452  0.554487   \n",
       "41  1.497916  0.472343  0.737806  0.528362  0.392601  0.590338  0.139625   \n",
       "42  1.492274  0.472343  0.737806  0.528362  0.392601  0.492042  0.554487   \n",
       "43  1.486632  0.472343  0.737806  0.528362  0.392601  0.239588  0.244455   \n",
       "44  1.480990  0.472343  0.737806  1.892641  2.547117  0.116064  0.554487   \n",
       "45  1.475348  2.117107  0.737806  0.528362  0.392601  0.326579  0.554487   \n",
       "46  1.469706  0.472343  0.253470  0.528362  0.392601  0.040226  0.554487   \n",
       "47  1.464064  0.472343  0.737806  0.528362  0.392601  0.068404  0.554487   \n",
       "48  1.458423  2.117107  0.737806  0.528362  0.392601  0.451905  0.622038   \n",
       "49  1.452781  2.117107  0.737806  0.528362  0.392601  0.229922  0.223593   \n",
       "\n",
       "          7         8         9         10  \n",
       "0   0.273231  0.411733  1.223298  0.674519  \n",
       "1   0.273231  0.411733  1.318513  1.482537  \n",
       "2   0.273231  0.411733  1.223298  0.674519  \n",
       "3   0.273231  0.411733  1.223298  0.674519  \n",
       "4   0.273231  0.411733  1.223298  0.674519  \n",
       "5   0.273231  0.411733  1.223298  0.674519  \n",
       "6   0.273231  0.411733  1.223298  0.674519  \n",
       "7   0.273231  2.428760  0.047607  1.482537  \n",
       "8   0.273231  0.411733  1.223298  0.674519  \n",
       "9   0.273231  0.411733  0.047607  1.482537  \n",
       "10  0.273231  0.411733  1.223298  0.674519  \n",
       "11  0.273231  0.411733  1.223298  0.674519  \n",
       "12  0.273231  0.411733  1.223298  0.674519  \n",
       "13  0.273231  0.411733  1.318513  1.482537  \n",
       "14  3.454858  0.411733  1.223298  0.674519  \n",
       "15  0.273231  0.411733  1.223298  0.674519  \n",
       "16  1.590813  0.411733  1.223298  0.674519  \n",
       "17  0.273231  2.428760  1.223298  1.482537  \n",
       "18  0.273231  0.411733  1.318513  1.482537  \n",
       "19  0.273231  0.411733  1.223298  0.674519  \n",
       "20  0.273231  2.428760  1.223298  1.482537  \n",
       "21  0.273231  0.411733  1.223298  0.674519  \n",
       "22  0.273231  2.428760  0.047607  1.482537  \n",
       "23  0.273231  2.428760  1.318513  1.482537  \n",
       "24  0.273231  0.411733  0.047607  1.482537  \n",
       "25  0.273231  0.411733  0.047607  0.674519  \n",
       "26  0.273231  0.411733  0.047607  0.674519  \n",
       "27  0.273231  0.411733  1.223298  0.674519  \n",
       "28  0.273231  0.411733  1.223298  1.482537  \n",
       "29  0.273231  0.411733  0.047607  0.674519  \n",
       "30  0.273231  0.411733  1.223298  1.482537  \n",
       "31  0.273231  0.411733  1.223298  1.482537  \n",
       "32  0.273231  0.411733  1.318513  1.482537  \n",
       "33  0.273231  0.411733  0.047607  0.674519  \n",
       "34  0.273231  0.411733  1.318513  1.482537  \n",
       "35  0.273231  0.411733  1.223298  0.674519  \n",
       "36  0.273231  2.428760  1.223298  1.482537  \n",
       "37  0.273231  0.411733  0.047607  0.674519  \n",
       "38  0.273231  0.411733  1.223298  0.674519  \n",
       "39  0.273231  0.411733  0.047607  0.674519  \n",
       "40  0.273231  0.411733  1.223298  1.482537  \n",
       "41  0.273231  0.411733  1.223298  0.674519  \n",
       "42  0.273231  0.411733  1.223298  0.674519  \n",
       "43  0.273231  0.411733  0.047607  0.674519  \n",
       "44  0.273231  0.411733  1.223298  0.674519  \n",
       "45  0.273231  0.411733  1.223298  0.674519  \n",
       "46  0.273231  0.411733  1.223298  0.674519  \n",
       "47  0.273231  0.411733  1.223298  0.674519  \n",
       "48  0.273231  2.428760  1.223298  1.482537  \n",
       "49  0.273231  0.411733  0.047607  0.674519  "
      ]
     },
     "execution_count": 39,
     "metadata": {},
     "output_type": "execute_result"
    }
   ],
   "source": [
    "z1=pd.DataFrame(z)\n",
    "z1\n",
    "z1.head(50)"
   ]
  },
  {
   "cell_type": "code",
   "execution_count": 40,
   "id": "eb0b9b37",
   "metadata": {},
   "outputs": [
    {
     "data": {
      "text/html": [
       "<div>\n",
       "<style scoped>\n",
       "    .dataframe tbody tr th:only-of-type {\n",
       "        vertical-align: middle;\n",
       "    }\n",
       "\n",
       "    .dataframe tbody tr th {\n",
       "        vertical-align: top;\n",
       "    }\n",
       "\n",
       "    .dataframe thead th {\n",
       "        text-align: right;\n",
       "    }\n",
       "</style>\n",
       "<table border=\"1\" class=\"dataframe\">\n",
       "  <thead>\n",
       "    <tr style=\"text-align: right;\">\n",
       "      <th></th>\n",
       "      <th>Loan_ID</th>\n",
       "      <th>Gender</th>\n",
       "      <th>Dependents</th>\n",
       "      <th>Education</th>\n",
       "      <th>Self_Employed</th>\n",
       "      <th>ApplicantIncome</th>\n",
       "      <th>CoapplicantIncome</th>\n",
       "      <th>Loan_Amount_Term</th>\n",
       "      <th>Credit_History</th>\n",
       "      <th>Property_Area</th>\n",
       "      <th>Loan_Status</th>\n",
       "    </tr>\n",
       "  </thead>\n",
       "  <tbody>\n",
       "    <tr>\n",
       "      <th>0</th>\n",
       "      <td>0</td>\n",
       "      <td>1</td>\n",
       "      <td>0</td>\n",
       "      <td>0</td>\n",
       "      <td>0</td>\n",
       "      <td>5849</td>\n",
       "      <td>0.0</td>\n",
       "      <td>360.0</td>\n",
       "      <td>1.0</td>\n",
       "      <td>2</td>\n",
       "      <td>1</td>\n",
       "    </tr>\n",
       "    <tr>\n",
       "      <th>1</th>\n",
       "      <td>1</td>\n",
       "      <td>1</td>\n",
       "      <td>1</td>\n",
       "      <td>0</td>\n",
       "      <td>0</td>\n",
       "      <td>4583</td>\n",
       "      <td>1508.0</td>\n",
       "      <td>360.0</td>\n",
       "      <td>1.0</td>\n",
       "      <td>0</td>\n",
       "      <td>0</td>\n",
       "    </tr>\n",
       "    <tr>\n",
       "      <th>2</th>\n",
       "      <td>2</td>\n",
       "      <td>1</td>\n",
       "      <td>0</td>\n",
       "      <td>0</td>\n",
       "      <td>1</td>\n",
       "      <td>3000</td>\n",
       "      <td>0.0</td>\n",
       "      <td>360.0</td>\n",
       "      <td>1.0</td>\n",
       "      <td>2</td>\n",
       "      <td>1</td>\n",
       "    </tr>\n",
       "    <tr>\n",
       "      <th>3</th>\n",
       "      <td>3</td>\n",
       "      <td>1</td>\n",
       "      <td>0</td>\n",
       "      <td>1</td>\n",
       "      <td>0</td>\n",
       "      <td>2583</td>\n",
       "      <td>2358.0</td>\n",
       "      <td>360.0</td>\n",
       "      <td>1.0</td>\n",
       "      <td>2</td>\n",
       "      <td>1</td>\n",
       "    </tr>\n",
       "    <tr>\n",
       "      <th>4</th>\n",
       "      <td>4</td>\n",
       "      <td>1</td>\n",
       "      <td>0</td>\n",
       "      <td>0</td>\n",
       "      <td>0</td>\n",
       "      <td>6000</td>\n",
       "      <td>0.0</td>\n",
       "      <td>360.0</td>\n",
       "      <td>1.0</td>\n",
       "      <td>2</td>\n",
       "      <td>1</td>\n",
       "    </tr>\n",
       "    <tr>\n",
       "      <th>...</th>\n",
       "      <td>...</td>\n",
       "      <td>...</td>\n",
       "      <td>...</td>\n",
       "      <td>...</td>\n",
       "      <td>...</td>\n",
       "      <td>...</td>\n",
       "      <td>...</td>\n",
       "      <td>...</td>\n",
       "      <td>...</td>\n",
       "      <td>...</td>\n",
       "      <td>...</td>\n",
       "    </tr>\n",
       "    <tr>\n",
       "      <th>609</th>\n",
       "      <td>609</td>\n",
       "      <td>0</td>\n",
       "      <td>0</td>\n",
       "      <td>0</td>\n",
       "      <td>0</td>\n",
       "      <td>2900</td>\n",
       "      <td>0.0</td>\n",
       "      <td>360.0</td>\n",
       "      <td>1.0</td>\n",
       "      <td>0</td>\n",
       "      <td>1</td>\n",
       "    </tr>\n",
       "    <tr>\n",
       "      <th>610</th>\n",
       "      <td>610</td>\n",
       "      <td>1</td>\n",
       "      <td>3</td>\n",
       "      <td>0</td>\n",
       "      <td>0</td>\n",
       "      <td>4106</td>\n",
       "      <td>0.0</td>\n",
       "      <td>180.0</td>\n",
       "      <td>1.0</td>\n",
       "      <td>0</td>\n",
       "      <td>1</td>\n",
       "    </tr>\n",
       "    <tr>\n",
       "      <th>611</th>\n",
       "      <td>611</td>\n",
       "      <td>1</td>\n",
       "      <td>1</td>\n",
       "      <td>0</td>\n",
       "      <td>0</td>\n",
       "      <td>8072</td>\n",
       "      <td>240.0</td>\n",
       "      <td>360.0</td>\n",
       "      <td>1.0</td>\n",
       "      <td>2</td>\n",
       "      <td>1</td>\n",
       "    </tr>\n",
       "    <tr>\n",
       "      <th>612</th>\n",
       "      <td>612</td>\n",
       "      <td>1</td>\n",
       "      <td>2</td>\n",
       "      <td>0</td>\n",
       "      <td>0</td>\n",
       "      <td>7583</td>\n",
       "      <td>0.0</td>\n",
       "      <td>360.0</td>\n",
       "      <td>1.0</td>\n",
       "      <td>2</td>\n",
       "      <td>1</td>\n",
       "    </tr>\n",
       "    <tr>\n",
       "      <th>613</th>\n",
       "      <td>613</td>\n",
       "      <td>0</td>\n",
       "      <td>0</td>\n",
       "      <td>0</td>\n",
       "      <td>1</td>\n",
       "      <td>4583</td>\n",
       "      <td>0.0</td>\n",
       "      <td>360.0</td>\n",
       "      <td>0.0</td>\n",
       "      <td>1</td>\n",
       "      <td>0</td>\n",
       "    </tr>\n",
       "  </tbody>\n",
       "</table>\n",
       "<p>588 rows × 11 columns</p>\n",
       "</div>"
      ],
      "text/plain": [
       "     Loan_ID  Gender  Dependents  Education  Self_Employed  ApplicantIncome  \\\n",
       "0          0       1           0          0              0             5849   \n",
       "1          1       1           1          0              0             4583   \n",
       "2          2       1           0          0              1             3000   \n",
       "3          3       1           0          1              0             2583   \n",
       "4          4       1           0          0              0             6000   \n",
       "..       ...     ...         ...        ...            ...              ...   \n",
       "609      609       0           0          0              0             2900   \n",
       "610      610       1           3          0              0             4106   \n",
       "611      611       1           1          0              0             8072   \n",
       "612      612       1           2          0              0             7583   \n",
       "613      613       0           0          0              1             4583   \n",
       "\n",
       "     CoapplicantIncome  Loan_Amount_Term  Credit_History  Property_Area  \\\n",
       "0                  0.0             360.0             1.0              2   \n",
       "1               1508.0             360.0             1.0              0   \n",
       "2                  0.0             360.0             1.0              2   \n",
       "3               2358.0             360.0             1.0              2   \n",
       "4                  0.0             360.0             1.0              2   \n",
       "..                 ...               ...             ...            ...   \n",
       "609                0.0             360.0             1.0              0   \n",
       "610                0.0             180.0             1.0              0   \n",
       "611              240.0             360.0             1.0              2   \n",
       "612                0.0             360.0             1.0              2   \n",
       "613                0.0             360.0             0.0              1   \n",
       "\n",
       "     Loan_Status  \n",
       "0              1  \n",
       "1              0  \n",
       "2              1  \n",
       "3              1  \n",
       "4              1  \n",
       "..           ...  \n",
       "609            1  \n",
       "610            1  \n",
       "611            1  \n",
       "612            1  \n",
       "613            0  \n",
       "\n",
       "[588 rows x 11 columns]"
      ]
     },
     "execution_count": 40,
     "metadata": {},
     "output_type": "execute_result"
    }
   ],
   "source": [
    "df1=df[(z<3).all(axis=1)]\n",
    "df1"
   ]
  },
  {
   "cell_type": "code",
   "execution_count": 41,
   "id": "08cec65e",
   "metadata": {},
   "outputs": [
    {
     "data": {
      "text/plain": [
       "4.234527687296417"
      ]
     },
     "execution_count": 41,
     "metadata": {},
     "output_type": "execute_result"
    }
   ],
   "source": [
    "Dataloss=((614-588)/614)*100\n",
    "Dataloss"
   ]
  },
  {
   "cell_type": "markdown",
   "id": "900e41f6",
   "metadata": {},
   "source": [
    "# Splitting DataFrame"
   ]
  },
  {
   "cell_type": "code",
   "execution_count": 43,
   "id": "4f2b8031",
   "metadata": {},
   "outputs": [
    {
     "data": {
      "text/html": [
       "<div>\n",
       "<style scoped>\n",
       "    .dataframe tbody tr th:only-of-type {\n",
       "        vertical-align: middle;\n",
       "    }\n",
       "\n",
       "    .dataframe tbody tr th {\n",
       "        vertical-align: top;\n",
       "    }\n",
       "\n",
       "    .dataframe thead th {\n",
       "        text-align: right;\n",
       "    }\n",
       "</style>\n",
       "<table border=\"1\" class=\"dataframe\">\n",
       "  <thead>\n",
       "    <tr style=\"text-align: right;\">\n",
       "      <th></th>\n",
       "      <th>Loan_ID</th>\n",
       "      <th>Gender</th>\n",
       "      <th>Dependents</th>\n",
       "      <th>Education</th>\n",
       "      <th>Self_Employed</th>\n",
       "      <th>ApplicantIncome</th>\n",
       "      <th>CoapplicantIncome</th>\n",
       "      <th>Loan_Amount_Term</th>\n",
       "      <th>Credit_History</th>\n",
       "      <th>Property_Area</th>\n",
       "    </tr>\n",
       "  </thead>\n",
       "  <tbody>\n",
       "    <tr>\n",
       "      <th>0</th>\n",
       "      <td>0</td>\n",
       "      <td>1</td>\n",
       "      <td>0</td>\n",
       "      <td>0</td>\n",
       "      <td>0</td>\n",
       "      <td>5849</td>\n",
       "      <td>0.0</td>\n",
       "      <td>360.0</td>\n",
       "      <td>1.0</td>\n",
       "      <td>2</td>\n",
       "    </tr>\n",
       "    <tr>\n",
       "      <th>1</th>\n",
       "      <td>1</td>\n",
       "      <td>1</td>\n",
       "      <td>1</td>\n",
       "      <td>0</td>\n",
       "      <td>0</td>\n",
       "      <td>4583</td>\n",
       "      <td>1508.0</td>\n",
       "      <td>360.0</td>\n",
       "      <td>1.0</td>\n",
       "      <td>0</td>\n",
       "    </tr>\n",
       "    <tr>\n",
       "      <th>2</th>\n",
       "      <td>2</td>\n",
       "      <td>1</td>\n",
       "      <td>0</td>\n",
       "      <td>0</td>\n",
       "      <td>1</td>\n",
       "      <td>3000</td>\n",
       "      <td>0.0</td>\n",
       "      <td>360.0</td>\n",
       "      <td>1.0</td>\n",
       "      <td>2</td>\n",
       "    </tr>\n",
       "    <tr>\n",
       "      <th>3</th>\n",
       "      <td>3</td>\n",
       "      <td>1</td>\n",
       "      <td>0</td>\n",
       "      <td>1</td>\n",
       "      <td>0</td>\n",
       "      <td>2583</td>\n",
       "      <td>2358.0</td>\n",
       "      <td>360.0</td>\n",
       "      <td>1.0</td>\n",
       "      <td>2</td>\n",
       "    </tr>\n",
       "    <tr>\n",
       "      <th>4</th>\n",
       "      <td>4</td>\n",
       "      <td>1</td>\n",
       "      <td>0</td>\n",
       "      <td>0</td>\n",
       "      <td>0</td>\n",
       "      <td>6000</td>\n",
       "      <td>0.0</td>\n",
       "      <td>360.0</td>\n",
       "      <td>1.0</td>\n",
       "      <td>2</td>\n",
       "    </tr>\n",
       "    <tr>\n",
       "      <th>...</th>\n",
       "      <td>...</td>\n",
       "      <td>...</td>\n",
       "      <td>...</td>\n",
       "      <td>...</td>\n",
       "      <td>...</td>\n",
       "      <td>...</td>\n",
       "      <td>...</td>\n",
       "      <td>...</td>\n",
       "      <td>...</td>\n",
       "      <td>...</td>\n",
       "    </tr>\n",
       "    <tr>\n",
       "      <th>609</th>\n",
       "      <td>609</td>\n",
       "      <td>0</td>\n",
       "      <td>0</td>\n",
       "      <td>0</td>\n",
       "      <td>0</td>\n",
       "      <td>2900</td>\n",
       "      <td>0.0</td>\n",
       "      <td>360.0</td>\n",
       "      <td>1.0</td>\n",
       "      <td>0</td>\n",
       "    </tr>\n",
       "    <tr>\n",
       "      <th>610</th>\n",
       "      <td>610</td>\n",
       "      <td>1</td>\n",
       "      <td>3</td>\n",
       "      <td>0</td>\n",
       "      <td>0</td>\n",
       "      <td>4106</td>\n",
       "      <td>0.0</td>\n",
       "      <td>180.0</td>\n",
       "      <td>1.0</td>\n",
       "      <td>0</td>\n",
       "    </tr>\n",
       "    <tr>\n",
       "      <th>611</th>\n",
       "      <td>611</td>\n",
       "      <td>1</td>\n",
       "      <td>1</td>\n",
       "      <td>0</td>\n",
       "      <td>0</td>\n",
       "      <td>8072</td>\n",
       "      <td>240.0</td>\n",
       "      <td>360.0</td>\n",
       "      <td>1.0</td>\n",
       "      <td>2</td>\n",
       "    </tr>\n",
       "    <tr>\n",
       "      <th>612</th>\n",
       "      <td>612</td>\n",
       "      <td>1</td>\n",
       "      <td>2</td>\n",
       "      <td>0</td>\n",
       "      <td>0</td>\n",
       "      <td>7583</td>\n",
       "      <td>0.0</td>\n",
       "      <td>360.0</td>\n",
       "      <td>1.0</td>\n",
       "      <td>2</td>\n",
       "    </tr>\n",
       "    <tr>\n",
       "      <th>613</th>\n",
       "      <td>613</td>\n",
       "      <td>0</td>\n",
       "      <td>0</td>\n",
       "      <td>0</td>\n",
       "      <td>1</td>\n",
       "      <td>4583</td>\n",
       "      <td>0.0</td>\n",
       "      <td>360.0</td>\n",
       "      <td>0.0</td>\n",
       "      <td>1</td>\n",
       "    </tr>\n",
       "  </tbody>\n",
       "</table>\n",
       "<p>588 rows × 10 columns</p>\n",
       "</div>"
      ],
      "text/plain": [
       "     Loan_ID  Gender  Dependents  Education  Self_Employed  ApplicantIncome  \\\n",
       "0          0       1           0          0              0             5849   \n",
       "1          1       1           1          0              0             4583   \n",
       "2          2       1           0          0              1             3000   \n",
       "3          3       1           0          1              0             2583   \n",
       "4          4       1           0          0              0             6000   \n",
       "..       ...     ...         ...        ...            ...              ...   \n",
       "609      609       0           0          0              0             2900   \n",
       "610      610       1           3          0              0             4106   \n",
       "611      611       1           1          0              0             8072   \n",
       "612      612       1           2          0              0             7583   \n",
       "613      613       0           0          0              1             4583   \n",
       "\n",
       "     CoapplicantIncome  Loan_Amount_Term  Credit_History  Property_Area  \n",
       "0                  0.0             360.0             1.0              2  \n",
       "1               1508.0             360.0             1.0              0  \n",
       "2                  0.0             360.0             1.0              2  \n",
       "3               2358.0             360.0             1.0              2  \n",
       "4                  0.0             360.0             1.0              2  \n",
       "..                 ...               ...             ...            ...  \n",
       "609                0.0             360.0             1.0              0  \n",
       "610                0.0             180.0             1.0              0  \n",
       "611              240.0             360.0             1.0              2  \n",
       "612                0.0             360.0             1.0              2  \n",
       "613                0.0             360.0             0.0              1  \n",
       "\n",
       "[588 rows x 10 columns]"
      ]
     },
     "execution_count": 43,
     "metadata": {},
     "output_type": "execute_result"
    }
   ],
   "source": [
    "x=df1.iloc[:,0:10]\n",
    "y=df1.iloc[:,-1]\n",
    "x"
   ]
  },
  {
   "cell_type": "code",
   "execution_count": 44,
   "id": "90c3c9ea",
   "metadata": {},
   "outputs": [
    {
     "data": {
      "text/plain": [
       "Loan_ID             -0.005569\n",
       "Gender              -1.623420\n",
       "Dependents           1.052092\n",
       "Education            1.335777\n",
       "Self_Employed        2.193532\n",
       "ApplicantIncome      2.275513\n",
       "CoapplicantIncome    1.373741\n",
       "Loan_Amount_Term    -2.076968\n",
       "Credit_History      -2.007254\n",
       "Property_Area       -0.051290\n",
       "Loan_Status         -0.826151\n",
       "dtype: float64"
      ]
     },
     "execution_count": 44,
     "metadata": {},
     "output_type": "execute_result"
    }
   ],
   "source": [
    "df1.skew()"
   ]
  },
  {
   "cell_type": "markdown",
   "id": "5d4e7fb4",
   "metadata": {},
   "source": [
    "The below fields are skewed and rest are categorical so no need to be treated\n",
    "ApplicantIncome      2.275513\n",
    "CoapplicantIncome    1.373741\n",
    "Loan_Amount_Term    -2.076968\n",
    "Credit_History      -2.007254"
   ]
  },
  {
   "cell_type": "markdown",
   "id": "e0a1cbf0",
   "metadata": {},
   "source": [
    "# Treating Skewness"
   ]
  },
  {
   "cell_type": "code",
   "execution_count": 45,
   "id": "847d267e",
   "metadata": {},
   "outputs": [],
   "source": [
    "from sklearn.preprocessing import power_transform\n",
    "x=power_transform(x,method='yeo-johnson')"
   ]
  },
  {
   "cell_type": "markdown",
   "id": "697d035e",
   "metadata": {},
   "source": [
    "# Scaling Data"
   ]
  },
  {
   "cell_type": "code",
   "execution_count": 46,
   "id": "6b9d59ac",
   "metadata": {},
   "outputs": [],
   "source": [
    "from sklearn.preprocessing import StandardScaler\n",
    "S=StandardScaler()\n",
    "x=S.fit_transform(x)"
   ]
  },
  {
   "cell_type": "markdown",
   "id": "b8750287",
   "metadata": {},
   "source": [
    "# Logistic Regression as only 2 values in Target Variable"
   ]
  },
  {
   "cell_type": "code",
   "execution_count": 47,
   "id": "d10b5613",
   "metadata": {},
   "outputs": [],
   "source": [
    "from sklearn.model_selection import train_test_split\n",
    "from sklearn.linear_model import LogisticRegression\n",
    "lr=LogisticRegression()\n",
    "from sklearn.metrics import accuracy_score"
   ]
  },
  {
   "cell_type": "code",
   "execution_count": 50,
   "id": "4cd211f5",
   "metadata": {},
   "outputs": [
    {
     "name": "stdout",
     "output_type": "stream",
     "text": [
      "At random state: 16\n",
      "Traning score is :- 81.48936170212767\n",
      "Test score is :- 80.50847457627118\n",
      "At random state: 41\n",
      "Traning score is :- 81.91489361702128\n",
      "Test score is :- 82.20338983050848\n",
      "At random state: 46\n",
      "Traning score is :- 81.91489361702128\n",
      "Test score is :- 82.20338983050848\n"
     ]
    }
   ],
   "source": [
    "l=[]\n",
    "for i in range(1,100):\n",
    "    x_train,x_test,y_train,y_test=train_test_split(x,y,random_state=i,test_size=0.20)\n",
    "    lr.fit(x_train,y_train)\n",
    "    pred_train=lr.predict(x_train)\n",
    "    pred_test=lr.predict(x_test)\n",
    "    if round(accuracy_score(y_train,pred_train)*100,0)==round(accuracy_score(y_test,pred_test)*100,0):\n",
    "        print(\"At random state:\",i)\n",
    "        print(\"Traning score is :-\",accuracy_score(y_train,pred_train)*100)\n",
    "        print(\"Test score is :-\",accuracy_score(y_test,pred_test)*100)\n",
    "        l.append(i)"
   ]
  },
  {
   "cell_type": "markdown",
   "id": "ac80d4aa",
   "metadata": {},
   "source": [
    "we can choose random state 41 "
   ]
  },
  {
   "cell_type": "code",
   "execution_count": 51,
   "id": "4fc87f2a",
   "metadata": {},
   "outputs": [],
   "source": [
    "x_train,x_test,y_train,y_test=train_test_split(x,y,random_state=41,test_size=0.20)\n"
   ]
  },
  {
   "cell_type": "code",
   "execution_count": 52,
   "id": "ded92fbd",
   "metadata": {},
   "outputs": [
    {
     "name": "stdout",
     "output_type": "stream",
     "text": [
      "cv: 2\n",
      "cross validation score is 81.29251700680273\n",
      "Accuracy_score : 81.35593220338984\n",
      "cv: 3\n",
      "cross validation score is 80.44217687074831\n",
      "Accuracy_score : 81.35593220338984\n",
      "cv: 4\n",
      "cross validation score is 81.63265306122449\n",
      "Accuracy_score : 81.35593220338984\n",
      "cv: 5\n",
      "cross validation score is 81.47472113573808\n",
      "Accuracy_score : 81.35593220338984\n",
      "cv: 6\n",
      "cross validation score is 81.29251700680271\n",
      "Accuracy_score : 81.35593220338984\n",
      "cv: 7\n",
      "cross validation score is 81.46258503401359\n",
      "Accuracy_score : 81.35593220338984\n",
      "cv: 8\n",
      "cross validation score is 81.64568678267308\n",
      "Accuracy_score : 81.35593220338984\n",
      "cv: 9\n",
      "cross validation score is 81.46853146853147\n",
      "Accuracy_score : 81.35593220338984\n"
     ]
    }
   ],
   "source": [
    "lr_predict=lr.predict(x_test)\n",
    "from sklearn.model_selection import cross_val_score\n",
    "lss=accuracy_score(y_test,lr_predict)\n",
    "for j in range(2,10):\n",
    "    lssscore=cross_val_score(lr,x,y,cv=j)\n",
    "    lsc=lssscore.mean()\n",
    "    print(\"cv:\",j)\n",
    "    print(\"cross validation score is\",lsc*100)\n",
    "    print(\"Accuracy_score :\",lss*100)"
   ]
  },
  {
   "cell_type": "markdown",
   "id": "3fe313b0",
   "metadata": {},
   "source": [
    "# ROC Curve"
   ]
  },
  {
   "cell_type": "code",
   "execution_count": 60,
   "id": "98bfe3d0",
   "metadata": {},
   "outputs": [
    {
     "data": {
      "text/plain": [
       "[<matplotlib.lines.Line2D at 0x1c61cee7220>]"
      ]
     },
     "execution_count": 60,
     "metadata": {},
     "output_type": "execute_result"
    },
    {
     "data": {
      "image/png": "[encoded data removed]",
      "text/plain": [
       "<Figure size 432x288 with 1 Axes>"
      ]
     },
     "metadata": {
      "needs_background": "light"
     },
     "output_type": "display_data"
    }
   ],
   "source": [
    "from sklearn.metrics import roc_curve,auc\n",
    "fpr,tpr,thresholds=roc_curve(pred_test,y_test)\n",
    "roc_auc=auc(fpr,tpr)\n",
    "\n",
    "plt.figure()\n",
    "plt.plot(fpr,tpr)\n",
    "plt.plot([0,1],[0,1])"
   ]
  },
  {
   "cell_type": "markdown",
   "id": "908703ea",
   "metadata": {},
   "source": [
    "We can select CV=8 as the score is more than other folds"
   ]
  },
  {
   "cell_type": "markdown",
   "id": "91bd3322",
   "metadata": {},
   "source": [
    "# Random Forest Classifier"
   ]
  },
  {
   "cell_type": "code",
   "execution_count": 53,
   "id": "96fc1f4e",
   "metadata": {},
   "outputs": [
    {
     "name": "stdout",
     "output_type": "stream",
     "text": [
      "{'class_weight': 'balanced_subsample', 'criterion': 'entropy', 'max_features': 'auto', 'random_state': 41}\n"
     ]
    }
   ],
   "source": [
    "from sklearn.model_selection import GridSearchCV\n",
    "from sklearn.ensemble import RandomForestClassifier\n",
    "from sklearn.metrics import r2_score\n",
    "\n",
    "parameters = {'criterion':['gini', 'entropy'],'max_features':[\"auto\", \"sqrt\", \"log2\"],'class_weight':[\"balanced\",\"balanced_subsample\"],'random_state':[41]}\n",
    "rf =RandomForestClassifier()\n",
    "FitParameters = GridSearchCV(rf,parameters)\n",
    "FitParameters.fit(x_train,y_train)\n",
    "\n",
    "print(FitParameters.best_params_)"
   ]
  },
  {
   "cell_type": "code",
   "execution_count": 55,
   "id": "9b837cd0",
   "metadata": {},
   "outputs": [
    {
     "name": "stdout",
     "output_type": "stream",
     "text": [
      "              precision    recall  f1-score   support\n",
      "\n",
      "           0       0.44      0.83      0.58        18\n",
      "           1       0.96      0.81      0.88       100\n",
      "\n",
      "    accuracy                           0.81       118\n",
      "   macro avg       0.70      0.82      0.73       118\n",
      "weighted avg       0.88      0.81      0.83       118\n",
      "\n"
     ]
    }
   ],
   "source": [
    "from sklearn.metrics import classification_report\n",
    "rf= RandomForestClassifier(criterion=\"entropy\",max_features=\"auto\",class_weight=\"balanced_subsample\",random_state=41)\n",
    "rf.fit(x_train, y_train)\n",
    "rf.score(x_train, y_train)\n",
    "pred_decision = rf.predict(x_test)\n",
    "print(classification_report(pred_decision,y_test))"
   ]
  },
  {
   "cell_type": "markdown",
   "id": "783f692e",
   "metadata": {},
   "source": [
    "# DTC"
   ]
  },
  {
   "cell_type": "code",
   "execution_count": 56,
   "id": "7e1b5177",
   "metadata": {},
   "outputs": [
    {
     "name": "stdout",
     "output_type": "stream",
     "text": [
      "{'criterion': 'gini', 'max_features': 'auto', 'random_state': 41, 'splitter': 'random'}\n"
     ]
    }
   ],
   "source": [
    "from sklearn.tree import DecisionTreeClassifier\n",
    "parameters = {'criterion':['gini', 'entropy'],'max_features':[\"auto\", \"sqrt\", \"log2\"],'splitter':[\"best\", \"random\"],'random_state':[41]}\n",
    "DTC =DecisionTreeClassifier()\n",
    "FitParameters = GridSearchCV(DTC,parameters)\n",
    "FitParameters.fit(x_train,y_train)\n",
    "print(FitParameters.best_params_)"
   ]
  },
  {
   "cell_type": "code",
   "execution_count": 57,
   "id": "3719defa",
   "metadata": {},
   "outputs": [
    {
     "name": "stdout",
     "output_type": "stream",
     "text": [
      "              precision    recall  f1-score   support\n",
      "\n",
      "           0       0.53      0.50      0.51        36\n",
      "           1       0.79      0.80      0.80        82\n",
      "\n",
      "    accuracy                           0.71       118\n",
      "   macro avg       0.66      0.65      0.65       118\n",
      "weighted avg       0.71      0.71      0.71       118\n",
      "\n"
     ]
    }
   ],
   "source": [
    "from sklearn.metrics import classification_report\n",
    "DTC1= DecisionTreeClassifier(criterion=\"gini\",max_features=\"auto\",random_state=41,splitter=\"random\")\n",
    "DTC1.fit(x_train, y_train)\n",
    "DTC1.score(x_train, y_train)\n",
    "x_predict = DTC1.predict(x_test)\n",
    "print(classification_report(x_predict,y_test))"
   ]
  },
  {
   "cell_type": "markdown",
   "id": "e46c0e30",
   "metadata": {},
   "source": [
    "# SVC"
   ]
  },
  {
   "cell_type": "code",
   "execution_count": 58,
   "id": "2d3951ef",
   "metadata": {},
   "outputs": [
    {
     "name": "stdout",
     "output_type": "stream",
     "text": [
      "{'gamma': 'scale', 'random_state': 41, 'shrinking': True}\n"
     ]
    }
   ],
   "source": [
    "from sklearn import svm\n",
    "parameters = {'gamma':['scale','auto'],'random_state':[41],'shrinking':[True,False]}\n",
    "SVC=svm.SVC()\n",
    "FitParameters = GridSearchCV(SVC,parameters)\n",
    "FitParameters.fit(x_train,y_train)\n",
    "print(FitParameters.best_params_)"
   ]
  },
  {
   "cell_type": "code",
   "execution_count": 59,
   "id": "52aeaf12",
   "metadata": {},
   "outputs": [
    {
     "name": "stdout",
     "output_type": "stream",
     "text": [
      "              precision    recall  f1-score   support\n",
      "\n",
      "           0       0.41      0.88      0.56        16\n",
      "           1       0.98      0.80      0.88       102\n",
      "\n",
      "    accuracy                           0.81       118\n",
      "   macro avg       0.69      0.84      0.72       118\n",
      "weighted avg       0.90      0.81      0.84       118\n",
      "\n"
     ]
    }
   ],
   "source": [
    "svc= svm.SVC(gamma=\"scale\",random_state=41,shrinking=True)\n",
    "svc.fit(x_train, y_train)\n",
    "svc.score(x_train, y_train)\n",
    "x_predict = svc.predict(x_test)\n",
    "print(classification_report(x_predict,y_test))"
   ]
  },
  {
   "cell_type": "markdown",
   "id": "700dab4f",
   "metadata": {},
   "source": [
    "# Guassian Naive Bayes"
   ]
  },
  {
   "cell_type": "code",
   "execution_count": 61,
   "id": "0dfb5672",
   "metadata": {},
   "outputs": [
    {
     "name": "stdout",
     "output_type": "stream",
     "text": [
      "              precision    recall  f1-score   support\n",
      "\n",
      "           0       0.47      0.89      0.62        18\n",
      "           1       0.98      0.82      0.89       100\n",
      "\n",
      "    accuracy                           0.83       118\n",
      "   macro avg       0.72      0.85      0.75       118\n",
      "weighted avg       0.90      0.83      0.85       118\n",
      "\n"
     ]
    }
   ],
   "source": [
    "from sklearn.naive_bayes import GaussianNB\n",
    "gnb =GaussianNB()\n",
    "gnb.fit(x_train, y_train)\n",
    "gnb.score(x_train, y_train)\n",
    "x_predict = gnb.predict(x_test)\n",
    "\n",
    "print(classification_report(x_predict,y_test))\n"
   ]
  },
  {
   "cell_type": "markdown",
   "id": "d5add717",
   "metadata": {},
   "source": [
    "From all the above Gaussian Naive Bayes is the best algorithm"
   ]
  },
  {
   "cell_type": "code",
   "execution_count": 64,
   "id": "e2f5f5ed",
   "metadata": {},
   "outputs": [],
   "source": [
    "import pickle\n",
    "filename = 'LS.pkl'\n",
    "pickle.dump(gnb, open(filename, 'wb'))"
   ]
  },
  {
   "cell_type": "code",
   "execution_count": 65,
   "id": "1751ca20",
   "metadata": {},
   "outputs": [
    {
     "data": {
      "text/plain": [
       "array([1, 0, 0, 0, 1, 1, 1, 1, 1, 1, 1, 1, 1, 1, 1, 0, 0, 1, 1, 1, 0, 0,\n",
       "       1, 0, 1, 1, 1, 1, 1, 1, 1, 0, 1, 0, 1, 0, 1, 0, 0, 1, 1, 1, 1, 0,\n",
       "       1, 1, 0, 1, 0, 1, 1, 1, 0, 1, 1, 1, 1, 1, 0, 0, 1, 0, 1, 1, 1, 1,\n",
       "       0, 1, 0, 1, 0, 1, 1, 1, 1, 0, 1, 0, 1, 1, 1, 1, 1, 1, 1, 1, 0, 1,\n",
       "       1, 1, 0, 1, 1, 0, 1, 1, 1, 1, 0, 0, 0, 1, 1, 1, 1, 1, 1, 1, 0, 1,\n",
       "       1, 0, 1, 1, 1, 1, 0, 1])"
      ]
     },
     "execution_count": 65,
     "metadata": {},
     "output_type": "execute_result"
    }
   ],
   "source": [
    "import numpy as np\n",
    "a=np.array(y_test)\n",
    "a"
   ]
  },
  {
   "cell_type": "code",
   "execution_count": 66,
   "id": "85007f32",
   "metadata": {},
   "outputs": [
    {
     "data": {
      "text/plain": [
       "array([1, 0, 0, 1, 1, 1, 1, 1, 1, 1, 1, 1, 1, 1, 1, 0, 1, 1, 1, 1, 1, 0,\n",
       "       1, 0, 1, 1, 1, 1, 1, 1, 1, 1, 1, 0, 1, 1, 1, 0, 0, 1, 1, 1, 1, 1,\n",
       "       1, 1, 1, 1, 0, 1, 1, 0, 0, 1, 1, 1, 1, 1, 1, 0, 1, 1, 1, 1, 1, 1,\n",
       "       1, 1, 1, 1, 0, 0, 1, 1, 1, 1, 1, 0, 1, 1, 1, 1, 1, 1, 1, 1, 0, 1,\n",
       "       1, 1, 0, 1, 1, 1, 1, 1, 1, 1, 1, 1, 1, 1, 1, 1, 1, 1, 1, 1, 0, 1,\n",
       "       1, 1, 1, 1, 1, 1, 1, 1])"
      ]
     },
     "execution_count": 66,
     "metadata": {},
     "output_type": "execute_result"
    }
   ],
   "source": [
    "predicted=np.array(gnb.predict(x_test))\n",
    "predicted"
   ]
  },
  {
   "cell_type": "code",
   "execution_count": 67,
   "id": "dad0a56c",
   "metadata": {},
   "outputs": [
    {
     "data": {
      "text/html": [
       "<div>\n",
       "<style scoped>\n",
       "    .dataframe tbody tr th:only-of-type {\n",
       "        vertical-align: middle;\n",
       "    }\n",
       "\n",
       "    .dataframe tbody tr th {\n",
       "        vertical-align: top;\n",
       "    }\n",
       "\n",
       "    .dataframe thead th {\n",
       "        text-align: right;\n",
       "    }\n",
       "</style>\n",
       "<table border=\"1\" class=\"dataframe\">\n",
       "  <thead>\n",
       "    <tr style=\"text-align: right;\">\n",
       "      <th></th>\n",
       "      <th>original</th>\n",
       "      <th>predicted</th>\n",
       "    </tr>\n",
       "  </thead>\n",
       "  <tbody>\n",
       "    <tr>\n",
       "      <th>0</th>\n",
       "      <td>1</td>\n",
       "      <td>1</td>\n",
       "    </tr>\n",
       "    <tr>\n",
       "      <th>1</th>\n",
       "      <td>0</td>\n",
       "      <td>0</td>\n",
       "    </tr>\n",
       "    <tr>\n",
       "      <th>2</th>\n",
       "      <td>0</td>\n",
       "      <td>0</td>\n",
       "    </tr>\n",
       "    <tr>\n",
       "      <th>3</th>\n",
       "      <td>0</td>\n",
       "      <td>1</td>\n",
       "    </tr>\n",
       "    <tr>\n",
       "      <th>4</th>\n",
       "      <td>1</td>\n",
       "      <td>1</td>\n",
       "    </tr>\n",
       "    <tr>\n",
       "      <th>...</th>\n",
       "      <td>...</td>\n",
       "      <td>...</td>\n",
       "    </tr>\n",
       "    <tr>\n",
       "      <th>113</th>\n",
       "      <td>1</td>\n",
       "      <td>1</td>\n",
       "    </tr>\n",
       "    <tr>\n",
       "      <th>114</th>\n",
       "      <td>1</td>\n",
       "      <td>1</td>\n",
       "    </tr>\n",
       "    <tr>\n",
       "      <th>115</th>\n",
       "      <td>1</td>\n",
       "      <td>1</td>\n",
       "    </tr>\n",
       "    <tr>\n",
       "      <th>116</th>\n",
       "      <td>0</td>\n",
       "      <td>1</td>\n",
       "    </tr>\n",
       "    <tr>\n",
       "      <th>117</th>\n",
       "      <td>1</td>\n",
       "      <td>1</td>\n",
       "    </tr>\n",
       "  </tbody>\n",
       "</table>\n",
       "<p>118 rows × 2 columns</p>\n",
       "</div>"
      ],
      "text/plain": [
       "     original  predicted\n",
       "0           1          1\n",
       "1           0          0\n",
       "2           0          0\n",
       "3           0          1\n",
       "4           1          1\n",
       "..        ...        ...\n",
       "113         1          1\n",
       "114         1          1\n",
       "115         1          1\n",
       "116         0          1\n",
       "117         1          1\n",
       "\n",
       "[118 rows x 2 columns]"
      ]
     },
     "execution_count": 67,
     "metadata": {},
     "output_type": "execute_result"
    }
   ],
   "source": [
    "conclusion=pd.DataFrame({\"original\":a,\"predicted\":predicted}, index= range(len(a)))\n",
    "conclusion"
   ]
  },
  {
   "cell_type": "code",
   "execution_count": null,
   "id": "fb75da74",
   "metadata": {},
   "outputs": [],
   "source": []
  }
 ],
 "metadata": {
  "kernelspec": {
   "display_name": "Python 3",
   "language": "python",
   "name": "python3"
  },
  "language_info": {
   "codemirror_mode": {
    "name": "ipython",
    "version": 3
   },
   "file_extension": ".py",
   "mimetype": "text/x-python",
   "name": "python",
   "nbconvert_exporter": "python",
   "pygments_lexer": "ipython3",
   "version": "3.8.8"
  }
 },
 "nbformat": 4,
 "nbformat_minor": 5
}
